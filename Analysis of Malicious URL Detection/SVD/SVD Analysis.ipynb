{
 "cells": [
  {
   "cell_type": "code",
   "execution_count": 1,
   "id": "3e8db43c",
   "metadata": {},
   "outputs": [],
   "source": [
    "import numpy as np \n",
    "import pandas as pd \n",
    "import matplotlib.pyplot as plt\n",
    "import seaborn as sns\n",
    "from urllib.parse import urlparse\n",
    "from tld import get_tld\n",
    "import re\n",
    "from sklearn.model_selection import train_test_split\n",
    "import seaborn as sb\n",
    "import warnings\n",
    "warnings.filterwarnings('ignore')\n",
    "from sklearn.svm import SVC\n",
    "from sklearn.linear_model import LogisticRegression\n",
    "from sklearn.tree import DecisionTreeClassifier\n",
    "from sklearn.ensemble import RandomForestClassifier\n",
    "from sklearn.feature_extraction.text import CountVectorizer\n",
    "from sklearn.feature_extraction.text import TfidfVectorizer\n",
    "from sklearn.multiclass import OneVsRestClassifier\n",
    "from sklearn.multiclass import OneVsOneClassifier\n",
    "from sklearn.model_selection import cross_validate\n",
    "from sklearn.preprocessing import MultiLabelBinarizer\n",
    "from sklearn.metrics import f1_score,log_loss,precision_score,recall_score,make_scorer,accuracy_score\n",
    "import json"
   ]
  },
  {
   "cell_type": "code",
   "execution_count": 2,
   "id": "c4b026c6",
   "metadata": {},
   "outputs": [],
   "source": [
    "from sklearn.decomposition import TruncatedSVD"
   ]
  },
  {
   "cell_type": "code",
   "execution_count": 3,
   "id": "952549fb",
   "metadata": {},
   "outputs": [
    {
     "data": {
      "text/html": [
       "<div>\n",
       "<style scoped>\n",
       "    .dataframe tbody tr th:only-of-type {\n",
       "        vertical-align: middle;\n",
       "    }\n",
       "\n",
       "    .dataframe tbody tr th {\n",
       "        vertical-align: top;\n",
       "    }\n",
       "\n",
       "    .dataframe thead th {\n",
       "        text-align: right;\n",
       "    }\n",
       "</style>\n",
       "<table border=\"1\" class=\"dataframe\">\n",
       "  <thead>\n",
       "    <tr style=\"text-align: right;\">\n",
       "      <th></th>\n",
       "      <th>url</th>\n",
       "      <th>result</th>\n",
       "    </tr>\n",
       "  </thead>\n",
       "  <tbody>\n",
       "    <tr>\n",
       "      <th>0</th>\n",
       "      <td>http://player.polyv.net/videos/3ee850a192d81e2...</td>\n",
       "      <td>2</td>\n",
       "    </tr>\n",
       "    <tr>\n",
       "      <th>1</th>\n",
       "      <td>http://www.hmaca.com/winnipeg-accounting-blog</td>\n",
       "      <td>1</td>\n",
       "    </tr>\n",
       "    <tr>\n",
       "      <th>2</th>\n",
       "      <td>http://www.generalcustom.com.br/index.php?opti...</td>\n",
       "      <td>1</td>\n",
       "    </tr>\n",
       "    <tr>\n",
       "      <th>3</th>\n",
       "      <td>http://bigcinema.tv/tag/%D0%94%D0%B8%D1%80%D0%...</td>\n",
       "      <td>0</td>\n",
       "    </tr>\n",
       "    <tr>\n",
       "      <th>4</th>\n",
       "      <td>http://www.hafenrocker.de/news/119-news-210920...</td>\n",
       "      <td>1</td>\n",
       "    </tr>\n",
       "    <tr>\n",
       "      <th>...</th>\n",
       "      <td>...</td>\n",
       "      <td>...</td>\n",
       "    </tr>\n",
       "    <tr>\n",
       "      <th>132287</th>\n",
       "      <td>http://masterstrans.com/component/contact/1</td>\n",
       "      <td>1</td>\n",
       "    </tr>\n",
       "    <tr>\n",
       "      <th>132288</th>\n",
       "      <td>http://www.tvmiros.gr/parousiasi-tou-sxediou-m...</td>\n",
       "      <td>1</td>\n",
       "    </tr>\n",
       "    <tr>\n",
       "      <th>132289</th>\n",
       "      <td>https://twitter.com/home?status=%E3%83%8C%E3%8...</td>\n",
       "      <td>0</td>\n",
       "    </tr>\n",
       "    <tr>\n",
       "      <th>132290</th>\n",
       "      <td>http://schertzauto.com/wp-content/themes/NAPA%...</td>\n",
       "      <td>2</td>\n",
       "    </tr>\n",
       "    <tr>\n",
       "      <th>132291</th>\n",
       "      <td>http://archive.dissent.org.uk/component/option</td>\n",
       "      <td>4</td>\n",
       "    </tr>\n",
       "  </tbody>\n",
       "</table>\n",
       "<p>132292 rows × 2 columns</p>\n",
       "</div>"
      ],
      "text/plain": [
       "                                                      url  result\n",
       "0       http://player.polyv.net/videos/3ee850a192d81e2...       2\n",
       "1           http://www.hmaca.com/winnipeg-accounting-blog       1\n",
       "2       http://www.generalcustom.com.br/index.php?opti...       1\n",
       "3       http://bigcinema.tv/tag/%D0%94%D0%B8%D1%80%D0%...       0\n",
       "4       http://www.hafenrocker.de/news/119-news-210920...       1\n",
       "...                                                   ...     ...\n",
       "132287        http://masterstrans.com/component/contact/1       1\n",
       "132288  http://www.tvmiros.gr/parousiasi-tou-sxediou-m...       1\n",
       "132289  https://twitter.com/home?status=%E3%83%8C%E3%8...       0\n",
       "132290  http://schertzauto.com/wp-content/themes/NAPA%...       2\n",
       "132291     http://archive.dissent.org.uk/component/option       4\n",
       "\n",
       "[132292 rows x 2 columns]"
      ]
     },
     "execution_count": 3,
     "metadata": {},
     "output_type": "execute_result"
    }
   ],
   "source": [
    "train = pd.read_csv(\"train_set.csv\")\n",
    "train"
   ]
  },
  {
   "cell_type": "code",
   "execution_count": 4,
   "id": "826a2171",
   "metadata": {},
   "outputs": [
    {
     "data": {
      "text/html": [
       "<div>\n",
       "<style scoped>\n",
       "    .dataframe tbody tr th:only-of-type {\n",
       "        vertical-align: middle;\n",
       "    }\n",
       "\n",
       "    .dataframe tbody tr th {\n",
       "        vertical-align: top;\n",
       "    }\n",
       "\n",
       "    .dataframe thead th {\n",
       "        text-align: right;\n",
       "    }\n",
       "</style>\n",
       "<table border=\"1\" class=\"dataframe\">\n",
       "  <thead>\n",
       "    <tr style=\"text-align: right;\">\n",
       "      <th></th>\n",
       "      <th>url</th>\n",
       "      <th>result</th>\n",
       "    </tr>\n",
       "  </thead>\n",
       "  <tbody>\n",
       "    <tr>\n",
       "      <th>0</th>\n",
       "      <td>http://jmrsl.net/index.php?option=com_jevents&amp;...</td>\n",
       "      <td>1</td>\n",
       "    </tr>\n",
       "    <tr>\n",
       "      <th>1</th>\n",
       "      <td>http://www.ekwdesign.de/referenzen/corporate-d...</td>\n",
       "      <td>1</td>\n",
       "    </tr>\n",
       "    <tr>\n",
       "      <th>2</th>\n",
       "      <td>http://img25.artxun.com/sdd/oldimg/5dfd/5dfd94...</td>\n",
       "      <td>2</td>\n",
       "    </tr>\n",
       "    <tr>\n",
       "      <th>3</th>\n",
       "      <td>http://yourdayyourbudget.com/index.php?option=...</td>\n",
       "      <td>1</td>\n",
       "    </tr>\n",
       "    <tr>\n",
       "      <th>4</th>\n",
       "      <td>http://www.modconsolas.com/portal/index.php?li...</td>\n",
       "      <td>1</td>\n",
       "    </tr>\n",
       "    <tr>\n",
       "      <th>...</th>\n",
       "      <td>...</td>\n",
       "      <td>...</td>\n",
       "    </tr>\n",
       "    <tr>\n",
       "      <th>16532</th>\n",
       "      <td>http://bisaneema.org/%e0%a4%87%e0%a4%a4%e0%a4%...</td>\n",
       "      <td>2</td>\n",
       "    </tr>\n",
       "    <tr>\n",
       "      <th>16533</th>\n",
       "      <td>http://drogheriapreti.com/chi-siamo.html</td>\n",
       "      <td>1</td>\n",
       "    </tr>\n",
       "    <tr>\n",
       "      <th>16534</th>\n",
       "      <td>http://otomoto.pl/oferta/renault-trafic-zareje...</td>\n",
       "      <td>0</td>\n",
       "    </tr>\n",
       "    <tr>\n",
       "      <th>16535</th>\n",
       "      <td>http://www.bishopstrings.com/violins/ยฃ5000-ยฃ...</td>\n",
       "      <td>1</td>\n",
       "    </tr>\n",
       "    <tr>\n",
       "      <th>16536</th>\n",
       "      <td>http://atwiki.jp/wiki/%E6%93%AC%E4%BA%BA%E3%82...</td>\n",
       "      <td>0</td>\n",
       "    </tr>\n",
       "  </tbody>\n",
       "</table>\n",
       "<p>16537 rows × 2 columns</p>\n",
       "</div>"
      ],
      "text/plain": [
       "                                                     url  result\n",
       "0      http://jmrsl.net/index.php?option=com_jevents&...       1\n",
       "1      http://www.ekwdesign.de/referenzen/corporate-d...       1\n",
       "2      http://img25.artxun.com/sdd/oldimg/5dfd/5dfd94...       2\n",
       "3      http://yourdayyourbudget.com/index.php?option=...       1\n",
       "4      http://www.modconsolas.com/portal/index.php?li...       1\n",
       "...                                                  ...     ...\n",
       "16532  http://bisaneema.org/%e0%a4%87%e0%a4%a4%e0%a4%...       2\n",
       "16533           http://drogheriapreti.com/chi-siamo.html       1\n",
       "16534  http://otomoto.pl/oferta/renault-trafic-zareje...       0\n",
       "16535  http://www.bishopstrings.com/violins/ยฃ5000-ยฃ...       1\n",
       "16536  http://atwiki.jp/wiki/%E6%93%AC%E4%BA%BA%E3%82...       0\n",
       "\n",
       "[16537 rows x 2 columns]"
      ]
     },
     "execution_count": 4,
     "metadata": {},
     "output_type": "execute_result"
    }
   ],
   "source": [
    "valid = pd.read_csv(\"valid_set.csv\")\n",
    "valid"
   ]
  },
  {
   "cell_type": "code",
   "execution_count": 5,
   "id": "07451ff8",
   "metadata": {},
   "outputs": [
    {
     "data": {
      "text/html": [
       "<div>\n",
       "<style scoped>\n",
       "    .dataframe tbody tr th:only-of-type {\n",
       "        vertical-align: middle;\n",
       "    }\n",
       "\n",
       "    .dataframe tbody tr th {\n",
       "        vertical-align: top;\n",
       "    }\n",
       "\n",
       "    .dataframe thead th {\n",
       "        text-align: right;\n",
       "    }\n",
       "</style>\n",
       "<table border=\"1\" class=\"dataframe\">\n",
       "  <thead>\n",
       "    <tr style=\"text-align: right;\">\n",
       "      <th></th>\n",
       "      <th>url</th>\n",
       "      <th>result</th>\n",
       "    </tr>\n",
       "  </thead>\n",
       "  <tbody>\n",
       "    <tr>\n",
       "      <th>0</th>\n",
       "      <td>http://www.jin0044.com/cl/?module=System&amp;metho...</td>\n",
       "      <td>2</td>\n",
       "    </tr>\n",
       "    <tr>\n",
       "      <th>1</th>\n",
       "      <td>http://bjgdhm.com/show_products.asp?id=433</td>\n",
       "      <td>1</td>\n",
       "    </tr>\n",
       "    <tr>\n",
       "      <th>2</th>\n",
       "      <td>http://www.masseny.de/index.php?option=com_pho...</td>\n",
       "      <td>1</td>\n",
       "    </tr>\n",
       "    <tr>\n",
       "      <th>3</th>\n",
       "      <td>http://maybank2u.com.my/mbb_info/m2u/public/pe...</td>\n",
       "      <td>0</td>\n",
       "    </tr>\n",
       "    <tr>\n",
       "      <th>4</th>\n",
       "      <td>http://yourlust.com/videos/picked-up-whore-kar...</td>\n",
       "      <td>0</td>\n",
       "    </tr>\n",
       "    <tr>\n",
       "      <th>...</th>\n",
       "      <td>...</td>\n",
       "      <td>...</td>\n",
       "    </tr>\n",
       "    <tr>\n",
       "      <th>16532</th>\n",
       "      <td>http://www.lisambiental.com.br/x.txt</td>\n",
       "      <td>1</td>\n",
       "    </tr>\n",
       "    <tr>\n",
       "      <th>16533</th>\n",
       "      <td>http://pflegeheim-lausitz.de/index.php?option=...</td>\n",
       "      <td>1</td>\n",
       "    </tr>\n",
       "    <tr>\n",
       "      <th>16534</th>\n",
       "      <td>http://www.shekinahphotography.co.za/index.php...</td>\n",
       "      <td>1</td>\n",
       "    </tr>\n",
       "    <tr>\n",
       "      <th>16535</th>\n",
       "      <td>http://wddga.com/index.html?limitstart=20&amp;font...</td>\n",
       "      <td>1</td>\n",
       "    </tr>\n",
       "    <tr>\n",
       "      <th>16536</th>\n",
       "      <td>http://www.selbsthilfegruppen.at/index.php?opt...</td>\n",
       "      <td>1</td>\n",
       "    </tr>\n",
       "  </tbody>\n",
       "</table>\n",
       "<p>16537 rows × 2 columns</p>\n",
       "</div>"
      ],
      "text/plain": [
       "                                                     url  result\n",
       "0      http://www.jin0044.com/cl/?module=System&metho...       2\n",
       "1             http://bjgdhm.com/show_products.asp?id=433       1\n",
       "2      http://www.masseny.de/index.php?option=com_pho...       1\n",
       "3      http://maybank2u.com.my/mbb_info/m2u/public/pe...       0\n",
       "4      http://yourlust.com/videos/picked-up-whore-kar...       0\n",
       "...                                                  ...     ...\n",
       "16532               http://www.lisambiental.com.br/x.txt       1\n",
       "16533  http://pflegeheim-lausitz.de/index.php?option=...       1\n",
       "16534  http://www.shekinahphotography.co.za/index.php...       1\n",
       "16535  http://wddga.com/index.html?limitstart=20&font...       1\n",
       "16536  http://www.selbsthilfegruppen.at/index.php?opt...       1\n",
       "\n",
       "[16537 rows x 2 columns]"
      ]
     },
     "execution_count": 5,
     "metadata": {},
     "output_type": "execute_result"
    }
   ],
   "source": [
    "test = pd.read_csv(\"test_set.csv\")\n",
    "test"
   ]
  },
  {
   "cell_type": "code",
   "execution_count": 6,
   "id": "7fa42f78",
   "metadata": {},
   "outputs": [],
   "source": [
    "data=[train,valid]\n",
    "train = pd.concat(data)"
   ]
  },
  {
   "cell_type": "markdown",
   "id": "57e1d722",
   "metadata": {},
   "source": [
    "## TF-IDF"
   ]
  },
  {
   "cell_type": "code",
   "execution_count": 7,
   "id": "083a8a51",
   "metadata": {},
   "outputs": [
    {
     "data": {
      "text/plain": [
       "(148829, 133)"
      ]
     },
     "execution_count": 7,
     "metadata": {},
     "output_type": "execute_result"
    }
   ],
   "source": [
    "vectorizer = TfidfVectorizer(analyzer='char')\n",
    "train_vec = vectorizer.fit_transform(train['url'])\n",
    "train_vec.shape"
   ]
  },
  {
   "cell_type": "code",
   "execution_count": 8,
   "id": "361db564",
   "metadata": {},
   "outputs": [],
   "source": [
    "# valid_vec = vectorizer.transform(valid['url'])\n",
    "# valid_vec.shape"
   ]
  },
  {
   "cell_type": "code",
   "execution_count": 9,
   "id": "3e918723",
   "metadata": {},
   "outputs": [
    {
     "data": {
      "text/plain": [
       "(16537, 133)"
      ]
     },
     "execution_count": 9,
     "metadata": {},
     "output_type": "execute_result"
    }
   ],
   "source": [
    "test_vec = vectorizer.transform(test['url'])\n",
    "test_vec.shape"
   ]
  },
  {
   "cell_type": "code",
   "execution_count": 10,
   "id": "21338a1d",
   "metadata": {},
   "outputs": [
    {
     "data": {
      "text/plain": [
       "TruncatedSVD(n_components=50, n_iter=7, random_state=42)"
      ]
     },
     "execution_count": 10,
     "metadata": {},
     "output_type": "execute_result"
    }
   ],
   "source": [
    "svd = TruncatedSVD(n_components=50, n_iter=7, random_state=42)\n",
    "svd.fit(train_vec)"
   ]
  },
  {
   "cell_type": "code",
   "execution_count": 11,
   "id": "bbbdd713",
   "metadata": {},
   "outputs": [
    {
     "name": "stdout",
     "output_type": "stream",
     "text": [
      "[0.13834651588094452, 0.1267890436758684, 0.08286089597971004, 0.07355071728555097, 0.06487122566660353, 0.034005149315350765, 0.031231954398104004, 0.027951363499587514, 0.024270656932545476, 0.02200275806615761, 0.02111004388030905, 0.018606628910587824, 0.01758937026201287, 0.01667936262879142, 0.015965242225266768, 0.015224530146208233, 0.014365801600216834, 0.01400922299746039, 0.013189298677434881, 0.012912282259187025, 0.012264086965753571, 0.012126230252424557, 0.011133366261941696, 0.010784442664863423, 0.010503934899201938, 0.010347945959342306, 0.010028116439655359, 0.009859805962636841, 0.009541745502570713, 0.009067187362102982, 0.008878291550065089, 0.008778097053142975, 0.008506034482244702, 0.008035850711380535, 0.0077705832333961255, 0.007524405636758071, 0.007168735309097846, 0.006983125792688302, 0.006792748584635589, 0.0062840330707965705, 0.005980473024085048, 0.005454653696765143, 0.00422764439289028, 0.0027378950075350335, 0.002693601563201471, 0.0019963052720303087, 0.001706651141540978, 0.0010716736963290068, 0.000730520455443111, 0.0007075255233614145]\n"
     ]
    }
   ],
   "source": [
    "#sort values and corresponding features/vectors\n",
    "#using svd on 'n' vectors again \n",
    "var_sorted = svd.explained_variance_ratio_.tolist()\n",
    "var_sorted.sort(reverse = True)\n",
    "print(var_sorted)"
   ]
  },
  {
   "cell_type": "code",
   "execution_count": 28,
   "id": "bf37cd47",
   "metadata": {},
   "outputs": [],
   "source": [
    "variance = svd.explained_variance_ratio_.tolist()"
   ]
  },
  {
   "cell_type": "code",
   "execution_count": 30,
   "id": "d1e7a847",
   "metadata": {},
   "outputs": [
    {
     "data": {
      "text/plain": [
       "[1,\n",
       " 0,\n",
       " 2,\n",
       " 3,\n",
       " 4,\n",
       " 5,\n",
       " 6,\n",
       " 7,\n",
       " 8,\n",
       " 9,\n",
       " 10,\n",
       " 11,\n",
       " 12,\n",
       " 13,\n",
       " 14,\n",
       " 15,\n",
       " 16,\n",
       " 17,\n",
       " 18,\n",
       " 19,\n",
       " 20,\n",
       " 21,\n",
       " 22,\n",
       " 23,\n",
       " 24,\n",
       " 25,\n",
       " 26,\n",
       " 27,\n",
       " 28,\n",
       " 29,\n",
       " 30,\n",
       " 31,\n",
       " 32,\n",
       " 33,\n",
       " 34,\n",
       " 35,\n",
       " 36,\n",
       " 37,\n",
       " 38,\n",
       " 39,\n",
       " 40,\n",
       " 41,\n",
       " 42,\n",
       " 43,\n",
       " 44,\n",
       " 45,\n",
       " 46,\n",
       " 47,\n",
       " 48,\n",
       " 49,\n",
       " 50,\n",
       " 51,\n",
       " 52,\n",
       " 53,\n",
       " 54,\n",
       " 55,\n",
       " 56,\n",
       " 57,\n",
       " 58,\n",
       " 59,\n",
       " 60,\n",
       " 61,\n",
       " 62,\n",
       " 63,\n",
       " 64,\n",
       " 65,\n",
       " 66,\n",
       " 67,\n",
       " 68,\n",
       " 69,\n",
       " 70,\n",
       " 71,\n",
       " 72,\n",
       " 73,\n",
       " 74,\n",
       " 75,\n",
       " 76,\n",
       " 77,\n",
       " 78,\n",
       " 79,\n",
       " 80,\n",
       " 81,\n",
       " 82,\n",
       " 83,\n",
       " 84,\n",
       " 85,\n",
       " 86,\n",
       " 87,\n",
       " 88,\n",
       " 89,\n",
       " 90,\n",
       " 91,\n",
       " 92,\n",
       " 93,\n",
       " 94,\n",
       " 95,\n",
       " 96,\n",
       " 97,\n",
       " 98,\n",
       " 99,\n",
       " 100,\n",
       " 101,\n",
       " 102,\n",
       " 103,\n",
       " 104,\n",
       " 105,\n",
       " 106,\n",
       " 107,\n",
       " 108,\n",
       " 109,\n",
       " 110,\n",
       " 111,\n",
       " 112,\n",
       " 113,\n",
       " 114,\n",
       " 115,\n",
       " 116,\n",
       " 117,\n",
       " 118,\n",
       " 119,\n",
       " 120,\n",
       " 121,\n",
       " 122,\n",
       " 123,\n",
       " 124,\n",
       " 125,\n",
       " 127,\n",
       " 126,\n",
       " 128]"
      ]
     },
     "execution_count": 30,
     "metadata": {},
     "output_type": "execute_result"
    }
   ],
   "source": [
    "sorted(range(len(variance)), key=lambda k: variance[k], reverse = True)"
   ]
  },
  {
   "cell_type": "code",
   "execution_count": 31,
   "id": "f354e673",
   "metadata": {},
   "outputs": [],
   "source": [
    "svd1_train_vec = svd.transform(train_vec)\n",
    "svd1_test_vec = svd.transform(test_vec)"
   ]
  },
  {
   "cell_type": "code",
   "execution_count": 36,
   "id": "90093bfc",
   "metadata": {},
   "outputs": [],
   "source": [
    "svd2 = TruncatedSVD(n_components=31, n_iter=7, random_state=42)"
   ]
  },
  {
   "cell_type": "code",
   "execution_count": 37,
   "id": "0afb3743",
   "metadata": {},
   "outputs": [
    {
     "data": {
      "text/plain": [
       "TruncatedSVD(n_components=31, n_iter=7, random_state=42)"
      ]
     },
     "execution_count": 37,
     "metadata": {},
     "output_type": "execute_result"
    }
   ],
   "source": [
    "svd2.fit(svd1_train_vec)"
   ]
  },
  {
   "cell_type": "code",
   "execution_count": 38,
   "id": "2b0f75df",
   "metadata": {},
   "outputs": [],
   "source": [
    "svd2_train_vec = svd2.transform(svd1_train_vec)\n",
    "svd2_test_vec = svd2.transform(svd1_test_vec)"
   ]
  },
  {
   "cell_type": "code",
   "execution_count": 43,
   "id": "b08b6bf4",
   "metadata": {},
   "outputs": [
    {
     "data": {
      "text/plain": [
       "array([[ 1.07628377e+01,  1.64475730e+00, -4.24136174e-02, ...,\n",
       "         1.85699953e+00,  3.86533005e-01,  1.14221653e+00],\n",
       "       [ 8.90179912e+00, -2.02272768e+00, -1.05266528e+00, ...,\n",
       "        -1.34852347e+00,  1.54777254e-01, -2.11631643e-01],\n",
       "       [ 3.94331398e+01, -2.97273507e+00,  1.80022969e+01, ...,\n",
       "         7.75845147e-01,  1.56670727e+00,  4.71250647e+00],\n",
       "       ...,\n",
       "       [ 1.72066365e+01, -2.39587231e+00, -2.41194499e+00, ...,\n",
       "         7.29614403e-01, -3.73826582e-01, -5.60624176e-01],\n",
       "       [ 1.03132650e+01, -2.15889942e+00, -5.57755741e-01, ...,\n",
       "        -1.59702345e+00,  4.90121143e-01,  6.29749908e-01],\n",
       "       [ 1.64965994e+01,  2.42933418e+01, -4.04648347e+00, ...,\n",
       "         1.13445904e-03,  5.13565913e-01, -8.75751641e-01]])"
      ]
     },
     "execution_count": 43,
     "metadata": {},
     "output_type": "execute_result"
    }
   ],
   "source": [
    "svd2_train_vec"
   ]
  },
  {
   "cell_type": "code",
   "execution_count": 44,
   "id": "403426f2",
   "metadata": {},
   "outputs": [
    {
     "data": {
      "text/plain": [
       "array([[18.12205817, -3.01299005, -2.24474798, ..., -0.4344279 ,\n",
       "         0.7437449 , -0.29299708],\n",
       "       [ 7.34520811, -0.99200618,  1.69889248, ..., -0.15003034,\n",
       "         1.01955673,  1.26138819],\n",
       "       [24.23130766, -2.79443276, -1.93713536, ..., -0.77172994,\n",
       "         0.81201439,  0.30402426],\n",
       "       ...,\n",
       "       [18.30534051, -3.31396268, -1.43440251, ..., -0.05401858,\n",
       "         0.43391056,  0.67001695],\n",
       "       [11.92482559, -2.09976293, -1.38768957, ...,  0.16815862,\n",
       "         1.02479066, -0.33190735],\n",
       "       [24.19850622, -4.26071188, -4.27581433, ..., -0.24405718,\n",
       "        -0.42900397, -0.57687008]])"
      ]
     },
     "execution_count": 44,
     "metadata": {},
     "output_type": "execute_result"
    }
   ],
   "source": [
    "svd2_test_vec"
   ]
  },
  {
   "cell_type": "code",
   "execution_count": 14,
   "id": "fbbaf9e1",
   "metadata": {
    "scrolled": false
   },
   "outputs": [
    {
     "name": "stdout",
     "output_type": "stream",
     "text": [
      "31\n",
      "32\n",
      "33\n",
      "34\n",
      "35\n",
      "36\n",
      "37\n",
      "38\n",
      "39\n",
      "40\n",
      "41\n",
      "42\n",
      "43\n",
      "44\n",
      "45\n",
      "46\n",
      "47\n",
      "48\n",
      "49\n",
      "50\n"
     ]
    }
   ],
   "source": [
    "total = np.sum(svd.explained_variance_ratio_)\n",
    "var_sorted = svd.explained_variance_ratio_.tolist()\n",
    "var_sorted.sort(reverse = True)\n",
    "percentage = 0\n",
    "percent = []\n",
    "count = 0\n",
    "for i in var_sorted:\n",
    "    count+= 1\n",
    "    percentage += i\n",
    "    percent.append(percentage/total)\n",
    "    if percentage >= .90:\n",
    "        print(count)"
   ]
  },
  {
   "cell_type": "code",
   "execution_count": 15,
   "id": "e6a389df",
   "metadata": {},
   "outputs": [
    {
     "data": {
      "text/plain": [
       "<AxesSubplot:>"
      ]
     },
     "execution_count": 15,
     "metadata": {},
     "output_type": "execute_result"
    },
    {
     "data": {
      "image/png": "[encoded data removed]",
      "text/plain": [
       "<Figure size 432x288 with 1 Axes>"
      ]
     },
     "metadata": {
      "needs_background": "light"
     },
     "output_type": "display_data"
    }
   ],
   "source": [
    "#components vs percentage graph for 50 componenets\n",
    "components = [i for i in range(1,51)]\n",
    "sns.lineplot(x=components, y=percent)"
   ]
  },
  {
   "cell_type": "code",
   "execution_count": 16,
   "id": "a79df369",
   "metadata": {},
   "outputs": [
    {
     "data": {
      "text/plain": [
       "[8,\n",
       " 9,\n",
       " 9,\n",
       " 10,\n",
       " 11,\n",
       " 11,\n",
       " 12,\n",
       " 13,\n",
       " 14,\n",
       " 14,\n",
       " 15,\n",
       " 16,\n",
       " 16,\n",
       " 17,\n",
       " 18,\n",
       " 18,\n",
       " 19,\n",
       " 20,\n",
       " 20,\n",
       " 21,\n",
       " 22,\n",
       " 23,\n",
       " 23,\n",
       " 24,\n",
       " 25,\n",
       " 25,\n",
       " 26,\n",
       " 27,\n",
       " 27,\n",
       " 28,\n",
       " 28,\n",
       " 29,\n",
       " 29,\n",
       " 30,\n",
       " 30,\n",
       " 30,\n",
       " 31,\n",
       " 31,\n",
       " 31,\n",
       " 31,\n",
       " 31,\n",
       " 31,\n",
       " 31,\n",
       " 31,\n",
       " 31,\n",
       " 31,\n",
       " 31,\n",
       " 31,\n",
       " 31,\n",
       " 31,\n",
       " 31,\n",
       " 31,\n",
       " 31,\n",
       " 31,\n",
       " 31,\n",
       " 31,\n",
       " 31,\n",
       " 31,\n",
       " 31,\n",
       " 31,\n",
       " 31,\n",
       " 31,\n",
       " 31,\n",
       " 31,\n",
       " 31,\n",
       " 31,\n",
       " 31,\n",
       " 31,\n",
       " 31,\n",
       " 31,\n",
       " 31,\n",
       " 31,\n",
       " 31,\n",
       " 31,\n",
       " 31,\n",
       " 31,\n",
       " 31,\n",
       " 31,\n",
       " 31,\n",
       " 31,\n",
       " 31,\n",
       " 31,\n",
       " 31,\n",
       " 31,\n",
       " 31,\n",
       " 31,\n",
       " 31,\n",
       " 31,\n",
       " 31,\n",
       " 31,\n",
       " 31,\n",
       " 31,\n",
       " 31,\n",
       " 31,\n",
       " 31,\n",
       " 31,\n",
       " 31,\n",
       " 31,\n",
       " 31,\n",
       " 31,\n",
       " 31,\n",
       " 31,\n",
       " 31,\n",
       " 31,\n",
       " 31,\n",
       " 31,\n",
       " 31,\n",
       " 31,\n",
       " 31,\n",
       " 31,\n",
       " 31,\n",
       " 31,\n",
       " 31,\n",
       " 31,\n",
       " 31,\n",
       " 31,\n",
       " 31,\n",
       " 31,\n",
       " 31,\n",
       " 31]"
      ]
     },
     "execution_count": 16,
     "metadata": {},
     "output_type": "execute_result"
    }
   ],
   "source": [
    "components = [i for i in range(10,130)]\n",
    "percent = []\n",
    "for i in range(10,130):\n",
    "    svd = TruncatedSVD(n_components=i, n_iter=7, random_state=42)\n",
    "    svd.fit(train_vec)\n",
    "    percentage = 0\n",
    "    total = np.sum(svd.explained_variance_ratio_)\n",
    "    var_sorted = svd.explained_variance_ratio_.tolist()\n",
    "    var_sorted.sort(reverse = True)\n",
    "    count = 0\n",
    "    for j in var_sorted:\n",
    "        count+=1\n",
    "        percentage += j\n",
    "        if percentage/total>=0.9:\n",
    "            percent.append(count)\n",
    "            break\n",
    "percent"
   ]
  },
  {
   "cell_type": "code",
   "execution_count": 17,
   "id": "91c915a8",
   "metadata": {},
   "outputs": [
    {
     "data": {
      "text/plain": [
       "<AxesSubplot:>"
      ]
     },
     "execution_count": 17,
     "metadata": {},
     "output_type": "execute_result"
    },
    {
     "data": {
      "image/png": "[encoded data removed]",
      "text/plain": [
       "<Figure size 432x288 with 1 Axes>"
      ]
     },
     "metadata": {
      "needs_background": "light"
     },
     "output_type": "display_data"
    }
   ],
   "source": [
    "#components vs 90% confidence point\n",
    "sns.lineplot(x=components, y=percent)"
   ]
  },
  {
   "cell_type": "code",
   "execution_count": 19,
   "id": "f23a3d19",
   "metadata": {
    "scrolled": true
   },
   "outputs": [
    {
     "data": {
      "text/plain": [
       "[31,\n",
       " 31,\n",
       " 31,\n",
       " 31,\n",
       " 31,\n",
       " 31,\n",
       " 31,\n",
       " 31,\n",
       " 31,\n",
       " 31,\n",
       " 31,\n",
       " 31,\n",
       " 31,\n",
       " 31,\n",
       " 31,\n",
       " 31,\n",
       " 31,\n",
       " 31,\n",
       " 31,\n",
       " 31,\n",
       " 31,\n",
       " 31,\n",
       " 31,\n",
       " 31,\n",
       " 31,\n",
       " 31,\n",
       " 31,\n",
       " 31,\n",
       " 31,\n",
       " 31,\n",
       " 31,\n",
       " 31,\n",
       " 31,\n",
       " 31,\n",
       " 31,\n",
       " 31,\n",
       " 31,\n",
       " 31,\n",
       " 31,\n",
       " 31,\n",
       " 31,\n",
       " 31,\n",
       " 31,\n",
       " 31,\n",
       " 31,\n",
       " 31,\n",
       " 31,\n",
       " 31,\n",
       " 31]"
      ]
     },
     "execution_count": 19,
     "metadata": {},
     "output_type": "execute_result"
    }
   ],
   "source": [
    "components = [i for i in range(1,50)]\n",
    "percent = []\n",
    "for i in range(1,50):\n",
    "    svd = TruncatedSVD(n_components=50, n_iter=i, random_state=42)\n",
    "    svd.fit(train_vec)\n",
    "    percentage = 0\n",
    "    total = np.sum(svd.explained_variance_ratio_)\n",
    "    var_sorted = svd.explained_variance_ratio_.tolist()\n",
    "    var_sorted.sort(reverse = True)\n",
    "    count = 0\n",
    "    for j in var_sorted:\n",
    "        count+=1\n",
    "        percentage += j\n",
    "        if percentage/total>=0.9:\n",
    "            percent.append(count)\n",
    "            break\n",
    "percent"
   ]
  },
  {
   "cell_type": "code",
   "execution_count": 20,
   "id": "c9ca8158",
   "metadata": {},
   "outputs": [
    {
     "data": {
      "text/plain": [
       "<AxesSubplot:>"
      ]
     },
     "execution_count": 20,
     "metadata": {},
     "output_type": "execute_result"
    },
    {
     "data": {
      "image/png": "[encoded data removed]",
      "text/plain": [
       "<Figure size 432x288 with 1 Axes>"
      ]
     },
     "metadata": {
      "needs_background": "light"
     },
     "output_type": "display_data"
    }
   ],
   "source": [
    "#iterations vs 90% confidence point\n",
    "sns.lineplot(x=components, y=percent)"
   ]
  },
  {
   "cell_type": "markdown",
   "id": "0bad5220",
   "metadata": {},
   "source": [
    "## Bag of Words"
   ]
  },
  {
   "cell_type": "code",
   "execution_count": 18,
   "id": "62d10ede",
   "metadata": {},
   "outputs": [
    {
     "data": {
      "text/plain": [
       "(148829, 133)"
      ]
     },
     "execution_count": 18,
     "metadata": {},
     "output_type": "execute_result"
    }
   ],
   "source": [
    "vectorizer = CountVectorizer(analyzer='char')\n",
    "train_vec = vectorizer.fit_transform(train['url'])\n",
    "train_vec.shape"
   ]
  },
  {
   "cell_type": "code",
   "execution_count": 19,
   "id": "d9f62651",
   "metadata": {},
   "outputs": [],
   "source": [
    "# valid_vec = vectorizer.transform(valid['url'])\n",
    "# valid_vec.shape"
   ]
  },
  {
   "cell_type": "code",
   "execution_count": 20,
   "id": "69666250",
   "metadata": {},
   "outputs": [
    {
     "data": {
      "text/plain": [
       "(16537, 133)"
      ]
     },
     "execution_count": 20,
     "metadata": {},
     "output_type": "execute_result"
    }
   ],
   "source": [
    "test_vec = vectorizer.transform(test['url'])\n",
    "test_vec.shape"
   ]
  },
  {
   "cell_type": "code",
   "execution_count": 21,
   "id": "3d5299f4",
   "metadata": {},
   "outputs": [
    {
     "data": {
      "text/plain": [
       "TruncatedSVD(n_components=50, n_iter=7, random_state=42)"
      ]
     },
     "execution_count": 21,
     "metadata": {},
     "output_type": "execute_result"
    }
   ],
   "source": [
    "svd = TruncatedSVD(n_components=50, n_iter=7, random_state=42)\n",
    "svd.fit(train_vec)"
   ]
  },
  {
   "cell_type": "code",
   "execution_count": 22,
   "id": "a66555dc",
   "metadata": {},
   "outputs": [
    {
     "data": {
      "text/plain": [
       "array([2.54659353e-01, 2.66766497e-01, 9.15494907e-02, 5.30655064e-02,\n",
       "       4.59676350e-02, 3.08112186e-02, 2.48299372e-02, 2.06836339e-02,\n",
       "       1.71093912e-02, 1.58041450e-02, 1.41054062e-02, 1.31774279e-02,\n",
       "       1.11692655e-02, 1.01968240e-02, 9.71439419e-03, 9.57617937e-03,\n",
       "       8.99484992e-03, 8.58493191e-03, 8.11904230e-03, 7.24803654e-03,\n",
       "       6.31922778e-03, 6.05400886e-03, 5.73369836e-03, 5.55440440e-03,\n",
       "       4.80916225e-03, 4.30265292e-03, 4.26398190e-03, 4.03041411e-03,\n",
       "       3.76239466e-03, 3.41451858e-03, 3.27862289e-03, 3.05039975e-03,\n",
       "       2.84666753e-03, 2.59198460e-03, 2.17882969e-03, 2.05441771e-03,\n",
       "       1.84801904e-03, 1.78163080e-03, 1.68823045e-03, 1.52252073e-03,\n",
       "       1.44099892e-03, 1.38788103e-03, 1.23544656e-03, 8.79654932e-04,\n",
       "       5.40315621e-04, 4.58448627e-04, 2.11326294e-04, 1.45243054e-04,\n",
       "       1.26145625e-04, 6.42975046e-05])"
      ]
     },
     "execution_count": 22,
     "metadata": {},
     "output_type": "execute_result"
    }
   ],
   "source": [
    "svd.explained_variance_ratio_"
   ]
  },
  {
   "cell_type": "code",
   "execution_count": 23,
   "id": "48c3f76a",
   "metadata": {},
   "outputs": [
    {
     "name": "stdout",
     "output_type": "stream",
     "text": [
      "18\n",
      "19\n",
      "20\n",
      "21\n",
      "22\n",
      "23\n",
      "24\n",
      "25\n",
      "26\n",
      "27\n",
      "28\n",
      "29\n",
      "30\n",
      "31\n",
      "32\n",
      "33\n",
      "34\n",
      "35\n",
      "36\n",
      "37\n",
      "38\n",
      "39\n",
      "40\n",
      "41\n",
      "42\n",
      "43\n",
      "44\n",
      "45\n",
      "46\n",
      "47\n",
      "48\n",
      "49\n",
      "50\n"
     ]
    }
   ],
   "source": [
    "total = np.sum(svd.explained_variance_ratio_)\n",
    "var_sorted = svd.explained_variance_ratio_.tolist()\n",
    "var_sorted.sort(reverse = True)\n",
    "percentage = 0\n",
    "percent = []\n",
    "count = 0\n",
    "for i in var_sorted:\n",
    "    count+= 1\n",
    "    percentage += i\n",
    "    percent.append(percentage/total)\n",
    "    if percentage >= .90:\n",
    "        print(count)"
   ]
  },
  {
   "cell_type": "code",
   "execution_count": 24,
   "id": "0e134054",
   "metadata": {},
   "outputs": [
    {
     "data": {
      "text/plain": [
       "<AxesSubplot:>"
      ]
     },
     "execution_count": 24,
     "metadata": {},
     "output_type": "execute_result"
    },
    {
     "data": {
      "image/png": "[encoded data removed]",
      "text/plain": [
       "<Figure size 432x288 with 1 Axes>"
      ]
     },
     "metadata": {
      "needs_background": "light"
     },
     "output_type": "display_data"
    }
   ],
   "source": [
    "#components vs percentage graph for 50 componenets\n",
    "components = [i for i in range(1,51)]\n",
    "sns.lineplot(x=components, y=percent)"
   ]
  },
  {
   "cell_type": "code",
   "execution_count": 25,
   "id": "e124a62a",
   "metadata": {},
   "outputs": [
    {
     "data": {
      "text/plain": [
       "[6,\n",
       " 7,\n",
       " 7,\n",
       " 8,\n",
       " 8,\n",
       " 9,\n",
       " 9,\n",
       " 10,\n",
       " 10,\n",
       " 11,\n",
       " 11,\n",
       " 12,\n",
       " 12,\n",
       " 12,\n",
       " 13,\n",
       " 13,\n",
       " 13,\n",
       " 14,\n",
       " 14,\n",
       " 15,\n",
       " 15,\n",
       " 15,\n",
       " 15,\n",
       " 16,\n",
       " 16,\n",
       " 16,\n",
       " 16,\n",
       " 17,\n",
       " 17,\n",
       " 17,\n",
       " 17,\n",
       " 17,\n",
       " 17,\n",
       " 17,\n",
       " 18,\n",
       " 18,\n",
       " 18,\n",
       " 18,\n",
       " 18,\n",
       " 18,\n",
       " 18,\n",
       " 18,\n",
       " 18,\n",
       " 18,\n",
       " 18,\n",
       " 18,\n",
       " 18,\n",
       " 18,\n",
       " 18,\n",
       " 18,\n",
       " 18,\n",
       " 18,\n",
       " 18,\n",
       " 18,\n",
       " 18,\n",
       " 18,\n",
       " 18,\n",
       " 18,\n",
       " 18,\n",
       " 18,\n",
       " 18,\n",
       " 18,\n",
       " 18,\n",
       " 18,\n",
       " 18,\n",
       " 18,\n",
       " 18,\n",
       " 18,\n",
       " 18,\n",
       " 18,\n",
       " 18,\n",
       " 18,\n",
       " 18,\n",
       " 18,\n",
       " 18,\n",
       " 18,\n",
       " 18,\n",
       " 18,\n",
       " 18,\n",
       " 18,\n",
       " 18,\n",
       " 18,\n",
       " 18,\n",
       " 18,\n",
       " 18,\n",
       " 18,\n",
       " 18,\n",
       " 18,\n",
       " 18,\n",
       " 18,\n",
       " 18,\n",
       " 18,\n",
       " 18,\n",
       " 18,\n",
       " 18,\n",
       " 18,\n",
       " 18,\n",
       " 18,\n",
       " 18,\n",
       " 18,\n",
       " 18,\n",
       " 18,\n",
       " 18,\n",
       " 18,\n",
       " 18,\n",
       " 18,\n",
       " 18,\n",
       " 18,\n",
       " 18,\n",
       " 18,\n",
       " 18,\n",
       " 18,\n",
       " 18,\n",
       " 18,\n",
       " 18,\n",
       " 18,\n",
       " 18,\n",
       " 18,\n",
       " 18,\n",
       " 18]"
      ]
     },
     "execution_count": 25,
     "metadata": {},
     "output_type": "execute_result"
    }
   ],
   "source": [
    "components = [i for i in range(10,130)]\n",
    "percent = []\n",
    "for i in range(10,130):\n",
    "    svd = TruncatedSVD(n_components=i, n_iter=7, random_state=42)\n",
    "    svd.fit(train_vec)\n",
    "    percentage = 0\n",
    "    total = np.sum(svd.explained_variance_ratio_)\n",
    "    var_sorted = svd.explained_variance_ratio_.tolist()\n",
    "    var_sorted.sort(reverse = True)\n",
    "    count = 0\n",
    "    for j in var_sorted:\n",
    "        count+=1\n",
    "        percentage += j\n",
    "        if percentage/total>=0.9:\n",
    "            percent.append(count)\n",
    "            break\n",
    "percent"
   ]
  },
  {
   "cell_type": "code",
   "execution_count": 26,
   "id": "f72e3670",
   "metadata": {},
   "outputs": [
    {
     "data": {
      "text/plain": [
       "<AxesSubplot:>"
      ]
     },
     "execution_count": 26,
     "metadata": {},
     "output_type": "execute_result"
    },
    {
     "data": {
      "image/png": "[encoded data removed]",
      "text/plain": [
       "<Figure size 432x288 with 1 Axes>"
      ]
     },
     "metadata": {
      "needs_background": "light"
     },
     "output_type": "display_data"
    }
   ],
   "source": [
    "#components vs 90% confidence point\n",
    "sns.lineplot(x=components, y=percent)"
   ]
  },
  {
   "cell_type": "code",
   "execution_count": 30,
   "id": "245a1526",
   "metadata": {
    "scrolled": true
   },
   "outputs": [
    {
     "data": {
      "text/plain": [
       "[18,\n",
       " 18,\n",
       " 18,\n",
       " 18,\n",
       " 18,\n",
       " 18,\n",
       " 18,\n",
       " 18,\n",
       " 18,\n",
       " 18,\n",
       " 18,\n",
       " 18,\n",
       " 18,\n",
       " 18,\n",
       " 18,\n",
       " 18,\n",
       " 18,\n",
       " 18,\n",
       " 18,\n",
       " 18,\n",
       " 18,\n",
       " 18,\n",
       " 18,\n",
       " 18,\n",
       " 18,\n",
       " 18,\n",
       " 18,\n",
       " 18,\n",
       " 18,\n",
       " 18,\n",
       " 18,\n",
       " 18,\n",
       " 18,\n",
       " 18,\n",
       " 18,\n",
       " 18,\n",
       " 18,\n",
       " 18,\n",
       " 18,\n",
       " 18,\n",
       " 18,\n",
       " 18,\n",
       " 18,\n",
       " 18,\n",
       " 18,\n",
       " 18,\n",
       " 18,\n",
       " 18,\n",
       " 18]"
      ]
     },
     "execution_count": 30,
     "metadata": {},
     "output_type": "execute_result"
    }
   ],
   "source": [
    "components = [i for i in range(1,50)]\n",
    "percent = []\n",
    "for i in range(1,50):\n",
    "    svd = TruncatedSVD(n_components=50, n_iter=i, random_state=42)\n",
    "    svd.fit(train_vec)\n",
    "    percentage = 0\n",
    "    total = np.sum(svd.explained_variance_ratio_)\n",
    "    var_sorted = svd.explained_variance_ratio_.tolist()\n",
    "    var_sorted.sort(reverse = True)\n",
    "    count = 0\n",
    "    for j in var_sorted:\n",
    "        count+=1\n",
    "        percentage += j\n",
    "        if percentage/total>=0.9:\n",
    "            percent.append(count)\n",
    "            break\n",
    "percent"
   ]
  },
  {
   "cell_type": "code",
   "execution_count": 31,
   "id": "872a61a8",
   "metadata": {},
   "outputs": [
    {
     "data": {
      "text/plain": [
       "<AxesSubplot:>"
      ]
     },
     "execution_count": 31,
     "metadata": {},
     "output_type": "execute_result"
    },
    {
     "data": {
      "image/png": "[encoded data removed]",
      "text/plain": [
       "<Figure size 432x288 with 1 Axes>"
      ]
     },
     "metadata": {
      "needs_background": "light"
     },
     "output_type": "display_data"
    }
   ],
   "source": [
    "#iterations vs 90% confidence point\n",
    "sns.lineplot(x=components, y=percent)"
   ]
  },
  {
   "cell_type": "code",
   "execution_count": null,
   "id": "a7ee33e8",
   "metadata": {},
   "outputs": [],
   "source": []
  }
 ],
 "metadata": {
  "kernelspec": {
   "display_name": "Python 3",
   "language": "python",
   "name": "python3"
  },
  "language_info": {
   "codemirror_mode": {
    "name": "ipython",
    "version": 3
   },
   "file_extension": ".py",
   "mimetype": "text/x-python",
   "name": "python",
   "nbconvert_exporter": "python",
   "pygments_lexer": "ipython3",
   "version": "3.8.8"
  }
 },
 "nbformat": 4,
 "nbformat_minor": 5
}
