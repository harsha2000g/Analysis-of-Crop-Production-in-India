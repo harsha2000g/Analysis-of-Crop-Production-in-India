{
 "cells": [
  {
   "cell_type": "code",
   "execution_count": 1,
   "id": "76a8d148",
   "metadata": {},
   "outputs": [
    {
     "name": "stderr",
     "output_type": "stream",
     "text": [
      "Intel(R) Extension for Scikit-learn* enabled (https://github.com/intel/scikit-learn-intelex)\n"
     ]
    }
   ],
   "source": [
    "#import this before other imports\n",
    "from sklearnex import patch_sklearn,unpatch_sklearn\n",
    "\n",
    "patch_sklearn()\n",
    "#unpatch_sklearn()"
   ]
  },
  {
   "cell_type": "code",
   "execution_count": 2,
   "id": "177f3675",
   "metadata": {},
   "outputs": [],
   "source": [
    "import numpy as np \n",
    "import pandas as pd \n",
    "import matplotlib.pyplot as plt\n",
    "import seaborn as sns\n",
    "from urllib.parse import urlparse\n",
    "from tld import get_tld\n",
    "import re\n",
    "from sklearn.model_selection import train_test_split\n",
    "import seaborn as sb\n",
    "import warnings\n",
    "warnings.filterwarnings('ignore')\n",
    "from sklearn.svm import SVC\n",
    "from sklearn.linear_model import LogisticRegression\n",
    "from sklearn.tree import DecisionTreeClassifier\n",
    "from sklearn.ensemble import RandomForestClassifier\n",
    "from sklearn.feature_extraction.text import CountVectorizer\n",
    "from sklearn.feature_extraction.text import TfidfVectorizer\n",
    "from sklearn.multiclass import OneVsRestClassifier\n",
    "from sklearn.multiclass import OneVsOneClassifier\n",
    "from sklearn.model_selection import cross_validate\n",
    "from sklearn.preprocessing import MultiLabelBinarizer\n",
    "from sklearn.metrics import f1_score,log_loss,precision_score,recall_score,make_scorer,accuracy_score\n",
    "import json\n",
    "from sklearn.decomposition import TruncatedSVD\n",
    "from sklearn.model_selection import GridSearchCV\n",
    "from sklearn.model_selection import RandomizedSearchCV"
   ]
  },
  {
   "cell_type": "code",
   "execution_count": 3,
   "id": "723a2339",
   "metadata": {},
   "outputs": [
    {
     "data": {
      "text/html": [
       "<div>\n",
       "<style scoped>\n",
       "    .dataframe tbody tr th:only-of-type {\n",
       "        vertical-align: middle;\n",
       "    }\n",
       "\n",
       "    .dataframe tbody tr th {\n",
       "        vertical-align: top;\n",
       "    }\n",
       "\n",
       "    .dataframe thead th {\n",
       "        text-align: right;\n",
       "    }\n",
       "</style>\n",
       "<table border=\"1\" class=\"dataframe\">\n",
       "  <thead>\n",
       "    <tr style=\"text-align: right;\">\n",
       "      <th></th>\n",
       "      <th>url</th>\n",
       "      <th>result</th>\n",
       "    </tr>\n",
       "  </thead>\n",
       "  <tbody>\n",
       "    <tr>\n",
       "      <th>0</th>\n",
       "      <td>http://player.polyv.net/videos/3ee850a192d81e2...</td>\n",
       "      <td>2</td>\n",
       "    </tr>\n",
       "    <tr>\n",
       "      <th>1</th>\n",
       "      <td>http://www.hmaca.com/winnipeg-accounting-blog</td>\n",
       "      <td>1</td>\n",
       "    </tr>\n",
       "    <tr>\n",
       "      <th>2</th>\n",
       "      <td>http://www.generalcustom.com.br/index.php?opti...</td>\n",
       "      <td>1</td>\n",
       "    </tr>\n",
       "    <tr>\n",
       "      <th>3</th>\n",
       "      <td>http://bigcinema.tv/tag/%D0%94%D0%B8%D1%80%D0%...</td>\n",
       "      <td>0</td>\n",
       "    </tr>\n",
       "    <tr>\n",
       "      <th>4</th>\n",
       "      <td>http://www.hafenrocker.de/news/119-news-210920...</td>\n",
       "      <td>1</td>\n",
       "    </tr>\n",
       "    <tr>\n",
       "      <th>...</th>\n",
       "      <td>...</td>\n",
       "      <td>...</td>\n",
       "    </tr>\n",
       "    <tr>\n",
       "      <th>132287</th>\n",
       "      <td>http://masterstrans.com/component/contact/1</td>\n",
       "      <td>1</td>\n",
       "    </tr>\n",
       "    <tr>\n",
       "      <th>132288</th>\n",
       "      <td>http://www.tvmiros.gr/parousiasi-tou-sxediou-m...</td>\n",
       "      <td>1</td>\n",
       "    </tr>\n",
       "    <tr>\n",
       "      <th>132289</th>\n",
       "      <td>https://twitter.com/home?status=%E3%83%8C%E3%8...</td>\n",
       "      <td>0</td>\n",
       "    </tr>\n",
       "    <tr>\n",
       "      <th>132290</th>\n",
       "      <td>http://schertzauto.com/wp-content/themes/NAPA%...</td>\n",
       "      <td>2</td>\n",
       "    </tr>\n",
       "    <tr>\n",
       "      <th>132291</th>\n",
       "      <td>http://archive.dissent.org.uk/component/option</td>\n",
       "      <td>4</td>\n",
       "    </tr>\n",
       "  </tbody>\n",
       "</table>\n",
       "<p>132292 rows × 2 columns</p>\n",
       "</div>"
      ],
      "text/plain": [
       "                                                      url  result\n",
       "0       http://player.polyv.net/videos/3ee850a192d81e2...       2\n",
       "1           http://www.hmaca.com/winnipeg-accounting-blog       1\n",
       "2       http://www.generalcustom.com.br/index.php?opti...       1\n",
       "3       http://bigcinema.tv/tag/%D0%94%D0%B8%D1%80%D0%...       0\n",
       "4       http://www.hafenrocker.de/news/119-news-210920...       1\n",
       "...                                                   ...     ...\n",
       "132287        http://masterstrans.com/component/contact/1       1\n",
       "132288  http://www.tvmiros.gr/parousiasi-tou-sxediou-m...       1\n",
       "132289  https://twitter.com/home?status=%E3%83%8C%E3%8...       0\n",
       "132290  http://schertzauto.com/wp-content/themes/NAPA%...       2\n",
       "132291     http://archive.dissent.org.uk/component/option       4\n",
       "\n",
       "[132292 rows x 2 columns]"
      ]
     },
     "execution_count": 3,
     "metadata": {},
     "output_type": "execute_result"
    }
   ],
   "source": [
    "train = pd.read_csv(\"train_set.csv\")\n",
    "train"
   ]
  },
  {
   "cell_type": "code",
   "execution_count": 4,
   "id": "8c54d3b2",
   "metadata": {},
   "outputs": [
    {
     "data": {
      "text/html": [
       "<div>\n",
       "<style scoped>\n",
       "    .dataframe tbody tr th:only-of-type {\n",
       "        vertical-align: middle;\n",
       "    }\n",
       "\n",
       "    .dataframe tbody tr th {\n",
       "        vertical-align: top;\n",
       "    }\n",
       "\n",
       "    .dataframe thead th {\n",
       "        text-align: right;\n",
       "    }\n",
       "</style>\n",
       "<table border=\"1\" class=\"dataframe\">\n",
       "  <thead>\n",
       "    <tr style=\"text-align: right;\">\n",
       "      <th></th>\n",
       "      <th>url</th>\n",
       "      <th>result</th>\n",
       "    </tr>\n",
       "  </thead>\n",
       "  <tbody>\n",
       "    <tr>\n",
       "      <th>0</th>\n",
       "      <td>http://jmrsl.net/index.php?option=com_jevents&amp;...</td>\n",
       "      <td>1</td>\n",
       "    </tr>\n",
       "    <tr>\n",
       "      <th>1</th>\n",
       "      <td>http://www.ekwdesign.de/referenzen/corporate-d...</td>\n",
       "      <td>1</td>\n",
       "    </tr>\n",
       "    <tr>\n",
       "      <th>2</th>\n",
       "      <td>http://img25.artxun.com/sdd/oldimg/5dfd/5dfd94...</td>\n",
       "      <td>2</td>\n",
       "    </tr>\n",
       "    <tr>\n",
       "      <th>3</th>\n",
       "      <td>http://yourdayyourbudget.com/index.php?option=...</td>\n",
       "      <td>1</td>\n",
       "    </tr>\n",
       "    <tr>\n",
       "      <th>4</th>\n",
       "      <td>http://www.modconsolas.com/portal/index.php?li...</td>\n",
       "      <td>1</td>\n",
       "    </tr>\n",
       "    <tr>\n",
       "      <th>...</th>\n",
       "      <td>...</td>\n",
       "      <td>...</td>\n",
       "    </tr>\n",
       "    <tr>\n",
       "      <th>16532</th>\n",
       "      <td>http://bisaneema.org/%e0%a4%87%e0%a4%a4%e0%a4%...</td>\n",
       "      <td>2</td>\n",
       "    </tr>\n",
       "    <tr>\n",
       "      <th>16533</th>\n",
       "      <td>http://drogheriapreti.com/chi-siamo.html</td>\n",
       "      <td>1</td>\n",
       "    </tr>\n",
       "    <tr>\n",
       "      <th>16534</th>\n",
       "      <td>http://otomoto.pl/oferta/renault-trafic-zareje...</td>\n",
       "      <td>0</td>\n",
       "    </tr>\n",
       "    <tr>\n",
       "      <th>16535</th>\n",
       "      <td>http://www.bishopstrings.com/violins/ยฃ5000-ยฃ...</td>\n",
       "      <td>1</td>\n",
       "    </tr>\n",
       "    <tr>\n",
       "      <th>16536</th>\n",
       "      <td>http://atwiki.jp/wiki/%E6%93%AC%E4%BA%BA%E3%82...</td>\n",
       "      <td>0</td>\n",
       "    </tr>\n",
       "  </tbody>\n",
       "</table>\n",
       "<p>16537 rows × 2 columns</p>\n",
       "</div>"
      ],
      "text/plain": [
       "                                                     url  result\n",
       "0      http://jmrsl.net/index.php?option=com_jevents&...       1\n",
       "1      http://www.ekwdesign.de/referenzen/corporate-d...       1\n",
       "2      http://img25.artxun.com/sdd/oldimg/5dfd/5dfd94...       2\n",
       "3      http://yourdayyourbudget.com/index.php?option=...       1\n",
       "4      http://www.modconsolas.com/portal/index.php?li...       1\n",
       "...                                                  ...     ...\n",
       "16532  http://bisaneema.org/%e0%a4%87%e0%a4%a4%e0%a4%...       2\n",
       "16533           http://drogheriapreti.com/chi-siamo.html       1\n",
       "16534  http://otomoto.pl/oferta/renault-trafic-zareje...       0\n",
       "16535  http://www.bishopstrings.com/violins/ยฃ5000-ยฃ...       1\n",
       "16536  http://atwiki.jp/wiki/%E6%93%AC%E4%BA%BA%E3%82...       0\n",
       "\n",
       "[16537 rows x 2 columns]"
      ]
     },
     "execution_count": 4,
     "metadata": {},
     "output_type": "execute_result"
    }
   ],
   "source": [
    "valid = pd.read_csv(\"valid_set.csv\")\n",
    "valid"
   ]
  },
  {
   "cell_type": "code",
   "execution_count": 5,
   "id": "84bfe9b4",
   "metadata": {},
   "outputs": [
    {
     "data": {
      "text/html": [
       "<div>\n",
       "<style scoped>\n",
       "    .dataframe tbody tr th:only-of-type {\n",
       "        vertical-align: middle;\n",
       "    }\n",
       "\n",
       "    .dataframe tbody tr th {\n",
       "        vertical-align: top;\n",
       "    }\n",
       "\n",
       "    .dataframe thead th {\n",
       "        text-align: right;\n",
       "    }\n",
       "</style>\n",
       "<table border=\"1\" class=\"dataframe\">\n",
       "  <thead>\n",
       "    <tr style=\"text-align: right;\">\n",
       "      <th></th>\n",
       "      <th>url</th>\n",
       "      <th>result</th>\n",
       "    </tr>\n",
       "  </thead>\n",
       "  <tbody>\n",
       "    <tr>\n",
       "      <th>0</th>\n",
       "      <td>http://www.jin0044.com/cl/?module=System&amp;metho...</td>\n",
       "      <td>2</td>\n",
       "    </tr>\n",
       "    <tr>\n",
       "      <th>1</th>\n",
       "      <td>http://bjgdhm.com/show_products.asp?id=433</td>\n",
       "      <td>1</td>\n",
       "    </tr>\n",
       "    <tr>\n",
       "      <th>2</th>\n",
       "      <td>http://www.masseny.de/index.php?option=com_pho...</td>\n",
       "      <td>1</td>\n",
       "    </tr>\n",
       "    <tr>\n",
       "      <th>3</th>\n",
       "      <td>http://maybank2u.com.my/mbb_info/m2u/public/pe...</td>\n",
       "      <td>0</td>\n",
       "    </tr>\n",
       "    <tr>\n",
       "      <th>4</th>\n",
       "      <td>http://yourlust.com/videos/picked-up-whore-kar...</td>\n",
       "      <td>0</td>\n",
       "    </tr>\n",
       "    <tr>\n",
       "      <th>...</th>\n",
       "      <td>...</td>\n",
       "      <td>...</td>\n",
       "    </tr>\n",
       "    <tr>\n",
       "      <th>16532</th>\n",
       "      <td>http://www.lisambiental.com.br/x.txt</td>\n",
       "      <td>1</td>\n",
       "    </tr>\n",
       "    <tr>\n",
       "      <th>16533</th>\n",
       "      <td>http://pflegeheim-lausitz.de/index.php?option=...</td>\n",
       "      <td>1</td>\n",
       "    </tr>\n",
       "    <tr>\n",
       "      <th>16534</th>\n",
       "      <td>http://www.shekinahphotography.co.za/index.php...</td>\n",
       "      <td>1</td>\n",
       "    </tr>\n",
       "    <tr>\n",
       "      <th>16535</th>\n",
       "      <td>http://wddga.com/index.html?limitstart=20&amp;font...</td>\n",
       "      <td>1</td>\n",
       "    </tr>\n",
       "    <tr>\n",
       "      <th>16536</th>\n",
       "      <td>http://www.selbsthilfegruppen.at/index.php?opt...</td>\n",
       "      <td>1</td>\n",
       "    </tr>\n",
       "  </tbody>\n",
       "</table>\n",
       "<p>16537 rows × 2 columns</p>\n",
       "</div>"
      ],
      "text/plain": [
       "                                                     url  result\n",
       "0      http://www.jin0044.com/cl/?module=System&metho...       2\n",
       "1             http://bjgdhm.com/show_products.asp?id=433       1\n",
       "2      http://www.masseny.de/index.php?option=com_pho...       1\n",
       "3      http://maybank2u.com.my/mbb_info/m2u/public/pe...       0\n",
       "4      http://yourlust.com/videos/picked-up-whore-kar...       0\n",
       "...                                                  ...     ...\n",
       "16532               http://www.lisambiental.com.br/x.txt       1\n",
       "16533  http://pflegeheim-lausitz.de/index.php?option=...       1\n",
       "16534  http://www.shekinahphotography.co.za/index.php...       1\n",
       "16535  http://wddga.com/index.html?limitstart=20&font...       1\n",
       "16536  http://www.selbsthilfegruppen.at/index.php?opt...       1\n",
       "\n",
       "[16537 rows x 2 columns]"
      ]
     },
     "execution_count": 5,
     "metadata": {},
     "output_type": "execute_result"
    }
   ],
   "source": [
    "test = pd.read_csv(\"test_set.csv\")\n",
    "test"
   ]
  },
  {
   "cell_type": "code",
   "execution_count": 6,
   "id": "707289ad",
   "metadata": {},
   "outputs": [],
   "source": [
    "data=[train,valid]\n",
    "train = pd.concat(data)\n",
    "#final_train = vectorizer.transform(dataset['url'])\n",
    "#new_final_train = svd.transform(final_train)"
   ]
  },
  {
   "cell_type": "code",
   "execution_count": 7,
   "id": "429f1acb",
   "metadata": {},
   "outputs": [
    {
     "data": {
      "text/plain": [
       "(148829, 133)"
      ]
     },
     "execution_count": 7,
     "metadata": {},
     "output_type": "execute_result"
    }
   ],
   "source": [
    "vectorizer = CountVectorizer(analyzer='char')\n",
    "train_vec = vectorizer.fit_transform(train['url'])\n",
    "train_vec.shape"
   ]
  },
  {
   "cell_type": "code",
   "execution_count": 8,
   "id": "9a5df00d",
   "metadata": {},
   "outputs": [],
   "source": [
    "# valid_vec = vectorizer.transform(valid['url'])\n",
    "# valid_vec.shape"
   ]
  },
  {
   "cell_type": "code",
   "execution_count": 9,
   "id": "eb2a70c6",
   "metadata": {},
   "outputs": [
    {
     "data": {
      "text/plain": [
       "(16537, 133)"
      ]
     },
     "execution_count": 9,
     "metadata": {},
     "output_type": "execute_result"
    }
   ],
   "source": [
    "test_vec = vectorizer.transform(test['url'])\n",
    "test_vec.shape"
   ]
  },
  {
   "cell_type": "code",
   "execution_count": 10,
   "id": "d65d2475",
   "metadata": {},
   "outputs": [],
   "source": [
    "svd = TruncatedSVD(n_components=50, n_iter=7, random_state=42)"
   ]
  },
  {
   "cell_type": "code",
   "execution_count": 11,
   "id": "2c0bd68e",
   "metadata": {},
   "outputs": [
    {
     "data": {
      "text/plain": [
       "TruncatedSVD(n_components=50, n_iter=7, random_state=42)"
      ]
     },
     "execution_count": 11,
     "metadata": {},
     "output_type": "execute_result"
    }
   ],
   "source": [
    "svd.fit(train_vec)"
   ]
  },
  {
   "cell_type": "code",
   "execution_count": 12,
   "id": "dadd48a8",
   "metadata": {},
   "outputs": [
    {
     "data": {
      "text/plain": [
       "matrix([[0, 0, 0, 0, 0, 0, 0, 0, 0, 0, 0, 0, 2, 2, 3, 0, 0, 0, 0, 0, 0,\n",
       "         0, 0, 0, 0, 1, 0, 0, 0, 0, 0, 0, 0, 0, 0, 0, 3, 1, 4, 0, 1, 0,\n",
       "         3, 2, 3, 0, 0, 1, 2, 4, 3, 2, 0, 0, 0, 3, 1, 0, 4, 0, 0, 0, 0,\n",
       "         0, 0, 0, 0, 0, 0, 0, 0, 0, 0, 0, 0, 0, 0, 0, 0, 0, 0, 0, 0, 0,\n",
       "         0, 0, 0, 0, 0, 0, 0, 0, 0, 0, 0, 0, 0, 0, 0, 0, 0, 0, 0, 0, 0,\n",
       "         0, 0, 0, 0, 0, 0, 0, 0, 0, 0, 0, 0, 0, 0, 0, 0, 0, 0, 0, 0, 0,\n",
       "         0, 0, 0, 0, 0, 0, 0]], dtype=int64)"
      ]
     },
     "execution_count": 12,
     "metadata": {},
     "output_type": "execute_result"
    }
   ],
   "source": [
    "ex = train_vec[1].todense()\n",
    "ex"
   ]
  },
  {
   "cell_type": "code",
   "execution_count": 13,
   "id": "453502e2",
   "metadata": {},
   "outputs": [
    {
     "name": "stdout",
     "output_type": "stream",
     "text": [
      "[(0, ' '), (1, '!'), (2, '#'), (3, '$'), (4, '%'), (5, '&'), (6, \"'\"), (7, '('), (8, ')'), (9, '*'), (10, '+'), (11, ','), (12, '-'), (13, '.'), (14, '/'), (15, '0'), (16, '1'), (17, '2'), (18, '3'), (19, '4'), (20, '5'), (21, '6'), (22, '7'), (23, '8'), (24, '9'), (25, ':'), (26, ';'), (27, '<'), (28, '='), (29, '>'), (30, '?'), (31, '@'), (32, '['), (33, '\\\\'), (34, ']'), (35, '_'), (36, 'a'), (37, 'b'), (38, 'c'), (39, 'd'), (40, 'e'), (41, 'f'), (42, 'g'), (43, 'h'), (44, 'i'), (45, 'j'), (46, 'k'), (47, 'l'), (48, 'm'), (49, 'n'), (50, 'o'), (51, 'p'), (52, 'q'), (53, 'r'), (54, 's'), (55, 't'), (56, 'u'), (57, 'v'), (58, 'w'), (59, 'x'), (60, 'y'), (61, 'z'), (62, '{'), (63, '|'), (64, '}'), (65, '~'), (66, '\\x8d'), (67, '\\xa0'), (68, '¸'), (69, 'ä'), (70, 'å'), (71, 'ø'), (72, 'š'), (73, 'ˆ'), (74, 'ก'), (75, 'ข'), (76, 'ฃ'), (77, 'ค'), (78, 'ฅ'), (79, 'ง'), (80, 'จ'), (81, 'ฉ'), (82, 'ช'), (83, 'ซ'), (84, 'ฌ'), (85, 'ญ'), (86, 'ฎ'), (87, 'ฏ'), (88, 'ฐ'), (89, 'ฑ'), (90, 'ฒ'), (91, 'ณ'), (92, 'ด'), (93, 'ต'), (94, 'ถ'), (95, 'ท'), (96, 'ธ'), (97, 'น'), (98, 'บ'), (99, 'ป'), (100, 'ผ'), (101, 'ฝ'), (102, 'พ'), (103, 'ฟ'), (104, 'ย'), (105, 'ร'), (106, 'ฤ'), (107, 'ล'), (108, 'ฦ'), (109, 'ว'), (110, 'ศ'), (111, 'ส'), (112, 'ห'), (113, 'ฬ'), (114, 'อ'), (115, 'ฮ'), (116, 'ะ'), (117, 'ั'), (118, 'า'), (119, 'ำ'), (120, 'ิ'), (121, 'ี'), (122, 'ึ'), (123, 'ื'), (124, 'ุ'), (125, 'ู'), (126, 'ฺ'), (127, 'เ'), (128, 'ไ'), (129, 'ๅ'), (130, '่'), (131, '๓'), (132, '\\uf1dc')]\n"
     ]
    }
   ],
   "source": [
    "print([(vectorizer.vocabulary_[w],w) for w in vectorizer.get_feature_names()])"
   ]
  },
  {
   "cell_type": "code",
   "execution_count": 14,
   "id": "48005371",
   "metadata": {},
   "outputs": [
    {
     "data": {
      "text/plain": [
       "(148829, 50)"
      ]
     },
     "execution_count": 14,
     "metadata": {},
     "output_type": "execute_result"
    }
   ],
   "source": [
    "new_train_vec1 = svd.transform(train_vec)\n",
    "new_train_vec1.shape"
   ]
  },
  {
   "cell_type": "code",
   "execution_count": 15,
   "id": "e537f086",
   "metadata": {},
   "outputs": [],
   "source": [
    "#new_valid_vec = svd.transform(valid_vec)\n",
    "new_test_vec1 = svd.transform(test_vec)"
   ]
  },
  {
   "cell_type": "code",
   "execution_count": 16,
   "id": "337904bb",
   "metadata": {},
   "outputs": [],
   "source": [
    "svd2 = TruncatedSVD(n_components=31, n_iter=7, random_state=42)"
   ]
  },
  {
   "cell_type": "code",
   "execution_count": 17,
   "id": "9214915a",
   "metadata": {},
   "outputs": [
    {
     "data": {
      "text/plain": [
       "TruncatedSVD(n_components=31, n_iter=7, random_state=42)"
      ]
     },
     "execution_count": 17,
     "metadata": {},
     "output_type": "execute_result"
    }
   ],
   "source": [
    "svd2.fit(new_train_vec1)"
   ]
  },
  {
   "cell_type": "code",
   "execution_count": 18,
   "id": "ee67743c",
   "metadata": {},
   "outputs": [],
   "source": [
    "new_train_vec = svd2.transform(new_train_vec1)\n",
    "new_test_vec = svd2.transform(new_test_vec1)"
   ]
  },
  {
   "cell_type": "code",
   "execution_count": 19,
   "id": "43aeaee8",
   "metadata": {},
   "outputs": [
    {
     "data": {
      "text/plain": [
       "(148829, 31)"
      ]
     },
     "execution_count": 19,
     "metadata": {},
     "output_type": "execute_result"
    }
   ],
   "source": [
    "new_train_vec.shape"
   ]
  },
  {
   "cell_type": "code",
   "execution_count": 20,
   "id": "6b1457b5",
   "metadata": {},
   "outputs": [
    {
     "data": {
      "text/plain": [
       "(16537, 31)"
      ]
     },
     "execution_count": 20,
     "metadata": {},
     "output_type": "execute_result"
    }
   ],
   "source": [
    "new_test_vec.shape"
   ]
  },
  {
   "cell_type": "code",
   "execution_count": 21,
   "id": "ddcac6e2",
   "metadata": {},
   "outputs": [
    {
     "data": {
      "text/plain": [
       "SVC(random_state=0)"
      ]
     },
     "execution_count": 21,
     "metadata": {},
     "output_type": "execute_result"
    }
   ],
   "source": [
    "svm = SVC(random_state = 0)\n",
    "svm.fit(new_train_vec, train['result'])"
   ]
  },
  {
   "cell_type": "code",
   "execution_count": 22,
   "id": "7edef0ae",
   "metadata": {},
   "outputs": [],
   "source": [
    "train_pred = svm.predict(new_train_vec)"
   ]
  },
  {
   "cell_type": "code",
   "execution_count": 23,
   "id": "b78e0544",
   "metadata": {},
   "outputs": [],
   "source": [
    "test_pred = svm.predict(new_test_vec)"
   ]
  },
  {
   "cell_type": "code",
   "execution_count": 24,
   "id": "1c1568c5",
   "metadata": {},
   "outputs": [
    {
     "name": "stdout",
     "output_type": "stream",
     "text": [
      "Train Accuracy:  0.929986763332415\n",
      "Train Precision:  0.9475607546491339\n",
      "Train Recall:  0.929986763332415\n",
      "Train F1:  0.9354441569222925\n",
      "Test Accuracy:  0.9235048678720446\n",
      "Test Precision:  0.943241540674035\n",
      "Test Recall:  0.9235048678720446\n",
      "Test F1:  0.9297664882116212\n"
     ]
    }
   ],
   "source": [
    "print(\"Train Accuracy: \", accuracy_score(train_pred,train['result']))\n",
    "print(\"Train Precision: \", precision_score(train_pred,train['result'], average = 'weighted'))\n",
    "print(\"Train Recall: \", recall_score(train_pred,train['result'], average = 'weighted'))\n",
    "print(\"Train F1: \", f1_score(train_pred,train['result'], average = 'weighted'))\n",
    "print(\"Test Accuracy: \", accuracy_score(test_pred,test['result']))\n",
    "print(\"Test Precision: \", precision_score(test_pred,test['result'], average = 'weighted'))\n",
    "print(\"Test Recall: \", recall_score(test_pred,test['result'], average = 'weighted'))\n",
    "print(\"Test F1: \", f1_score(test_pred,test['result'], average = 'weighted'))"
   ]
  },
  {
   "cell_type": "code",
   "execution_count": 25,
   "id": "d01427fd",
   "metadata": {},
   "outputs": [
    {
     "data": {
      "text/plain": [
       "SVC(random_state=0)"
      ]
     },
     "execution_count": 25,
     "metadata": {},
     "output_type": "execute_result"
    }
   ],
   "source": [
    "svm = SVC(random_state = 0)\n",
    "svm.fit(train_vec, train['result'])"
   ]
  },
  {
   "cell_type": "code",
   "execution_count": 26,
   "id": "0b01bf45",
   "metadata": {},
   "outputs": [],
   "source": [
    "train_pred = svm.predict(train_vec)"
   ]
  },
  {
   "cell_type": "code",
   "execution_count": 27,
   "id": "654166c9",
   "metadata": {},
   "outputs": [],
   "source": [
    "test_pred = svm.predict(test_vec)"
   ]
  },
  {
   "cell_type": "code",
   "execution_count": 28,
   "id": "35355aa2",
   "metadata": {},
   "outputs": [
    {
     "name": "stdout",
     "output_type": "stream",
     "text": [
      "BEFORE SVD\n",
      "Train Accuracy:  0.9419266406412728\n",
      "Train Precision:  0.9543197281642781\n",
      "Train Recall:  0.9419266406412728\n",
      "Train F1:  0.9455482104611266\n",
      "Test Accuracy:  0.9356594303682652\n",
      "Test Precision:  0.9499490938218168\n",
      "Test Recall:  0.9356594303682652\n",
      "Test F1:  0.9399546045554478\n"
     ]
    }
   ],
   "source": [
    "print(\"BEFORE SVD\")\n",
    "print(\"Train Accuracy: \", accuracy_score(train_pred,train['result']))\n",
    "print(\"Train Precision: \", precision_score(train_pred,train['result'], average = 'weighted'))\n",
    "print(\"Train Recall: \", recall_score(train_pred,train['result'], average = 'weighted'))\n",
    "print(\"Train F1: \", f1_score(train_pred,train['result'], average = 'weighted'))\n",
    "print(\"Test Accuracy: \", accuracy_score(test_pred,test['result']))\n",
    "print(\"Test Precision: \", precision_score(test_pred,test['result'], average = 'weighted'))\n",
    "print(\"Test Recall: \", recall_score(test_pred,test['result'], average = 'weighted'))\n",
    "print(\"Test F1: \", f1_score(test_pred,test['result'], average = 'weighted'))"
   ]
  },
  {
   "cell_type": "code",
   "execution_count": 29,
   "id": "bda16a07",
   "metadata": {
    "scrolled": true
   },
   "outputs": [],
   "source": [
    "# best_score = 0\n",
    "# max_features_list = [i for i in range(3,15)]\n",
    "# for criterion in ['gini','entropy']:\n",
    "#     for splitter in ['best', 'random']:\n",
    "#         for max_features in ['sqrt','log2',None]:\n",
    "#             for max_depth in max_features_list:\n",
    "#                 dt = DecisionTreeClassifier(random_state = 0, criterion = criterion, splitter = splitter, max_features = max_features, max_depth = max_depth)\n",
    "#                 dt.fit(new_train_vec,train['result'])\n",
    "#                 pred = dt.predict(new_valid_vec)\n",
    "#                 score = accuracy_score(pred,valid['result'])\n",
    "#                 params = {'criterion': criterion, 'splitter': splitter, 'max_features': max_features, 'max_depth': max_depth}\n",
    "#                 print(params)\n",
    "#                 print(score)\n",
    "#                 if score>best_score:\n",
    "#                     best_score = score\n",
    "#                     best_params = {'criterion': criterion, 'splitter': splitter, 'max_features': max_features, 'max_depth': max_depth}"
   ]
  },
  {
   "cell_type": "code",
   "execution_count": 30,
   "id": "ff117784",
   "metadata": {},
   "outputs": [],
   "source": [
    "# print(best_score,best_params)"
   ]
  },
  {
   "cell_type": "code",
   "execution_count": 36,
   "id": "c241c42a",
   "metadata": {},
   "outputs": [],
   "source": [
    "svm = SVC(random_state = 0)\n",
    "parameters = {'kernel':('linear', 'poly', 'rbf', 'sigmoid'), 'C': [0.1, 1, 10]}"
   ]
  },
  {
   "cell_type": "code",
   "execution_count": 37,
   "id": "5bfd0bf0",
   "metadata": {},
   "outputs": [],
   "source": [
    "#stratified cross-validation in gridsearch\n",
    "clf = GridSearchCV(svm, parameters, verbose = 10, scoring = 'accuracy')"
   ]
  },
  {
   "cell_type": "code",
   "execution_count": 38,
   "id": "02c75d42",
   "metadata": {
    "scrolled": true
   },
   "outputs": [
    {
     "name": "stdout",
     "output_type": "stream",
     "text": [
      "Fitting 5 folds for each of 12 candidates, totalling 60 fits\n",
      "[CV 1/5; 1/12] START C=0.1, kernel=linear.......................................\n",
      "[CV 1/5; 1/12] END ........C=0.1, kernel=linear;, score=0.888 total time= 1.1min\n",
      "[CV 2/5; 1/12] START C=0.1, kernel=linear.......................................\n",
      "[CV 2/5; 1/12] END ........C=0.1, kernel=linear;, score=0.885 total time= 1.2min\n",
      "[CV 3/5; 1/12] START C=0.1, kernel=linear.......................................\n",
      "[CV 3/5; 1/12] END ........C=0.1, kernel=linear;, score=0.885 total time= 1.3min\n",
      "[CV 4/5; 1/12] START C=0.1, kernel=linear.......................................\n",
      "[CV 4/5; 1/12] END ........C=0.1, kernel=linear;, score=0.887 total time= 1.2min\n",
      "[CV 5/5; 1/12] START C=0.1, kernel=linear.......................................\n",
      "[CV 5/5; 1/12] END ........C=0.1, kernel=linear;, score=0.889 total time= 1.3min\n",
      "[CV 1/5; 2/12] START C=0.1, kernel=poly.........................................\n",
      "[CV 1/5; 2/12] END ..........C=0.1, kernel=poly;, score=0.869 total time=  56.5s\n",
      "[CV 2/5; 2/12] START C=0.1, kernel=poly.........................................\n",
      "[CV 2/5; 2/12] END ..........C=0.1, kernel=poly;, score=0.868 total time=  58.5s\n",
      "[CV 3/5; 2/12] START C=0.1, kernel=poly.........................................\n",
      "[CV 3/5; 2/12] END ..........C=0.1, kernel=poly;, score=0.867 total time=  55.5s\n",
      "[CV 4/5; 2/12] START C=0.1, kernel=poly.........................................\n",
      "[CV 4/5; 2/12] END ..........C=0.1, kernel=poly;, score=0.871 total time=  58.9s\n",
      "[CV 5/5; 2/12] START C=0.1, kernel=poly.........................................\n",
      "[CV 5/5; 2/12] END ..........C=0.1, kernel=poly;, score=0.870 total time=  58.4s\n",
      "[CV 1/5; 3/12] START C=0.1, kernel=rbf..........................................\n",
      "[CV 1/5; 3/12] END ...........C=0.1, kernel=rbf;, score=0.906 total time=  46.4s\n",
      "[CV 2/5; 3/12] START C=0.1, kernel=rbf..........................................\n",
      "[CV 2/5; 3/12] END ...........C=0.1, kernel=rbf;, score=0.900 total time=  49.2s\n",
      "[CV 3/5; 3/12] START C=0.1, kernel=rbf..........................................\n",
      "[CV 3/5; 3/12] END ...........C=0.1, kernel=rbf;, score=0.900 total time=  59.2s\n",
      "[CV 4/5; 3/12] START C=0.1, kernel=rbf..........................................\n",
      "[CV 4/5; 3/12] END ...........C=0.1, kernel=rbf;, score=0.904 total time=  47.3s\n",
      "[CV 5/5; 3/12] START C=0.1, kernel=rbf..........................................\n",
      "[CV 5/5; 3/12] END ...........C=0.1, kernel=rbf;, score=0.903 total time=  46.8s\n",
      "[CV 1/5; 4/12] START C=0.1, kernel=sigmoid......................................\n",
      "[CV 1/5; 4/12] END .......C=0.1, kernel=sigmoid;, score=0.667 total time=  55.4s\n",
      "[CV 2/5; 4/12] START C=0.1, kernel=sigmoid......................................\n",
      "[CV 2/5; 4/12] END .......C=0.1, kernel=sigmoid;, score=0.664 total time= 1.0min\n",
      "[CV 3/5; 4/12] START C=0.1, kernel=sigmoid......................................\n",
      "[CV 3/5; 4/12] END .......C=0.1, kernel=sigmoid;, score=0.665 total time=  55.1s\n",
      "[CV 4/5; 4/12] START C=0.1, kernel=sigmoid......................................\n",
      "[CV 4/5; 4/12] END .......C=0.1, kernel=sigmoid;, score=0.665 total time= 1.0min\n",
      "[CV 5/5; 4/12] START C=0.1, kernel=sigmoid......................................\n",
      "[CV 5/5; 4/12] END .......C=0.1, kernel=sigmoid;, score=0.668 total time=  58.2s\n",
      "[CV 1/5; 5/12] START C=1, kernel=linear.........................................\n",
      "[CV 1/5; 5/12] END ..........C=1, kernel=linear;, score=0.890 total time= 2.2min\n",
      "[CV 2/5; 5/12] START C=1, kernel=linear.........................................\n",
      "[CV 2/5; 5/12] END ..........C=1, kernel=linear;, score=0.886 total time= 2.4min\n",
      "[CV 3/5; 5/12] START C=1, kernel=linear.........................................\n",
      "[CV 3/5; 5/12] END ..........C=1, kernel=linear;, score=0.887 total time= 2.2min\n",
      "[CV 4/5; 5/12] START C=1, kernel=linear.........................................\n",
      "[CV 4/5; 5/12] END ..........C=1, kernel=linear;, score=0.889 total time= 2.0min\n",
      "[CV 5/5; 5/12] START C=1, kernel=linear.........................................\n",
      "[CV 5/5; 5/12] END ..........C=1, kernel=linear;, score=0.890 total time= 2.1min\n",
      "[CV 1/5; 6/12] START C=1, kernel=poly...........................................\n",
      "[CV 1/5; 6/12] END ............C=1, kernel=poly;, score=0.916 total time=  44.3s\n",
      "[CV 2/5; 6/12] START C=1, kernel=poly...........................................\n",
      "[CV 2/5; 6/12] END ............C=1, kernel=poly;, score=0.912 total time=  43.0s\n",
      "[CV 3/5; 6/12] START C=1, kernel=poly...........................................\n",
      "[CV 3/5; 6/12] END ............C=1, kernel=poly;, score=0.913 total time=  45.1s\n",
      "[CV 4/5; 6/12] START C=1, kernel=poly...........................................\n",
      "[CV 4/5; 6/12] END ............C=1, kernel=poly;, score=0.916 total time=  43.0s\n",
      "[CV 5/5; 6/12] START C=1, kernel=poly...........................................\n",
      "[CV 5/5; 6/12] END ............C=1, kernel=poly;, score=0.914 total time=  42.0s\n",
      "[CV 1/5; 7/12] START C=1, kernel=rbf............................................\n",
      "[CV 1/5; 7/12] END .............C=1, kernel=rbf;, score=0.939 total time=  36.4s\n",
      "[CV 2/5; 7/12] START C=1, kernel=rbf............................................\n",
      "[CV 2/5; 7/12] END .............C=1, kernel=rbf;, score=0.936 total time=  38.1s\n",
      "[CV 3/5; 7/12] START C=1, kernel=rbf............................................\n",
      "[CV 3/5; 7/12] END .............C=1, kernel=rbf;, score=0.936 total time=  35.2s\n",
      "[CV 4/5; 7/12] START C=1, kernel=rbf............................................\n",
      "[CV 4/5; 7/12] END .............C=1, kernel=rbf;, score=0.937 total time=  37.4s\n",
      "[CV 5/5; 7/12] START C=1, kernel=rbf............................................\n",
      "[CV 5/5; 7/12] END .............C=1, kernel=rbf;, score=0.938 total time=  36.8s\n",
      "[CV 1/5; 8/12] START C=1, kernel=sigmoid........................................\n",
      "[CV 1/5; 8/12] END .........C=1, kernel=sigmoid;, score=0.652 total time=  46.4s\n",
      "[CV 2/5; 8/12] START C=1, kernel=sigmoid........................................\n",
      "[CV 2/5; 8/12] END .........C=1, kernel=sigmoid;, score=0.651 total time=  46.3s\n",
      "[CV 3/5; 8/12] START C=1, kernel=sigmoid........................................\n",
      "[CV 3/5; 8/12] END .........C=1, kernel=sigmoid;, score=0.654 total time=  46.3s\n",
      "[CV 4/5; 8/12] START C=1, kernel=sigmoid........................................\n",
      "[CV 4/5; 8/12] END .........C=1, kernel=sigmoid;, score=0.654 total time=  46.0s\n",
      "[CV 5/5; 8/12] START C=1, kernel=sigmoid........................................\n",
      "[CV 5/5; 8/12] END .........C=1, kernel=sigmoid;, score=0.649 total time=  47.3s\n",
      "[CV 1/5; 9/12] START C=10, kernel=linear........................................\n",
      "[CV 1/5; 9/12] END .........C=10, kernel=linear;, score=0.891 total time= 6.0min\n",
      "[CV 2/5; 9/12] START C=10, kernel=linear........................................\n",
      "[CV 2/5; 9/12] END .........C=10, kernel=linear;, score=0.887 total time= 6.8min\n",
      "[CV 3/5; 9/12] START C=10, kernel=linear........................................\n",
      "[CV 3/5; 9/12] END .........C=10, kernel=linear;, score=0.888 total time= 6.7min\n",
      "[CV 4/5; 9/12] START C=10, kernel=linear........................................\n",
      "[CV 4/5; 9/12] END .........C=10, kernel=linear;, score=0.890 total time= 6.6min\n",
      "[CV 5/5; 9/12] START C=10, kernel=linear........................................\n",
      "[CV 5/5; 9/12] END .........C=10, kernel=linear;, score=0.890 total time= 6.6min\n",
      "[CV 1/5; 10/12] START C=10, kernel=poly.........................................\n",
      "[CV 1/5; 10/12] END ..........C=10, kernel=poly;, score=0.947 total time=  43.3s\n",
      "[CV 2/5; 10/12] START C=10, kernel=poly.........................................\n",
      "[CV 2/5; 10/12] END ..........C=10, kernel=poly;, score=0.944 total time=  38.7s\n",
      "[CV 3/5; 10/12] START C=10, kernel=poly.........................................\n",
      "[CV 3/5; 10/12] END ..........C=10, kernel=poly;, score=0.944 total time=  39.6s\n",
      "[CV 4/5; 10/12] START C=10, kernel=poly.........................................\n",
      "[CV 4/5; 10/12] END ..........C=10, kernel=poly;, score=0.946 total time=  42.0s\n",
      "[CV 5/5; 10/12] START C=10, kernel=poly.........................................\n",
      "[CV 5/5; 10/12] END ..........C=10, kernel=poly;, score=0.945 total time=  39.7s\n",
      "[CV 1/5; 11/12] START C=10, kernel=rbf..........................................\n"
     ]
    },
    {
     "name": "stdout",
     "output_type": "stream",
     "text": [
      "[CV 1/5; 11/12] END ...........C=10, kernel=rbf;, score=0.962 total time=  32.6s\n",
      "[CV 2/5; 11/12] START C=10, kernel=rbf..........................................\n",
      "[CV 2/5; 11/12] END ...........C=10, kernel=rbf;, score=0.961 total time=  33.5s\n",
      "[CV 3/5; 11/12] START C=10, kernel=rbf..........................................\n",
      "[CV 3/5; 11/12] END ...........C=10, kernel=rbf;, score=0.961 total time=  33.0s\n",
      "[CV 4/5; 11/12] START C=10, kernel=rbf..........................................\n",
      "[CV 4/5; 11/12] END ...........C=10, kernel=rbf;, score=0.961 total time=  33.7s\n",
      "[CV 5/5; 11/12] START C=10, kernel=rbf..........................................\n",
      "[CV 5/5; 11/12] END ...........C=10, kernel=rbf;, score=0.961 total time=  32.7s\n",
      "[CV 1/5; 12/12] START C=10, kernel=sigmoid......................................\n",
      "[CV 1/5; 12/12] END .......C=10, kernel=sigmoid;, score=0.649 total time=  53.8s\n",
      "[CV 2/5; 12/12] START C=10, kernel=sigmoid......................................\n",
      "[CV 2/5; 12/12] END .......C=10, kernel=sigmoid;, score=0.649 total time=  49.8s\n",
      "[CV 3/5; 12/12] START C=10, kernel=sigmoid......................................\n",
      "[CV 3/5; 12/12] END .......C=10, kernel=sigmoid;, score=0.650 total time=  49.3s\n",
      "[CV 4/5; 12/12] START C=10, kernel=sigmoid......................................\n",
      "[CV 4/5; 12/12] END .......C=10, kernel=sigmoid;, score=0.651 total time=  50.4s\n",
      "[CV 5/5; 12/12] START C=10, kernel=sigmoid......................................\n",
      "[CV 5/5; 12/12] END .......C=10, kernel=sigmoid;, score=0.645 total time=  55.2s\n"
     ]
    },
    {
     "data": {
      "text/plain": [
       "GridSearchCV(estimator=SVC(random_state=0),\n",
       "             param_grid={'C': [0.1, 1, 10],\n",
       "                         'kernel': ('linear', 'poly', 'rbf', 'sigmoid')},\n",
       "             scoring='accuracy', verbose=10)"
      ]
     },
     "execution_count": 38,
     "metadata": {},
     "output_type": "execute_result"
    }
   ],
   "source": [
    "clf.fit(train_vec, train['result'])"
   ]
  },
  {
   "cell_type": "code",
   "execution_count": 39,
   "id": "a383b9a8",
   "metadata": {
    "scrolled": true
   },
   "outputs": [
    {
     "data": {
      "text/plain": [
       "{'mean_fit_time': array([ 67.40584407,  47.2693531 ,  41.00893278,  44.49344182,\n",
       "        124.02191739,  37.61288548,  32.06350131,  35.87332773,\n",
       "        385.72236376,  36.94525433,  29.99224744,  40.33341641]),\n",
       " 'std_fit_time': array([ 4.67318432,  1.19855543,  4.95873902,  2.19827415,  7.24564123,\n",
       "         1.14345503,  0.96594467,  0.40937174, 17.11812563,  1.74678913,\n",
       "         0.4610574 ,  2.40650794]),\n",
       " 'mean_score_time': array([ 5.2484179 , 10.39988742,  8.87605453, 13.55533218,  5.63394504,\n",
       "         5.97723141,  4.82430797, 10.69103222,  5.77975097,  3.83988986,\n",
       "         3.21740007, 11.44819808]),\n",
       " 'std_score_time': array([0.0882177 , 0.31174539, 0.24260194, 0.54776021, 0.36706882,\n",
       "        0.18783308, 0.17473807, 0.07608804, 0.82634076, 0.0695441 ,\n",
       "        0.02878871, 0.14446423]),\n",
       " 'param_C': masked_array(data=[0.1, 0.1, 0.1, 0.1, 1, 1, 1, 1, 10, 10, 10, 10],\n",
       "              mask=[False, False, False, False, False, False, False, False,\n",
       "                    False, False, False, False],\n",
       "        fill_value='?',\n",
       "             dtype=object),\n",
       " 'param_kernel': masked_array(data=['linear', 'poly', 'rbf', 'sigmoid', 'linear', 'poly',\n",
       "                    'rbf', 'sigmoid', 'linear', 'poly', 'rbf', 'sigmoid'],\n",
       "              mask=[False, False, False, False, False, False, False, False,\n",
       "                    False, False, False, False],\n",
       "        fill_value='?',\n",
       "             dtype=object),\n",
       " 'params': [{'C': 0.1, 'kernel': 'linear'},\n",
       "  {'C': 0.1, 'kernel': 'poly'},\n",
       "  {'C': 0.1, 'kernel': 'rbf'},\n",
       "  {'C': 0.1, 'kernel': 'sigmoid'},\n",
       "  {'C': 1, 'kernel': 'linear'},\n",
       "  {'C': 1, 'kernel': 'poly'},\n",
       "  {'C': 1, 'kernel': 'rbf'},\n",
       "  {'C': 1, 'kernel': 'sigmoid'},\n",
       "  {'C': 10, 'kernel': 'linear'},\n",
       "  {'C': 10, 'kernel': 'poly'},\n",
       "  {'C': 10, 'kernel': 'rbf'},\n",
       "  {'C': 10, 'kernel': 'sigmoid'}],\n",
       " 'split0_test_score': array([0.88849694, 0.86944836, 0.90556339, 0.66683464, 0.89017671,\n",
       "        0.91550763, 0.93875563, 0.65218706, 0.89068064, 0.94722166,\n",
       "        0.96207082, 0.64852516]),\n",
       " 'split1_test_score': array([0.88466707, 0.8677686 , 0.90012094, 0.66444937, 0.88631324,\n",
       "        0.91234966, 0.93590002, 0.65124639, 0.8866156 , 0.94389572,\n",
       "        0.96126453, 0.6489955 ]),\n",
       " 'split2_test_score': array([0.88547336, 0.86662635, 0.90012094, 0.66505409, 0.88728751,\n",
       "        0.91261842, 0.9360344 , 0.65416919, 0.88775784, 0.94433246,\n",
       "        0.96106296, 0.65000336]),\n",
       " 'split3_test_score': array([0.88742189, 0.8713633 , 0.90385003, 0.6649869 , 0.88923604,\n",
       "        0.9156756 , 0.937479  , 0.65420278, 0.88984076, 0.94584425,\n",
       "        0.96143251, 0.65101122]),\n",
       " 'split4_test_score': array([0.88879557, 0.8701495 , 0.90297329, 0.66813371, 0.89003864,\n",
       "        0.91432891, 0.93804804, 0.64928607, 0.89047539, 0.94486813,\n",
       "        0.96109525, 0.64538888]),\n",
       " 'mean_test_score': array([0.88697097, 0.86907122, 0.90252572, 0.66589174, 0.88861043,\n",
       "        0.91409604, 0.93724342, 0.6522183 , 0.88907405, 0.94523245,\n",
       "        0.96138521, 0.64878482]),\n",
       " 'std_test_score': array([0.0016378 , 0.00168717, 0.00213295, 0.00137959, 0.00154348,\n",
       "        0.00139821, 0.00111858, 0.00185944, 0.0016068 , 0.00118835,\n",
       "        0.00036737, 0.00190189]),\n",
       " 'rank_test_score': array([ 8,  9,  5, 10,  7,  4,  3, 11,  6,  2,  1, 12])}"
      ]
     },
     "execution_count": 39,
     "metadata": {},
     "output_type": "execute_result"
    }
   ],
   "source": [
    "clf.cv_results_"
   ]
  },
  {
   "cell_type": "code",
   "execution_count": 40,
   "id": "8f744dd6",
   "metadata": {},
   "outputs": [
    {
     "data": {
      "text/plain": [
       "0.9613852119548888"
      ]
     },
     "execution_count": 40,
     "metadata": {},
     "output_type": "execute_result"
    }
   ],
   "source": [
    "clf.best_score_"
   ]
  },
  {
   "cell_type": "code",
   "execution_count": 41,
   "id": "639d1d2e",
   "metadata": {
    "scrolled": true
   },
   "outputs": [
    {
     "data": {
      "text/plain": [
       "{'C': 10, 'kernel': 'rbf'}"
      ]
     },
     "execution_count": 41,
     "metadata": {},
     "output_type": "execute_result"
    }
   ],
   "source": [
    "clf.best_params_"
   ]
  },
  {
   "cell_type": "code",
   "execution_count": 42,
   "id": "47b9d38b",
   "metadata": {},
   "outputs": [
    {
     "data": {
      "text/plain": [
       "SVC(C=10, random_state=0)"
      ]
     },
     "execution_count": 42,
     "metadata": {},
     "output_type": "execute_result"
    }
   ],
   "source": [
    "svm_model = SVC(kernel = 'rbf', C = 10, random_state = 0)\n",
    "svm_model.fit(train_vec, train['result'])"
   ]
  },
  {
   "cell_type": "code",
   "execution_count": 43,
   "id": "ef307c5e",
   "metadata": {},
   "outputs": [],
   "source": [
    "train_pred = svm_model.predict(train_vec)"
   ]
  },
  {
   "cell_type": "code",
   "execution_count": 44,
   "id": "65eda9da",
   "metadata": {},
   "outputs": [],
   "source": [
    "test_pred = svm_model.predict(test_vec)"
   ]
  },
  {
   "cell_type": "code",
   "execution_count": 45,
   "id": "a29b2c27",
   "metadata": {},
   "outputs": [
    {
     "name": "stdout",
     "output_type": "stream",
     "text": [
      "Train Accuracy:  0.9672375679471071\n",
      "Train Precision:  0.9724391206354456\n",
      "Train Recall:  0.9672375679471071\n",
      "Train F1:  0.968718708857865\n",
      "Test Accuracy:  0.9614198464050312\n",
      "Test Precision:  0.9670034817627507\n",
      "Test Recall:  0.9614198464050312\n",
      "Test F1:  0.9630522945024355\n"
     ]
    }
   ],
   "source": [
    "print(\"Train Accuracy: \", accuracy_score(train_pred,train['result']))\n",
    "print(\"Train Precision: \", precision_score(train_pred,train['result'], average = 'weighted'))\n",
    "print(\"Train Recall: \", recall_score(train_pred,train['result'], average = 'weighted'))\n",
    "print(\"Train F1: \", f1_score(train_pred,train['result'], average = 'weighted'))\n",
    "print(\"Test Accuracy: \", accuracy_score(test_pred,test['result']))\n",
    "print(\"Test Precision: \", precision_score(test_pred,test['result'], average = 'weighted'))\n",
    "print(\"Test Recall: \", recall_score(test_pred,test['result'], average = 'weighted'))\n",
    "print(\"Test F1: \", f1_score(test_pred,test['result'], average = 'weighted'))"
   ]
  }
 ],
 "metadata": {
  "kernelspec": {
   "display_name": "Python 3",
   "language": "python",
   "name": "python3"
  },
  "language_info": {
   "codemirror_mode": {
    "name": "ipython",
    "version": 3
   },
   "file_extension": ".py",
   "mimetype": "text/x-python",
   "name": "python",
   "nbconvert_exporter": "python",
   "pygments_lexer": "ipython3",
   "version": "3.8.8"
  }
 },
 "nbformat": 4,
 "nbformat_minor": 5
}
