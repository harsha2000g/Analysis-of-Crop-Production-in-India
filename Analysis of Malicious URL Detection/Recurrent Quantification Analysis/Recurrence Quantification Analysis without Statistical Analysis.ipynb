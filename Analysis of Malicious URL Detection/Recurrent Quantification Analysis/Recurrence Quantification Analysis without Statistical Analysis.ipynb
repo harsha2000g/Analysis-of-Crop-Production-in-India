{
 "cells": [
  {
   "cell_type": "code",
   "execution_count": 3,
   "id": "03026dc1",
   "metadata": {},
   "outputs": [
    {
     "name": "stderr",
     "output_type": "stream",
     "text": [
      "Intel(R) Extension for Scikit-learn* enabled (https://github.com/intel/scikit-learn-intelex)\n"
     ]
    }
   ],
   "source": [
    "#import this before other imports\n",
    "from sklearnex import patch_sklearn,unpatch_sklearn\n",
    "\n",
    "patch_sklearn()\n",
    "#unpatch_sklearn()"
   ]
  },
  {
   "cell_type": "code",
   "execution_count": 4,
   "id": "ca558089",
   "metadata": {},
   "outputs": [],
   "source": [
    "import numpy as np \n",
    "import pandas as pd \n",
    "import matplotlib.pyplot as plt\n",
    "import scipy.stats as stats\n",
    "import pylab as pl\n",
    "import seaborn as sns\n",
    "from urllib.parse import urlparse\n",
    "from tld import get_tld\n",
    "import re\n",
    "from sklearn.model_selection import train_test_split\n",
    "import seaborn as sb\n",
    "import warnings\n",
    "warnings.filterwarnings('ignore')\n",
    "from sklearn.svm import SVC\n",
    "from sklearn.linear_model import LogisticRegression\n",
    "from sklearn.tree import DecisionTreeClassifier\n",
    "from sklearn.ensemble import RandomForestClassifier\n",
    "from sklearn.feature_extraction.text import CountVectorizer\n",
    "from sklearn.feature_extraction.text import TfidfVectorizer\n",
    "from sklearn.multiclass import OneVsRestClassifier\n",
    "from sklearn.multiclass import OneVsOneClassifier\n",
    "from sklearn.model_selection import cross_validate\n",
    "from sklearn.preprocessing import MultiLabelBinarizer\n",
    "from sklearn.metrics import f1_score,log_loss,precision_score,recall_score,make_scorer,accuracy_score\n",
    "import json\n",
    "from sklearn.decomposition import TruncatedSVD\n",
    "from sklearn.model_selection import GridSearchCV\n",
    "from sklearn.model_selection import RandomizedSearchCV"
   ]
  },
  {
   "cell_type": "code",
   "execution_count": 5,
   "id": "fb61dd73",
   "metadata": {},
   "outputs": [],
   "source": [
    "from pyrqa.computation import RPComputation\n",
    "from pyrqa.image_generator import ImageGenerator\n",
    "from pyrqa.time_series import TimeSeries\n",
    "from pyrqa.settings import Settings\n",
    "from pyrqa.analysis_type import Classic\n",
    "from pyrqa.neighbourhood import FixedRadius\n",
    "from pyrqa.metric import EuclideanMetric\n",
    "from pyrqa.computation import RQAComputation"
   ]
  },
  {
   "cell_type": "code",
   "execution_count": 6,
   "id": "1cd633cc",
   "metadata": {},
   "outputs": [
    {
     "data": {
      "text/html": [
       "<div>\n",
       "<style scoped>\n",
       "    .dataframe tbody tr th:only-of-type {\n",
       "        vertical-align: middle;\n",
       "    }\n",
       "\n",
       "    .dataframe tbody tr th {\n",
       "        vertical-align: top;\n",
       "    }\n",
       "\n",
       "    .dataframe thead th {\n",
       "        text-align: right;\n",
       "    }\n",
       "</style>\n",
       "<table border=\"1\" class=\"dataframe\">\n",
       "  <thead>\n",
       "    <tr style=\"text-align: right;\">\n",
       "      <th></th>\n",
       "      <th>url</th>\n",
       "      <th>result</th>\n",
       "    </tr>\n",
       "  </thead>\n",
       "  <tbody>\n",
       "    <tr>\n",
       "      <th>0</th>\n",
       "      <td>http://player.polyv.net/videos/3ee850a192d81e2...</td>\n",
       "      <td>2</td>\n",
       "    </tr>\n",
       "    <tr>\n",
       "      <th>1</th>\n",
       "      <td>http://www.hmaca.com/winnipeg-accounting-blog</td>\n",
       "      <td>1</td>\n",
       "    </tr>\n",
       "    <tr>\n",
       "      <th>2</th>\n",
       "      <td>http://www.generalcustom.com.br/index.php?opti...</td>\n",
       "      <td>1</td>\n",
       "    </tr>\n",
       "    <tr>\n",
       "      <th>3</th>\n",
       "      <td>http://bigcinema.tv/tag/%D0%94%D0%B8%D1%80%D0%...</td>\n",
       "      <td>0</td>\n",
       "    </tr>\n",
       "    <tr>\n",
       "      <th>4</th>\n",
       "      <td>http://www.hafenrocker.de/news/119-news-210920...</td>\n",
       "      <td>1</td>\n",
       "    </tr>\n",
       "    <tr>\n",
       "      <th>...</th>\n",
       "      <td>...</td>\n",
       "      <td>...</td>\n",
       "    </tr>\n",
       "    <tr>\n",
       "      <th>132287</th>\n",
       "      <td>http://masterstrans.com/component/contact/1</td>\n",
       "      <td>1</td>\n",
       "    </tr>\n",
       "    <tr>\n",
       "      <th>132288</th>\n",
       "      <td>http://www.tvmiros.gr/parousiasi-tou-sxediou-m...</td>\n",
       "      <td>1</td>\n",
       "    </tr>\n",
       "    <tr>\n",
       "      <th>132289</th>\n",
       "      <td>https://twitter.com/home?status=%E3%83%8C%E3%8...</td>\n",
       "      <td>0</td>\n",
       "    </tr>\n",
       "    <tr>\n",
       "      <th>132290</th>\n",
       "      <td>http://schertzauto.com/wp-content/themes/NAPA%...</td>\n",
       "      <td>2</td>\n",
       "    </tr>\n",
       "    <tr>\n",
       "      <th>132291</th>\n",
       "      <td>http://archive.dissent.org.uk/component/option</td>\n",
       "      <td>4</td>\n",
       "    </tr>\n",
       "  </tbody>\n",
       "</table>\n",
       "<p>132292 rows × 2 columns</p>\n",
       "</div>"
      ],
      "text/plain": [
       "                                                      url  result\n",
       "0       http://player.polyv.net/videos/3ee850a192d81e2...       2\n",
       "1           http://www.hmaca.com/winnipeg-accounting-blog       1\n",
       "2       http://www.generalcustom.com.br/index.php?opti...       1\n",
       "3       http://bigcinema.tv/tag/%D0%94%D0%B8%D1%80%D0%...       0\n",
       "4       http://www.hafenrocker.de/news/119-news-210920...       1\n",
       "...                                                   ...     ...\n",
       "132287        http://masterstrans.com/component/contact/1       1\n",
       "132288  http://www.tvmiros.gr/parousiasi-tou-sxediou-m...       1\n",
       "132289  https://twitter.com/home?status=%E3%83%8C%E3%8...       0\n",
       "132290  http://schertzauto.com/wp-content/themes/NAPA%...       2\n",
       "132291     http://archive.dissent.org.uk/component/option       4\n",
       "\n",
       "[132292 rows x 2 columns]"
      ]
     },
     "execution_count": 6,
     "metadata": {},
     "output_type": "execute_result"
    }
   ],
   "source": [
    "train = pd.read_csv(\"train_set.csv\")\n",
    "train"
   ]
  },
  {
   "cell_type": "code",
   "execution_count": 7,
   "id": "50af19de",
   "metadata": {},
   "outputs": [
    {
     "data": {
      "text/html": [
       "<div>\n",
       "<style scoped>\n",
       "    .dataframe tbody tr th:only-of-type {\n",
       "        vertical-align: middle;\n",
       "    }\n",
       "\n",
       "    .dataframe tbody tr th {\n",
       "        vertical-align: top;\n",
       "    }\n",
       "\n",
       "    .dataframe thead th {\n",
       "        text-align: right;\n",
       "    }\n",
       "</style>\n",
       "<table border=\"1\" class=\"dataframe\">\n",
       "  <thead>\n",
       "    <tr style=\"text-align: right;\">\n",
       "      <th></th>\n",
       "      <th>url</th>\n",
       "      <th>result</th>\n",
       "    </tr>\n",
       "  </thead>\n",
       "  <tbody>\n",
       "    <tr>\n",
       "      <th>0</th>\n",
       "      <td>http://jmrsl.net/index.php?option=com_jevents&amp;...</td>\n",
       "      <td>1</td>\n",
       "    </tr>\n",
       "    <tr>\n",
       "      <th>1</th>\n",
       "      <td>http://www.ekwdesign.de/referenzen/corporate-d...</td>\n",
       "      <td>1</td>\n",
       "    </tr>\n",
       "    <tr>\n",
       "      <th>2</th>\n",
       "      <td>http://img25.artxun.com/sdd/oldimg/5dfd/5dfd94...</td>\n",
       "      <td>2</td>\n",
       "    </tr>\n",
       "    <tr>\n",
       "      <th>3</th>\n",
       "      <td>http://yourdayyourbudget.com/index.php?option=...</td>\n",
       "      <td>1</td>\n",
       "    </tr>\n",
       "    <tr>\n",
       "      <th>4</th>\n",
       "      <td>http://www.modconsolas.com/portal/index.php?li...</td>\n",
       "      <td>1</td>\n",
       "    </tr>\n",
       "    <tr>\n",
       "      <th>...</th>\n",
       "      <td>...</td>\n",
       "      <td>...</td>\n",
       "    </tr>\n",
       "    <tr>\n",
       "      <th>16532</th>\n",
       "      <td>http://bisaneema.org/%e0%a4%87%e0%a4%a4%e0%a4%...</td>\n",
       "      <td>2</td>\n",
       "    </tr>\n",
       "    <tr>\n",
       "      <th>16533</th>\n",
       "      <td>http://drogheriapreti.com/chi-siamo.html</td>\n",
       "      <td>1</td>\n",
       "    </tr>\n",
       "    <tr>\n",
       "      <th>16534</th>\n",
       "      <td>http://otomoto.pl/oferta/renault-trafic-zareje...</td>\n",
       "      <td>0</td>\n",
       "    </tr>\n",
       "    <tr>\n",
       "      <th>16535</th>\n",
       "      <td>http://www.bishopstrings.com/violins/ยฃ5000-ยฃ...</td>\n",
       "      <td>1</td>\n",
       "    </tr>\n",
       "    <tr>\n",
       "      <th>16536</th>\n",
       "      <td>http://atwiki.jp/wiki/%E6%93%AC%E4%BA%BA%E3%82...</td>\n",
       "      <td>0</td>\n",
       "    </tr>\n",
       "  </tbody>\n",
       "</table>\n",
       "<p>16537 rows × 2 columns</p>\n",
       "</div>"
      ],
      "text/plain": [
       "                                                     url  result\n",
       "0      http://jmrsl.net/index.php?option=com_jevents&...       1\n",
       "1      http://www.ekwdesign.de/referenzen/corporate-d...       1\n",
       "2      http://img25.artxun.com/sdd/oldimg/5dfd/5dfd94...       2\n",
       "3      http://yourdayyourbudget.com/index.php?option=...       1\n",
       "4      http://www.modconsolas.com/portal/index.php?li...       1\n",
       "...                                                  ...     ...\n",
       "16532  http://bisaneema.org/%e0%a4%87%e0%a4%a4%e0%a4%...       2\n",
       "16533           http://drogheriapreti.com/chi-siamo.html       1\n",
       "16534  http://otomoto.pl/oferta/renault-trafic-zareje...       0\n",
       "16535  http://www.bishopstrings.com/violins/ยฃ5000-ยฃ...       1\n",
       "16536  http://atwiki.jp/wiki/%E6%93%AC%E4%BA%BA%E3%82...       0\n",
       "\n",
       "[16537 rows x 2 columns]"
      ]
     },
     "execution_count": 7,
     "metadata": {},
     "output_type": "execute_result"
    }
   ],
   "source": [
    "valid = pd.read_csv(\"valid_set.csv\")\n",
    "valid"
   ]
  },
  {
   "cell_type": "code",
   "execution_count": 8,
   "id": "85fca542",
   "metadata": {},
   "outputs": [
    {
     "data": {
      "text/html": [
       "<div>\n",
       "<style scoped>\n",
       "    .dataframe tbody tr th:only-of-type {\n",
       "        vertical-align: middle;\n",
       "    }\n",
       "\n",
       "    .dataframe tbody tr th {\n",
       "        vertical-align: top;\n",
       "    }\n",
       "\n",
       "    .dataframe thead th {\n",
       "        text-align: right;\n",
       "    }\n",
       "</style>\n",
       "<table border=\"1\" class=\"dataframe\">\n",
       "  <thead>\n",
       "    <tr style=\"text-align: right;\">\n",
       "      <th></th>\n",
       "      <th>url</th>\n",
       "      <th>result</th>\n",
       "    </tr>\n",
       "  </thead>\n",
       "  <tbody>\n",
       "    <tr>\n",
       "      <th>0</th>\n",
       "      <td>http://www.jin0044.com/cl/?module=System&amp;metho...</td>\n",
       "      <td>2</td>\n",
       "    </tr>\n",
       "    <tr>\n",
       "      <th>1</th>\n",
       "      <td>http://bjgdhm.com/show_products.asp?id=433</td>\n",
       "      <td>1</td>\n",
       "    </tr>\n",
       "    <tr>\n",
       "      <th>2</th>\n",
       "      <td>http://www.masseny.de/index.php?option=com_pho...</td>\n",
       "      <td>1</td>\n",
       "    </tr>\n",
       "    <tr>\n",
       "      <th>3</th>\n",
       "      <td>http://maybank2u.com.my/mbb_info/m2u/public/pe...</td>\n",
       "      <td>0</td>\n",
       "    </tr>\n",
       "    <tr>\n",
       "      <th>4</th>\n",
       "      <td>http://yourlust.com/videos/picked-up-whore-kar...</td>\n",
       "      <td>0</td>\n",
       "    </tr>\n",
       "    <tr>\n",
       "      <th>...</th>\n",
       "      <td>...</td>\n",
       "      <td>...</td>\n",
       "    </tr>\n",
       "    <tr>\n",
       "      <th>16532</th>\n",
       "      <td>http://www.lisambiental.com.br/x.txt</td>\n",
       "      <td>1</td>\n",
       "    </tr>\n",
       "    <tr>\n",
       "      <th>16533</th>\n",
       "      <td>http://pflegeheim-lausitz.de/index.php?option=...</td>\n",
       "      <td>1</td>\n",
       "    </tr>\n",
       "    <tr>\n",
       "      <th>16534</th>\n",
       "      <td>http://www.shekinahphotography.co.za/index.php...</td>\n",
       "      <td>1</td>\n",
       "    </tr>\n",
       "    <tr>\n",
       "      <th>16535</th>\n",
       "      <td>http://wddga.com/index.html?limitstart=20&amp;font...</td>\n",
       "      <td>1</td>\n",
       "    </tr>\n",
       "    <tr>\n",
       "      <th>16536</th>\n",
       "      <td>http://www.selbsthilfegruppen.at/index.php?opt...</td>\n",
       "      <td>1</td>\n",
       "    </tr>\n",
       "  </tbody>\n",
       "</table>\n",
       "<p>16537 rows × 2 columns</p>\n",
       "</div>"
      ],
      "text/plain": [
       "                                                     url  result\n",
       "0      http://www.jin0044.com/cl/?module=System&metho...       2\n",
       "1             http://bjgdhm.com/show_products.asp?id=433       1\n",
       "2      http://www.masseny.de/index.php?option=com_pho...       1\n",
       "3      http://maybank2u.com.my/mbb_info/m2u/public/pe...       0\n",
       "4      http://yourlust.com/videos/picked-up-whore-kar...       0\n",
       "...                                                  ...     ...\n",
       "16532               http://www.lisambiental.com.br/x.txt       1\n",
       "16533  http://pflegeheim-lausitz.de/index.php?option=...       1\n",
       "16534  http://www.shekinahphotography.co.za/index.php...       1\n",
       "16535  http://wddga.com/index.html?limitstart=20&font...       1\n",
       "16536  http://www.selbsthilfegruppen.at/index.php?opt...       1\n",
       "\n",
       "[16537 rows x 2 columns]"
      ]
     },
     "execution_count": 8,
     "metadata": {},
     "output_type": "execute_result"
    }
   ],
   "source": [
    "test = pd.read_csv(\"test_set.csv\")\n",
    "test"
   ]
  },
  {
   "cell_type": "code",
   "execution_count": 9,
   "id": "ad870095",
   "metadata": {},
   "outputs": [],
   "source": [
    "data=[train,valid,test]\n",
    "urls = pd.concat(data, ignore_index=True)"
   ]
  },
  {
   "cell_type": "code",
   "execution_count": 10,
   "id": "4336d92f",
   "metadata": {},
   "outputs": [
    {
     "data": {
      "text/html": [
       "<div>\n",
       "<style scoped>\n",
       "    .dataframe tbody tr th:only-of-type {\n",
       "        vertical-align: middle;\n",
       "    }\n",
       "\n",
       "    .dataframe tbody tr th {\n",
       "        vertical-align: top;\n",
       "    }\n",
       "\n",
       "    .dataframe thead th {\n",
       "        text-align: right;\n",
       "    }\n",
       "</style>\n",
       "<table border=\"1\" class=\"dataframe\">\n",
       "  <thead>\n",
       "    <tr style=\"text-align: right;\">\n",
       "      <th></th>\n",
       "      <th>url</th>\n",
       "      <th>result</th>\n",
       "    </tr>\n",
       "  </thead>\n",
       "  <tbody>\n",
       "    <tr>\n",
       "      <th>0</th>\n",
       "      <td>http://player.polyv.net/videos/3ee850a192d81e2...</td>\n",
       "      <td>2</td>\n",
       "    </tr>\n",
       "    <tr>\n",
       "      <th>1</th>\n",
       "      <td>http://www.hmaca.com/winnipeg-accounting-blog</td>\n",
       "      <td>1</td>\n",
       "    </tr>\n",
       "    <tr>\n",
       "      <th>2</th>\n",
       "      <td>http://www.generalcustom.com.br/index.php?opti...</td>\n",
       "      <td>1</td>\n",
       "    </tr>\n",
       "    <tr>\n",
       "      <th>3</th>\n",
       "      <td>http://bigcinema.tv/tag/%D0%94%D0%B8%D1%80%D0%...</td>\n",
       "      <td>0</td>\n",
       "    </tr>\n",
       "    <tr>\n",
       "      <th>4</th>\n",
       "      <td>http://www.hafenrocker.de/news/119-news-210920...</td>\n",
       "      <td>1</td>\n",
       "    </tr>\n",
       "    <tr>\n",
       "      <th>...</th>\n",
       "      <td>...</td>\n",
       "      <td>...</td>\n",
       "    </tr>\n",
       "    <tr>\n",
       "      <th>165361</th>\n",
       "      <td>http://www.lisambiental.com.br/x.txt</td>\n",
       "      <td>1</td>\n",
       "    </tr>\n",
       "    <tr>\n",
       "      <th>165362</th>\n",
       "      <td>http://pflegeheim-lausitz.de/index.php?option=...</td>\n",
       "      <td>1</td>\n",
       "    </tr>\n",
       "    <tr>\n",
       "      <th>165363</th>\n",
       "      <td>http://www.shekinahphotography.co.za/index.php...</td>\n",
       "      <td>1</td>\n",
       "    </tr>\n",
       "    <tr>\n",
       "      <th>165364</th>\n",
       "      <td>http://wddga.com/index.html?limitstart=20&amp;font...</td>\n",
       "      <td>1</td>\n",
       "    </tr>\n",
       "    <tr>\n",
       "      <th>165365</th>\n",
       "      <td>http://www.selbsthilfegruppen.at/index.php?opt...</td>\n",
       "      <td>1</td>\n",
       "    </tr>\n",
       "  </tbody>\n",
       "</table>\n",
       "<p>165366 rows × 2 columns</p>\n",
       "</div>"
      ],
      "text/plain": [
       "                                                      url  result\n",
       "0       http://player.polyv.net/videos/3ee850a192d81e2...       2\n",
       "1           http://www.hmaca.com/winnipeg-accounting-blog       1\n",
       "2       http://www.generalcustom.com.br/index.php?opti...       1\n",
       "3       http://bigcinema.tv/tag/%D0%94%D0%B8%D1%80%D0%...       0\n",
       "4       http://www.hafenrocker.de/news/119-news-210920...       1\n",
       "...                                                   ...     ...\n",
       "165361               http://www.lisambiental.com.br/x.txt       1\n",
       "165362  http://pflegeheim-lausitz.de/index.php?option=...       1\n",
       "165363  http://www.shekinahphotography.co.za/index.php...       1\n",
       "165364  http://wddga.com/index.html?limitstart=20&font...       1\n",
       "165365  http://www.selbsthilfegruppen.at/index.php?opt...       1\n",
       "\n",
       "[165366 rows x 2 columns]"
      ]
     },
     "execution_count": 10,
     "metadata": {},
     "output_type": "execute_result"
    }
   ],
   "source": [
    "urls"
   ]
  },
  {
   "cell_type": "code",
   "execution_count": 11,
   "id": "037556a0",
   "metadata": {},
   "outputs": [
    {
     "data": {
      "text/plain": [
       "(165366, 133)"
      ]
     },
     "execution_count": 11,
     "metadata": {},
     "output_type": "execute_result"
    }
   ],
   "source": [
    "vectorizer = CountVectorizer(analyzer='char')\n",
    "mean_vec = vectorizer.fit_transform(urls['url'])\n",
    "mean_vec.shape"
   ]
  },
  {
   "cell_type": "code",
   "execution_count": 17,
   "id": "5a3d4d5e",
   "metadata": {},
   "outputs": [
    {
     "data": {
      "text/plain": [
       "matrix([[0, 0, 0, 0, 0, 0, 0, 0, 0, 0, 0, 0, 0, 3, 4, 2, 2, 3, 3, 0, 4,\n",
       "         1, 0, 3, 2, 1, 0, 0, 0, 0, 0, 0, 0, 0, 0, 1, 2, 1, 1, 2, 7, 6,\n",
       "         0, 1, 1, 0, 0, 2, 0, 1, 2, 3, 0, 1, 2, 3, 0, 2, 1, 0, 2, 0, 0,\n",
       "         0, 0, 0, 0, 0, 0, 0, 0, 0, 0, 0, 0, 0, 0, 0, 0, 0, 0, 0, 0, 0,\n",
       "         0, 0, 0, 0, 0, 0, 0, 0, 0, 0, 0, 0, 0, 0, 0, 0, 0, 0, 0, 0, 0,\n",
       "         0, 0, 0, 0, 0, 0, 0, 0, 0, 0, 0, 0, 0, 0, 0, 0, 0, 0, 0, 0, 0,\n",
       "         0, 0, 0, 0, 0, 0, 0]], dtype=int64)"
      ]
     },
     "execution_count": 17,
     "metadata": {},
     "output_type": "execute_result"
    }
   ],
   "source": [
    "mean_vec[0].todense()"
   ]
  },
  {
   "cell_type": "code",
   "execution_count": 32,
   "id": "3c61566b",
   "metadata": {},
   "outputs": [
    {
     "data": {
      "text/plain": [
       "[0,\n",
       " 0,\n",
       " 0,\n",
       " 0,\n",
       " 1,\n",
       " 2,\n",
       " 0,\n",
       " 0,\n",
       " 0,\n",
       " 0,\n",
       " 0,\n",
       " 0,\n",
       " 0,\n",
       " 4,\n",
       " 3,\n",
       " 9,\n",
       " 2,\n",
       " 3,\n",
       " 5,\n",
       " 0,\n",
       " 6,\n",
       " 1,\n",
       " 0,\n",
       " 0,\n",
       " 6,\n",
       " 1,\n",
       " 0,\n",
       " 0,\n",
       " 4,\n",
       " 0,\n",
       " 1,\n",
       " 0,\n",
       " 0,\n",
       " 0,\n",
       " 0,\n",
       " 1,\n",
       " 9,\n",
       " 9,\n",
       " 14,\n",
       " 11,\n",
       " 5,\n",
       " 3,\n",
       " 3,\n",
       " 7,\n",
       " 6,\n",
       " 7,\n",
       " 1,\n",
       " 9,\n",
       " 11,\n",
       " 15,\n",
       " 10,\n",
       " 13,\n",
       " 2,\n",
       " 7,\n",
       " 8,\n",
       " 9,\n",
       " 3,\n",
       " 9,\n",
       " 10,\n",
       " 5,\n",
       " 5,\n",
       " 14,\n",
       " 0,\n",
       " 0,\n",
       " 0,\n",
       " 0,\n",
       " 0,\n",
       " 0,\n",
       " 0,\n",
       " 0,\n",
       " 0,\n",
       " 0,\n",
       " 0,\n",
       " 0,\n",
       " 0,\n",
       " 0,\n",
       " 0,\n",
       " 0,\n",
       " 0,\n",
       " 0,\n",
       " 0,\n",
       " 0,\n",
       " 0,\n",
       " 0,\n",
       " 0,\n",
       " 0,\n",
       " 0,\n",
       " 0,\n",
       " 0,\n",
       " 0,\n",
       " 0,\n",
       " 0,\n",
       " 0,\n",
       " 0,\n",
       " 0,\n",
       " 0,\n",
       " 0,\n",
       " 0,\n",
       " 0,\n",
       " 0,\n",
       " 0,\n",
       " 0,\n",
       " 0,\n",
       " 0,\n",
       " 0,\n",
       " 0,\n",
       " 0,\n",
       " 0,\n",
       " 0,\n",
       " 0,\n",
       " 0,\n",
       " 0,\n",
       " 0,\n",
       " 0,\n",
       " 0,\n",
       " 0,\n",
       " 0,\n",
       " 0,\n",
       " 0,\n",
       " 0,\n",
       " 0,\n",
       " 0,\n",
       " 0,\n",
       " 0,\n",
       " 0,\n",
       " 0,\n",
       " 0,\n",
       " 0,\n",
       " 0,\n",
       " 0,\n",
       " 0,\n",
       " 0,\n",
       " 0]"
      ]
     },
     "execution_count": 32,
     "metadata": {},
     "output_type": "execute_result"
    }
   ],
   "source": [
    "data_points = mean_vec[2].todense().tolist()[0]\n",
    "data_points"
   ]
  },
  {
   "cell_type": "code",
   "execution_count": 41,
   "id": "2aed83fa",
   "metadata": {},
   "outputs": [
    {
     "name": "stdout",
     "output_type": "stream",
     "text": [
      "[Platform 'NVIDIA CUDA']\n",
      "Vendor: NVIDIA Corporation\n",
      "Version: OpenCL 3.0 CUDA 11.6.127\n",
      "Profile: FULL_PROFILE\n",
      "Extensions: cl_khr_global_int32_base_atomics cl_khr_global_int32_extended_atomics cl_khr_local_int32_base_atomics cl_khr_local_int32_extended_atomics cl_khr_fp64 cl_khr_3d_image_writes cl_khr_byte_addressable_store cl_khr_icd cl_khr_gl_sharing cl_nv_compiler_options cl_nv_device_attribute_query cl_nv_pragma_unroll cl_nv_d3d10_sharing cl_khr_d3d10_sharing cl_nv_d3d11_sharing cl_nv_copy_opts cl_nv_create_buffer cl_khr_int64_base_atomics cl_khr_int64_extended_atomics cl_khr_device_uuid cl_khr_pci_bus_info cl_khr_external_semaphore cl_khr_external_memory cl_khr_external_semaphore_win32 cl_khr_external_memory_win32\n",
      "\n",
      "\n",
      "[Device 'NVIDIA GeForce GTX 1060']\n",
      "Vendor: NVIDIA Corporation\n",
      "Type: 4\n",
      "Version: OpenCL 3.0 CUDA\n",
      "Profile: FULL_PROFILE\n",
      "Max Clock Frequency: 1733\n",
      "Global Mem Size: 6442254336\n",
      "Address Bits: 64\n",
      "Max Compute Units: 10\n",
      "Max Work Group Size: 1024\n",
      "Max Work Item Dimensions: 3\n",
      "Max Work Item Sizes: [1024, 1024, 64]\n",
      "Local Mem Size: 49152\n",
      "Max Mem Alloc Size: 1610563584\n",
      "Extensions: cl_khr_global_int32_base_atomics cl_khr_global_int32_extended_atomics cl_khr_local_int32_base_atomics cl_khr_local_int32_extended_atomics cl_khr_fp64 cl_khr_3d_image_writes cl_khr_byte_addressable_store cl_khr_icd cl_khr_gl_sharing cl_nv_compiler_options cl_nv_device_attribute_query cl_nv_pragma_unroll cl_nv_d3d10_sharing cl_khr_d3d10_sharing cl_nv_d3d11_sharing cl_nv_copy_opts cl_nv_create_buffer cl_khr_int64_base_atomics cl_khr_int64_extended_atomics cl_khr_device_uuid cl_khr_pci_bus_info cl_khr_external_semaphore cl_khr_external_memory cl_khr_external_semaphore_win32 cl_khr_external_memory_win32\n",
      "\n",
      "\n",
      "RQA Result:\n",
      "===========\n",
      "\n",
      "Minimum diagonal line length (L_min): 2\n",
      "Minimum vertical line length (V_min): 2\n",
      "Minimum white vertical line length (W_min): 2\n",
      "\n",
      "Recurrence rate (RR): 0.408976\n",
      "Determinism (DET): 0.948241\n",
      "Average diagonal line length (L): 10.836601\n",
      "Longest diagonal line length (L_max): 69\n",
      "Divergence (DIV): 0.014493\n",
      "Entropy diagonal lines (L_entr): 2.166903\n",
      "Laminarity (LAM): 0.966601\n",
      "Trapping time (TT): 20.500000\n",
      "Longest vertical line length (V_max): 70\n",
      "Entropy vertical lines (V_entr): 1.039721\n",
      "Average white vertical line length (W): 19.141264\n",
      "Longest white vertical line length (W_max): 127\n",
      "Longest white vertical line length inverse (W_div): 0.007874\n",
      "Entropy white vertical lines (W_entr): 2.332383\n",
      "\n",
      "Ratio determinism / recurrence rate (DET/RR): 2.318574\n",
      "Ratio laminarity / determinism (LAM/DET): 1.019362\n",
      "\n"
     ]
    }
   ],
   "source": [
    "#data_points = INPUT\n",
    "time_series = TimeSeries(data_points,\n",
    "                         embedding_dimension=2,\n",
    "                         time_delay=1)\n",
    "settings = Settings(time_series,\n",
    "                    analysis_type=Classic,\n",
    "                    neighbourhood=FixedRadius(0.65),\n",
    "                    similarity_measure=EuclideanMetric,\n",
    "                    theiler_corrector=1)\n",
    "computation = RQAComputation.create(settings,\n",
    "                                    verbose=True)\n",
    "result = computation.run()\n",
    "result.min_diagonal_line_length = 2\n",
    "result.min_vertical_line_length = 2\n",
    "result.min_white_vertical_line_length = 2\n",
    "print(result)"
   ]
  },
  {
   "cell_type": "code",
   "execution_count": 34,
   "id": "24eab93d",
   "metadata": {},
   "outputs": [],
   "source": [
    "computation = RPComputation.create(settings)\n",
    "result = computation.run()\n",
    "ImageGenerator.save_recurrence_plot(result.recurrence_matrix_reverse,\n",
    "                                    'recurrence_plot2.png')"
   ]
  },
  {
   "cell_type": "code",
   "execution_count": 68,
   "id": "0239108a",
   "metadata": {
    "scrolled": true
   },
   "outputs": [
    {
     "name": "stdout",
     "output_type": "stream",
     "text": [
      "0.0\n",
      "1.0\n",
      "2.0\n",
      "3.0\n",
      "4.0\n",
      "5.0\n",
      "6.0\n",
      "7.0\n",
      "8.0\n",
      "9.0\n",
      "10.0\n",
      "11.0\n",
      "12.0\n",
      "13.0\n",
      "14.0\n",
      "15.0\n",
      "16.0\n",
      "17.0\n",
      "18.0\n",
      "19.0\n",
      "20.0\n",
      "21.0\n",
      "22.0\n",
      "23.0\n",
      "24.0\n",
      "25.0\n",
      "26.0\n",
      "27.0\n",
      "28.0\n",
      "29.0\n",
      "30.0\n",
      "31.0\n",
      "32.0\n",
      "33.0\n",
      "34.0\n",
      "35.0\n",
      "36.0\n",
      "37.0\n",
      "38.0\n",
      "39.0\n",
      "40.0\n",
      "41.0\n",
      "42.0\n",
      "43.0\n",
      "44.0\n",
      "45.0\n",
      "46.0\n",
      "47.0\n",
      "48.0\n",
      "49.0\n",
      "50.0\n",
      "51.0\n",
      "52.0\n",
      "53.0\n",
      "54.0\n",
      "55.0\n",
      "56.0\n",
      "57.0\n",
      "58.0\n",
      "59.0\n",
      "60.0\n",
      "61.0\n",
      "62.0\n",
      "63.0\n",
      "64.0\n",
      "65.0\n",
      "66.0\n",
      "67.0\n",
      "68.0\n",
      "69.0\n",
      "70.0\n",
      "71.0\n",
      "72.0\n",
      "73.0\n",
      "74.0\n",
      "75.0\n",
      "76.0\n",
      "77.0\n",
      "78.0\n",
      "79.0\n",
      "80.0\n",
      "81.0\n",
      "82.0\n",
      "83.0\n",
      "84.0\n",
      "85.0\n",
      "86.0\n",
      "87.0\n",
      "88.0\n",
      "89.0\n",
      "90.0\n",
      "91.0\n",
      "92.0\n",
      "93.0\n",
      "94.0\n",
      "95.0\n",
      "96.0\n",
      "97.0\n",
      "98.0\n",
      "99.0\n",
      "100.0\n",
      "101.0\n",
      "102.0\n",
      "103.0\n",
      "104.0\n",
      "105.0\n",
      "106.0\n",
      "107.0\n",
      "108.0\n",
      "109.0\n",
      "110.0\n",
      "111.0\n",
      "112.0\n",
      "113.0\n",
      "114.0\n",
      "115.0\n",
      "116.0\n",
      "117.0\n",
      "118.0\n",
      "119.0\n",
      "120.0\n",
      "121.0\n",
      "122.0\n",
      "123.0\n",
      "124.0\n",
      "125.0\n",
      "126.0\n",
      "127.0\n",
      "128.0\n",
      "129.0\n",
      "130.0\n",
      "131.0\n",
      "132.0\n",
      "133.0\n",
      "134.0\n",
      "135.0\n",
      "136.0\n",
      "137.0\n",
      "138.0\n",
      "139.0\n",
      "140.0\n",
      "141.0\n",
      "142.0\n",
      "143.0\n",
      "144.0\n",
      "145.0\n",
      "146.0\n",
      "147.0\n",
      "148.0\n",
      "149.0\n",
      "150.0\n",
      "151.0\n",
      "152.0\n",
      "153.0\n",
      "154.0\n",
      "155.0\n",
      "156.0\n",
      "157.0\n",
      "158.0\n",
      "159.0\n",
      "160.0\n",
      "161.0\n",
      "162.0\n",
      "163.0\n",
      "164.0\n",
      "165.0\n"
     ]
    }
   ],
   "source": [
    "url_vec = []\n",
    "mean = []\n",
    "std = []\n",
    "skew = []\n",
    "kurtosis = []\n",
    "rr = []\n",
    "det = []\n",
    "l = []\n",
    "l_max = []\n",
    "div = []\n",
    "l_entr = []\n",
    "lam = []\n",
    "tt = []\n",
    "v_max = []\n",
    "v_entr = []\n",
    "w = []\n",
    "w_max = []\n",
    "w_entr = []\n",
    "det_rr = []\n",
    "lam_det = []\n",
    "for i in range(0,165366):\n",
    "    ex = mean_vec[i].todense()\n",
    "    mean.append(np.mean(ex))\n",
    "    std.append(np.std(ex))\n",
    "    skew.append(stats.skew(ex.tolist()[0]))\n",
    "    kurtosis.append(stats.kurtosis(ex.tolist()[0]))\n",
    "    url_vec.append(ex.tolist()[0])\n",
    "    data_points = ex.tolist()[0]\n",
    "    time_series = TimeSeries(data_points,embedding_dimension=2,time_delay=1)\n",
    "    settings = Settings(time_series,analysis_type=Classic,neighbourhood=FixedRadius(0.65),similarity_measure=EuclideanMetric,theiler_corrector=1)\n",
    "    computation = RQAComputation.create(settings)\n",
    "    result = computation.run()\n",
    "    result.min_diagonal_line_length = 2\n",
    "    result.min_vertical_line_length = 2\n",
    "    result.min_white_vertical_line_length = 2\n",
    "    rr.append(result.recurrence_rate)\n",
    "    det.append(result.determinism)\n",
    "    l.append(result.average_diagonal_line)\n",
    "    l_max.append(result.longest_diagonal_line)\n",
    "    div.append(result.divergence)\n",
    "    l_entr.append(result.entropy_diagonal_lines)\n",
    "    lam.append(result.laminarity)\n",
    "    tt.append(result.trapping_time)\n",
    "    v_max.append(result.longest_vertical_line)\n",
    "    v_entr.append(result.entropy_vertical_lines)\n",
    "    w.append(result.average_white_vertical_line)\n",
    "    w_max.append(result.longest_white_vertical_line)\n",
    "    w_entr.append(result.entropy_white_vertical_lines)\n",
    "    det_rr.append(result.ratio_determinism_recurrence_rate)\n",
    "    lam_det.append(result.ratio_laminarity_determinism)\n",
    "    if i%1000==0:\n",
    "        print(i/1000)"
   ]
  },
  {
   "cell_type": "code",
   "execution_count": 69,
   "id": "13fbfbbe",
   "metadata": {},
   "outputs": [],
   "source": [
    "total = np.column_stack((url_vec, mean, std, skew, kurtosis,rr,det,l,l_max,div,l_entr,lam,tt,v_max,v_entr,w,w_max,w_entr,det_rr,lam_det,))"
   ]
  },
  {
   "cell_type": "code",
   "execution_count": 83,
   "id": "09133ec6",
   "metadata": {},
   "outputs": [],
   "source": [
    "# SAVE TOTAL\n",
    "#np.save('count&rqa.npy', total)"
   ]
  },
  {
   "cell_type": "code",
   "execution_count": 12,
   "id": "75624be8",
   "metadata": {},
   "outputs": [
    {
     "data": {
      "text/plain": [
       "array([[0.        , 0.        , 0.        , ..., 2.55248904, 1.97579268,\n",
       "        1.00524996],\n",
       "       [0.        , 0.        , 0.        , ..., 2.21615601, 1.53406784,\n",
       "        1.01029084],\n",
       "       [0.        , 0.        , 0.        , ..., 2.33238268, 2.31857385,\n",
       "        1.01936198],\n",
       "       ...,\n",
       "       [0.        , 0.        , 0.        , ..., 2.4799881 , 2.12994827,\n",
       "        1.02709983],\n",
       "       [0.        , 0.        , 0.        , ..., 2.05089712, 1.83534055,\n",
       "        1.0292002 ],\n",
       "       [0.        , 0.        , 0.        , ..., 2.50776911, 2.18341935,\n",
       "        1.0194191 ]])"
      ]
     },
     "execution_count": 12,
     "metadata": {},
     "output_type": "execute_result"
    }
   ],
   "source": [
    "total1 = np.load('count&rqa.npy')\n",
    "total1"
   ]
  },
  {
   "cell_type": "code",
   "execution_count": 16,
   "id": "e7324f64",
   "metadata": {},
   "outputs": [
    {
     "data": {
      "text/plain": [
       "(165366, 152)"
      ]
     },
     "execution_count": 16,
     "metadata": {},
     "output_type": "execute_result"
    }
   ],
   "source": [
    "total1.shape"
   ]
  },
  {
   "cell_type": "code",
   "execution_count": 17,
   "id": "bdd81b97",
   "metadata": {},
   "outputs": [
    {
     "data": {
      "text/plain": [
       "array([0.00000000e+00, 0.00000000e+00, 0.00000000e+00, 0.00000000e+00,\n",
       "       0.00000000e+00, 0.00000000e+00, 0.00000000e+00, 0.00000000e+00,\n",
       "       0.00000000e+00, 0.00000000e+00, 0.00000000e+00, 0.00000000e+00,\n",
       "       0.00000000e+00, 3.00000000e+00, 4.00000000e+00, 2.00000000e+00,\n",
       "       2.00000000e+00, 3.00000000e+00, 3.00000000e+00, 0.00000000e+00,\n",
       "       4.00000000e+00, 1.00000000e+00, 0.00000000e+00, 3.00000000e+00,\n",
       "       2.00000000e+00, 1.00000000e+00, 0.00000000e+00, 0.00000000e+00,\n",
       "       0.00000000e+00, 0.00000000e+00, 0.00000000e+00, 0.00000000e+00,\n",
       "       0.00000000e+00, 0.00000000e+00, 0.00000000e+00, 1.00000000e+00,\n",
       "       2.00000000e+00, 1.00000000e+00, 1.00000000e+00, 2.00000000e+00,\n",
       "       7.00000000e+00, 6.00000000e+00, 0.00000000e+00, 1.00000000e+00,\n",
       "       1.00000000e+00, 0.00000000e+00, 0.00000000e+00, 2.00000000e+00,\n",
       "       0.00000000e+00, 1.00000000e+00, 2.00000000e+00, 3.00000000e+00,\n",
       "       0.00000000e+00, 1.00000000e+00, 2.00000000e+00, 3.00000000e+00,\n",
       "       0.00000000e+00, 2.00000000e+00, 1.00000000e+00, 0.00000000e+00,\n",
       "       2.00000000e+00, 0.00000000e+00, 0.00000000e+00, 0.00000000e+00,\n",
       "       0.00000000e+00, 0.00000000e+00, 0.00000000e+00, 0.00000000e+00,\n",
       "       0.00000000e+00, 0.00000000e+00, 0.00000000e+00, 0.00000000e+00,\n",
       "       0.00000000e+00, 0.00000000e+00, 0.00000000e+00, 0.00000000e+00,\n",
       "       0.00000000e+00, 0.00000000e+00, 0.00000000e+00, 0.00000000e+00,\n",
       "       0.00000000e+00, 0.00000000e+00, 0.00000000e+00, 0.00000000e+00,\n",
       "       0.00000000e+00, 0.00000000e+00, 0.00000000e+00, 0.00000000e+00,\n",
       "       0.00000000e+00, 0.00000000e+00, 0.00000000e+00, 0.00000000e+00,\n",
       "       0.00000000e+00, 0.00000000e+00, 0.00000000e+00, 0.00000000e+00,\n",
       "       0.00000000e+00, 0.00000000e+00, 0.00000000e+00, 0.00000000e+00,\n",
       "       0.00000000e+00, 0.00000000e+00, 0.00000000e+00, 0.00000000e+00,\n",
       "       0.00000000e+00, 0.00000000e+00, 0.00000000e+00, 0.00000000e+00,\n",
       "       0.00000000e+00, 0.00000000e+00, 0.00000000e+00, 0.00000000e+00,\n",
       "       0.00000000e+00, 0.00000000e+00, 0.00000000e+00, 0.00000000e+00,\n",
       "       0.00000000e+00, 0.00000000e+00, 0.00000000e+00, 0.00000000e+00,\n",
       "       0.00000000e+00, 0.00000000e+00, 0.00000000e+00, 0.00000000e+00,\n",
       "       0.00000000e+00, 0.00000000e+00, 0.00000000e+00, 0.00000000e+00,\n",
       "       0.00000000e+00, 0.00000000e+00, 0.00000000e+00, 0.00000000e+00,\n",
       "       0.00000000e+00, 5.18796992e-01, 1.18004399e+00, 2.89264243e+00,\n",
       "       9.58022160e+00, 4.91850321e-01, 9.71794264e-01, 1.55303030e+01,\n",
       "       7.00000000e+01, 1.42857143e-02, 2.84990740e+00, 9.76896149e-01,\n",
       "       3.03333333e+01, 7.10000000e+01, 1.09861231e+00, 2.09810427e+01,\n",
       "       1.18000000e+02, 2.55248904e+00, 1.97579268e+00, 1.00524996e+00])"
      ]
     },
     "execution_count": 17,
     "metadata": {},
     "output_type": "execute_result"
    }
   ],
   "source": [
    "total1[0]"
   ]
  },
  {
   "cell_type": "code",
   "execution_count": 13,
   "id": "987be4e9",
   "metadata": {},
   "outputs": [],
   "source": [
    "total2 = np.delete(total1, [133,134,135,136], axis=1)"
   ]
  },
  {
   "cell_type": "code",
   "execution_count": 15,
   "id": "ed22099e",
   "metadata": {},
   "outputs": [
    {
     "data": {
      "text/plain": [
       "(165366, 148)"
      ]
     },
     "execution_count": 15,
     "metadata": {},
     "output_type": "execute_result"
    }
   ],
   "source": [
    "total2.shape"
   ]
  },
  {
   "cell_type": "code",
   "execution_count": 18,
   "id": "1b7a36e4",
   "metadata": {},
   "outputs": [
    {
     "data": {
      "text/plain": [
       "array([0.00000000e+00, 0.00000000e+00, 0.00000000e+00, 0.00000000e+00,\n",
       "       0.00000000e+00, 0.00000000e+00, 0.00000000e+00, 0.00000000e+00,\n",
       "       0.00000000e+00, 0.00000000e+00, 0.00000000e+00, 0.00000000e+00,\n",
       "       0.00000000e+00, 3.00000000e+00, 4.00000000e+00, 2.00000000e+00,\n",
       "       2.00000000e+00, 3.00000000e+00, 3.00000000e+00, 0.00000000e+00,\n",
       "       4.00000000e+00, 1.00000000e+00, 0.00000000e+00, 3.00000000e+00,\n",
       "       2.00000000e+00, 1.00000000e+00, 0.00000000e+00, 0.00000000e+00,\n",
       "       0.00000000e+00, 0.00000000e+00, 0.00000000e+00, 0.00000000e+00,\n",
       "       0.00000000e+00, 0.00000000e+00, 0.00000000e+00, 1.00000000e+00,\n",
       "       2.00000000e+00, 1.00000000e+00, 1.00000000e+00, 2.00000000e+00,\n",
       "       7.00000000e+00, 6.00000000e+00, 0.00000000e+00, 1.00000000e+00,\n",
       "       1.00000000e+00, 0.00000000e+00, 0.00000000e+00, 2.00000000e+00,\n",
       "       0.00000000e+00, 1.00000000e+00, 2.00000000e+00, 3.00000000e+00,\n",
       "       0.00000000e+00, 1.00000000e+00, 2.00000000e+00, 3.00000000e+00,\n",
       "       0.00000000e+00, 2.00000000e+00, 1.00000000e+00, 0.00000000e+00,\n",
       "       2.00000000e+00, 0.00000000e+00, 0.00000000e+00, 0.00000000e+00,\n",
       "       0.00000000e+00, 0.00000000e+00, 0.00000000e+00, 0.00000000e+00,\n",
       "       0.00000000e+00, 0.00000000e+00, 0.00000000e+00, 0.00000000e+00,\n",
       "       0.00000000e+00, 0.00000000e+00, 0.00000000e+00, 0.00000000e+00,\n",
       "       0.00000000e+00, 0.00000000e+00, 0.00000000e+00, 0.00000000e+00,\n",
       "       0.00000000e+00, 0.00000000e+00, 0.00000000e+00, 0.00000000e+00,\n",
       "       0.00000000e+00, 0.00000000e+00, 0.00000000e+00, 0.00000000e+00,\n",
       "       0.00000000e+00, 0.00000000e+00, 0.00000000e+00, 0.00000000e+00,\n",
       "       0.00000000e+00, 0.00000000e+00, 0.00000000e+00, 0.00000000e+00,\n",
       "       0.00000000e+00, 0.00000000e+00, 0.00000000e+00, 0.00000000e+00,\n",
       "       0.00000000e+00, 0.00000000e+00, 0.00000000e+00, 0.00000000e+00,\n",
       "       0.00000000e+00, 0.00000000e+00, 0.00000000e+00, 0.00000000e+00,\n",
       "       0.00000000e+00, 0.00000000e+00, 0.00000000e+00, 0.00000000e+00,\n",
       "       0.00000000e+00, 0.00000000e+00, 0.00000000e+00, 0.00000000e+00,\n",
       "       0.00000000e+00, 0.00000000e+00, 0.00000000e+00, 0.00000000e+00,\n",
       "       0.00000000e+00, 0.00000000e+00, 0.00000000e+00, 0.00000000e+00,\n",
       "       0.00000000e+00, 0.00000000e+00, 0.00000000e+00, 0.00000000e+00,\n",
       "       0.00000000e+00, 0.00000000e+00, 0.00000000e+00, 0.00000000e+00,\n",
       "       0.00000000e+00, 4.91850321e-01, 9.71794264e-01, 1.55303030e+01,\n",
       "       7.00000000e+01, 1.42857143e-02, 2.84990740e+00, 9.76896149e-01,\n",
       "       3.03333333e+01, 7.10000000e+01, 1.09861231e+00, 2.09810427e+01,\n",
       "       1.18000000e+02, 2.55248904e+00, 1.97579268e+00, 1.00524996e+00])"
      ]
     },
     "execution_count": 18,
     "metadata": {},
     "output_type": "execute_result"
    }
   ],
   "source": [
    "total2[0]"
   ]
  },
  {
   "cell_type": "code",
   "execution_count": 19,
   "id": "ace4e123",
   "metadata": {},
   "outputs": [],
   "source": [
    "train_vec, test_vec = total2[:148829,:], total2[148829:,:]"
   ]
  },
  {
   "cell_type": "code",
   "execution_count": 20,
   "id": "3a3d5956",
   "metadata": {},
   "outputs": [
    {
     "data": {
      "text/plain": [
       "(148829, 148)"
      ]
     },
     "execution_count": 20,
     "metadata": {},
     "output_type": "execute_result"
    }
   ],
   "source": [
    "train_vec.shape"
   ]
  },
  {
   "cell_type": "code",
   "execution_count": 21,
   "id": "fd4de032",
   "metadata": {},
   "outputs": [
    {
     "data": {
      "text/plain": [
       "(16537, 148)"
      ]
     },
     "execution_count": 21,
     "metadata": {},
     "output_type": "execute_result"
    }
   ],
   "source": [
    "test_vec.shape"
   ]
  },
  {
   "cell_type": "code",
   "execution_count": 22,
   "id": "c86e4494",
   "metadata": {},
   "outputs": [],
   "source": [
    "data=[train,valid]\n",
    "train = pd.concat(data, ignore_index=True)"
   ]
  },
  {
   "cell_type": "code",
   "execution_count": 23,
   "id": "3e63b8e1",
   "metadata": {
    "scrolled": true
   },
   "outputs": [
    {
     "data": {
      "text/plain": [
       "RandomForestClassifier(n_jobs=-1, random_state=0, verbose=10)"
      ]
     },
     "execution_count": 23,
     "metadata": {},
     "output_type": "execute_result"
    }
   ],
   "source": [
    "rf = RandomForestClassifier(random_state = 0, verbose = 10, n_jobs = -1)\n",
    "rf.fit(train_vec, train['result'])"
   ]
  },
  {
   "cell_type": "code",
   "execution_count": 24,
   "id": "857e7db2",
   "metadata": {},
   "outputs": [],
   "source": [
    "train_pred = rf.predict(train_vec)"
   ]
  },
  {
   "cell_type": "code",
   "execution_count": 25,
   "id": "01068129",
   "metadata": {},
   "outputs": [],
   "source": [
    "test_pred = rf.predict(test_vec)"
   ]
  },
  {
   "cell_type": "code",
   "execution_count": 26,
   "id": "a345520e",
   "metadata": {},
   "outputs": [
    {
     "name": "stdout",
     "output_type": "stream",
     "text": [
      "Train Accuracy:  1.0\n",
      "Train Precision:  1.0\n",
      "Train Recall:  1.0\n",
      "Train F1:  1.0\n",
      "Test Accuracy:  0.9784120457156679\n",
      "Test Precision:  0.9811986348963926\n",
      "Test Recall:  0.9784120457156679\n",
      "Test F1:  0.9791611585491242\n"
     ]
    }
   ],
   "source": [
    "print(\"Train Accuracy: \", accuracy_score(train_pred,train['result']))\n",
    "print(\"Train Precision: \", precision_score(train_pred,train['result'], average = 'weighted'))\n",
    "print(\"Train Recall: \", recall_score(train_pred,train['result'], average = 'weighted'))\n",
    "print(\"Train F1: \", f1_score(train_pred,train['result'], average = 'weighted'))\n",
    "print(\"Test Accuracy: \", accuracy_score(test_pred,test['result']))\n",
    "print(\"Test Precision: \", precision_score(test_pred,test['result'], average = 'weighted'))\n",
    "print(\"Test Recall: \", recall_score(test_pred,test['result'], average = 'weighted'))\n",
    "print(\"Test F1: \", f1_score(test_pred,test['result'], average = 'weighted'))"
   ]
  },
  {
   "cell_type": "code",
   "execution_count": 27,
   "id": "ab5be0f1",
   "metadata": {},
   "outputs": [
    {
     "data": {
      "text/plain": [
       "SVC(C=1, kernel='linear', random_state=0, verbose=10)"
      ]
     },
     "execution_count": 27,
     "metadata": {},
     "output_type": "execute_result"
    }
   ],
   "source": [
    "svm = SVC(random_state = 0, verbose = 10, C = 1, kernel = 'linear')\n",
    "svm.fit(train_vec, train['result'])"
   ]
  },
  {
   "cell_type": "code",
   "execution_count": 28,
   "id": "4eb52c27",
   "metadata": {},
   "outputs": [],
   "source": [
    "train_pred = svm.predict(train_vec)"
   ]
  },
  {
   "cell_type": "code",
   "execution_count": 29,
   "id": "bb64f7d0",
   "metadata": {},
   "outputs": [],
   "source": [
    "test_pred = svm.predict(test_vec)"
   ]
  },
  {
   "cell_type": "code",
   "execution_count": 30,
   "id": "58e71308",
   "metadata": {},
   "outputs": [
    {
     "name": "stdout",
     "output_type": "stream",
     "text": [
      "Train Accuracy:  0.8987428525354602\n",
      "Train Precision:  0.9229727947236441\n",
      "Train Recall:  0.8987428525354602\n",
      "Train F1:  0.9066030826313591\n",
      "Test Accuracy:  0.8960512789502328\n",
      "Test Precision:  0.9216399466471153\n",
      "Test Recall:  0.8960512789502328\n",
      "Test F1:  0.9044792099845124\n"
     ]
    }
   ],
   "source": [
    "print(\"Train Accuracy: \", accuracy_score(train_pred,train['result']))\n",
    "print(\"Train Precision: \", precision_score(train_pred,train['result'], average = 'weighted'))\n",
    "print(\"Train Recall: \", recall_score(train_pred,train['result'], average = 'weighted'))\n",
    "print(\"Train F1: \", f1_score(train_pred,train['result'], average = 'weighted'))\n",
    "print(\"Test Accuracy: \", accuracy_score(test_pred,test['result']))\n",
    "print(\"Test Precision: \", precision_score(test_pred,test['result'], average = 'weighted'))\n",
    "print(\"Test Recall: \", recall_score(test_pred,test['result'], average = 'weighted'))\n",
    "print(\"Test F1: \", f1_score(test_pred,test['result'], average = 'weighted'))"
   ]
  },
  {
   "cell_type": "markdown",
   "id": "15afefd9",
   "metadata": {},
   "source": [
    "## Cross-Validation"
   ]
  },
  {
   "cell_type": "code",
   "execution_count": 27,
   "id": "50f5ec2c",
   "metadata": {},
   "outputs": [],
   "source": [
    "#metrics\n",
    "scoring = {'accuracy': make_scorer(accuracy_score),\n",
    "           'precision': make_scorer(precision_score, average = 'weighted'),\n",
    "           'recall': make_scorer(recall_score, average = 'weighted'),\n",
    "           'f1': make_scorer(f1_score, average = 'weighted')}"
   ]
  },
  {
   "cell_type": "code",
   "execution_count": 28,
   "id": "307c300b",
   "metadata": {},
   "outputs": [],
   "source": [
    "clf = RandomForestClassifier(n_jobs = -1)"
   ]
  },
  {
   "cell_type": "code",
   "execution_count": 29,
   "id": "1d1d2629",
   "metadata": {},
   "outputs": [
    {
     "data": {
      "text/plain": [
       "{'fit_time': array([12.48163247, 12.5523088 , 10.78830957, 11.37921739, 10.69967222]),\n",
       " 'score_time': array([0.24534559, 0.25431514, 0.2841785 , 0.24438167, 0.25031877]),\n",
       " 'test_accuracy': array([0.97611417, 0.97487376, 0.97417833, 0.97629486, 0.9756599 ]),\n",
       " 'train_accuracy': array([0.99998488, 0.99998488, 0.99999244, 0.99996221, 0.99998488]),\n",
       " 'test_precision': array([0.97618625, 0.97497541, 0.97430649, 0.97642207, 0.97565181]),\n",
       " 'train_precision': array([0.99998488, 0.99998488, 0.99999244, 0.99996221, 0.99998488]),\n",
       " 'test_recall': array([0.97611417, 0.97487376, 0.97417833, 0.97629486, 0.9756599 ]),\n",
       " 'train_recall': array([0.99998488, 0.99998488, 0.99999244, 0.99996221, 0.99998488]),\n",
       " 'test_f1': array([0.97518456, 0.97383167, 0.97288509, 0.9753005 , 0.97472447]),\n",
       " 'train_f1': array([0.99998488, 0.99998488, 0.99999244, 0.9999622 , 0.99998488])}"
      ]
     },
     "execution_count": 29,
     "metadata": {},
     "output_type": "execute_result"
    }
   ],
   "source": [
    "scores = cross_validate(clf, total2, np.array(urls['result'].tolist()), cv=5,scoring=scoring,return_train_score=True)\n",
    "scores"
   ]
  },
  {
   "cell_type": "code",
   "execution_count": 30,
   "id": "0da0a44b",
   "metadata": {},
   "outputs": [
    {
     "name": "stdout",
     "output_type": "stream",
     "text": [
      "The Fit Time is:  11.580228090286255\n",
      "\n",
      "\n",
      "The Score Time is:  0.2557079315185547\n",
      "\n",
      "\n",
      "The Train Accuracy score is:  0.9999818584277052\n",
      "\n",
      "\n",
      "The Train F1 score is:  0.999981857785896\n",
      "\n",
      "\n",
      "The Train Precision score is:  0.9999818589209916\n",
      "\n",
      "\n",
      "The Train Recall score is:  0.9999818584277052\n",
      "\n",
      "\n",
      "The Test Accuracy score is:  0.9754242063667146\n",
      "\n",
      "\n",
      "The Test F1 score is:  0.9743852570367968\n",
      "\n",
      "\n",
      "The Test Precision score is:  0.9755084069128894\n",
      "\n",
      "\n",
      "The Test Recall score is:  0.9754242063667146\n",
      "\n",
      "\n"
     ]
    }
   ],
   "source": [
    "print(\"The Fit Time is: \",scores['fit_time'].mean())\n",
    "print(\"\\n\")\n",
    "print(\"The Score Time is: \",scores['score_time'].mean())\n",
    "print(\"\\n\")\n",
    "print(\"The Train Accuracy score is: \",scores['train_accuracy'].mean())\n",
    "print(\"\\n\")\n",
    "print(\"The Train F1 score is: \",scores['train_f1'].mean())\n",
    "print(\"\\n\")\n",
    "print(\"The Train Precision score is: \",scores['train_precision'].mean())\n",
    "print(\"\\n\")\n",
    "print(\"The Train Recall score is: \",scores['train_recall'].mean())\n",
    "print(\"\\n\")\n",
    "print(\"The Test Accuracy score is: \",scores['test_accuracy'].mean())\n",
    "print(\"\\n\")\n",
    "print(\"The Test F1 score is: \",scores['test_f1'].mean())\n",
    "print(\"\\n\")\n",
    "print(\"The Test Precision score is: \",scores['test_precision'].mean())\n",
    "print(\"\\n\")\n",
    "print(\"The Test Recall score is: \",scores['test_recall'].mean())\n",
    "print(\"\\n\")"
   ]
  },
  {
   "cell_type": "code",
   "execution_count": 31,
   "id": "3e4ecad0",
   "metadata": {},
   "outputs": [],
   "source": [
    "# Above is best as without rqa scores in range of 90%\n",
    "# ONLY RQA features"
   ]
  },
  {
   "cell_type": "code",
   "execution_count": 32,
   "id": "e583d28b",
   "metadata": {},
   "outputs": [],
   "source": [
    "total3 = np.delete(total1, [i for i in range(0,137)], axis=1)"
   ]
  },
  {
   "cell_type": "code",
   "execution_count": 33,
   "id": "238a2eae",
   "metadata": {},
   "outputs": [
    {
     "data": {
      "text/plain": [
       "array([4.91850321e-01, 9.71794264e-01, 1.55303030e+01, 7.00000000e+01,\n",
       "       1.42857143e-02, 2.84990740e+00, 9.76896149e-01, 3.03333333e+01,\n",
       "       7.10000000e+01, 1.09861231e+00, 2.09810427e+01, 1.18000000e+02,\n",
       "       2.55248904e+00, 1.97579268e+00, 1.00524996e+00])"
      ]
     },
     "execution_count": 33,
     "metadata": {},
     "output_type": "execute_result"
    }
   ],
   "source": [
    "total3[0]"
   ]
  },
  {
   "cell_type": "code",
   "execution_count": 34,
   "id": "e05ab74d",
   "metadata": {},
   "outputs": [
    {
     "data": {
      "text/plain": [
       "(165366, 15)"
      ]
     },
     "execution_count": 34,
     "metadata": {},
     "output_type": "execute_result"
    }
   ],
   "source": [
    "total3.shape"
   ]
  },
  {
   "cell_type": "code",
   "execution_count": 35,
   "id": "0bf12af7",
   "metadata": {},
   "outputs": [],
   "source": [
    "clf = RandomForestClassifier(n_jobs = -1)"
   ]
  },
  {
   "cell_type": "code",
   "execution_count": 36,
   "id": "aec0e08d",
   "metadata": {},
   "outputs": [
    {
     "data": {
      "text/plain": [
       "{'fit_time': array([3.55923367, 3.38194895, 3.58564639, 3.34832072, 3.23704147]),\n",
       " 'score_time': array([0.19946289, 0.15673923, 0.16057396, 0.1835084 , 0.1486578 ]),\n",
       " 'test_accuracy': array([0.88326178, 0.88461887, 0.88398391, 0.88492123, 0.88250234]),\n",
       " 'train_accuracy': array([0.99845796, 0.99845041, 0.99850332, 0.99831435, 0.99847309]),\n",
       " 'test_precision': array([0.88187204, 0.88332837, 0.88216212, 0.88346795, 0.88082985]),\n",
       " 'train_precision': array([0.99845938, 0.9984519 , 0.99850471, 0.99831584, 0.99847456]),\n",
       " 'test_recall': array([0.88326178, 0.88461887, 0.88398391, 0.88492123, 0.88250234]),\n",
       " 'train_recall': array([0.99845796, 0.99845041, 0.99850332, 0.99831435, 0.99847309]),\n",
       " 'test_f1': array([0.87736086, 0.87908031, 0.8780949 , 0.87897524, 0.87705084]),\n",
       " 'train_f1': array([0.99845686, 0.99844939, 0.99850249, 0.99831332, 0.99847239])}"
      ]
     },
     "execution_count": 36,
     "metadata": {},
     "output_type": "execute_result"
    }
   ],
   "source": [
    "scores = cross_validate(clf, total3, np.array(urls['result'].tolist()), cv=5,scoring=scoring,return_train_score=True)\n",
    "scores"
   ]
  },
  {
   "cell_type": "code",
   "execution_count": 37,
   "id": "ebf6c2a1",
   "metadata": {},
   "outputs": [
    {
     "name": "stdout",
     "output_type": "stream",
     "text": [
      "The Fit Time is:  3.4224382400512696\n",
      "\n",
      "\n",
      "The Score Time is:  0.16978845596313477\n",
      "\n",
      "\n",
      "The Train Accuracy score is:  0.9984398244169481\n",
      "\n",
      "\n",
      "The Train F1 score is:  0.998438889377241\n",
      "\n",
      "\n",
      "The Train Precision score is:  0.9984412789859674\n",
      "\n",
      "\n",
      "The Train Recall score is:  0.9984398244169481\n",
      "\n",
      "\n",
      "The Test Accuracy score is:  0.8838576285079878\n",
      "\n",
      "\n",
      "The Test F1 score is:  0.8781124285817906\n",
      "\n",
      "\n",
      "The Test Precision score is:  0.882332066387711\n",
      "\n",
      "\n",
      "The Test Recall score is:  0.8838576285079878\n",
      "\n",
      "\n"
     ]
    }
   ],
   "source": [
    "print(\"The Fit Time is: \",scores['fit_time'].mean())\n",
    "print(\"\\n\")\n",
    "print(\"The Score Time is: \",scores['score_time'].mean())\n",
    "print(\"\\n\")\n",
    "print(\"The Train Accuracy score is: \",scores['train_accuracy'].mean())\n",
    "print(\"\\n\")\n",
    "print(\"The Train F1 score is: \",scores['train_f1'].mean())\n",
    "print(\"\\n\")\n",
    "print(\"The Train Precision score is: \",scores['train_precision'].mean())\n",
    "print(\"\\n\")\n",
    "print(\"The Train Recall score is: \",scores['train_recall'].mean())\n",
    "print(\"\\n\")\n",
    "print(\"The Test Accuracy score is: \",scores['test_accuracy'].mean())\n",
    "print(\"\\n\")\n",
    "print(\"The Test F1 score is: \",scores['test_f1'].mean())\n",
    "print(\"\\n\")\n",
    "print(\"The Test Precision score is: \",scores['test_precision'].mean())\n",
    "print(\"\\n\")\n",
    "print(\"The Test Recall score is: \",scores['test_recall'].mean())\n",
    "print(\"\\n\")"
   ]
  },
  {
   "cell_type": "code",
   "execution_count": null,
   "id": "6d2404af",
   "metadata": {},
   "outputs": [],
   "source": []
  }
 ],
 "metadata": {
  "kernelspec": {
   "display_name": "Python 3",
   "language": "python",
   "name": "python3"
  },
  "language_info": {
   "codemirror_mode": {
    "name": "ipython",
    "version": 3
   },
   "file_extension": ".py",
   "mimetype": "text/x-python",
   "name": "python",
   "nbconvert_exporter": "python",
   "pygments_lexer": "ipython3",
   "version": "3.8.8"
  }
 },
 "nbformat": 4,
 "nbformat_minor": 5
}
