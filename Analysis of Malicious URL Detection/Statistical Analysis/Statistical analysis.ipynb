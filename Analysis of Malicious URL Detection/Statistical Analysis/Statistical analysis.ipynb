{
 "cells": [
  {
   "cell_type": "code",
   "execution_count": 18,
   "id": "ab98393b",
   "metadata": {},
   "outputs": [
    {
     "name": "stderr",
     "output_type": "stream",
     "text": [
      "Intel(R) Extension for Scikit-learn* enabled (https://github.com/intel/scikit-learn-intelex)\n"
     ]
    }
   ],
   "source": [
    "#import this before other imports\n",
    "from sklearnex import patch_sklearn,unpatch_sklearn\n",
    "\n",
    "patch_sklearn()\n",
    "#unpatch_sklearn()"
   ]
  },
  {
   "cell_type": "code",
   "execution_count": 19,
   "id": "4273e0b4",
   "metadata": {},
   "outputs": [],
   "source": [
    "import numpy as np \n",
    "import pandas as pd \n",
    "import matplotlib.pyplot as plt\n",
    "import scipy.stats as stats\n",
    "import pylab as pl\n",
    "import seaborn as sns\n",
    "from urllib.parse import urlparse\n",
    "from tld import get_tld\n",
    "import re\n",
    "from sklearn.model_selection import train_test_split\n",
    "import seaborn as sb\n",
    "import warnings\n",
    "warnings.filterwarnings('ignore')\n",
    "from sklearn.svm import SVC\n",
    "from sklearn.linear_model import LogisticRegression\n",
    "from sklearn.tree import DecisionTreeClassifier\n",
    "from sklearn.ensemble import RandomForestClassifier\n",
    "from sklearn.feature_extraction.text import CountVectorizer\n",
    "from sklearn.feature_extraction.text import TfidfVectorizer\n",
    "from sklearn.multiclass import OneVsRestClassifier\n",
    "from sklearn.multiclass import OneVsOneClassifier\n",
    "from sklearn.model_selection import cross_validate\n",
    "from sklearn.preprocessing import MultiLabelBinarizer\n",
    "from sklearn.metrics import f1_score,log_loss,precision_score,recall_score,make_scorer,accuracy_score\n",
    "import json\n",
    "from sklearn.decomposition import TruncatedSVD\n",
    "from sklearn.model_selection import GridSearchCV\n",
    "from sklearn.model_selection import RandomizedSearchCV"
   ]
  },
  {
   "cell_type": "code",
   "execution_count": 20,
   "id": "f0da0cfa",
   "metadata": {},
   "outputs": [
    {
     "data": {
      "text/html": [
       "<div>\n",
       "<style scoped>\n",
       "    .dataframe tbody tr th:only-of-type {\n",
       "        vertical-align: middle;\n",
       "    }\n",
       "\n",
       "    .dataframe tbody tr th {\n",
       "        vertical-align: top;\n",
       "    }\n",
       "\n",
       "    .dataframe thead th {\n",
       "        text-align: right;\n",
       "    }\n",
       "</style>\n",
       "<table border=\"1\" class=\"dataframe\">\n",
       "  <thead>\n",
       "    <tr style=\"text-align: right;\">\n",
       "      <th></th>\n",
       "      <th>url</th>\n",
       "      <th>result</th>\n",
       "    </tr>\n",
       "  </thead>\n",
       "  <tbody>\n",
       "    <tr>\n",
       "      <th>0</th>\n",
       "      <td>http://player.polyv.net/videos/3ee850a192d81e2...</td>\n",
       "      <td>2</td>\n",
       "    </tr>\n",
       "    <tr>\n",
       "      <th>1</th>\n",
       "      <td>http://www.hmaca.com/winnipeg-accounting-blog</td>\n",
       "      <td>1</td>\n",
       "    </tr>\n",
       "    <tr>\n",
       "      <th>2</th>\n",
       "      <td>http://www.generalcustom.com.br/index.php?opti...</td>\n",
       "      <td>1</td>\n",
       "    </tr>\n",
       "    <tr>\n",
       "      <th>3</th>\n",
       "      <td>http://bigcinema.tv/tag/%D0%94%D0%B8%D1%80%D0%...</td>\n",
       "      <td>0</td>\n",
       "    </tr>\n",
       "    <tr>\n",
       "      <th>4</th>\n",
       "      <td>http://www.hafenrocker.de/news/119-news-210920...</td>\n",
       "      <td>1</td>\n",
       "    </tr>\n",
       "    <tr>\n",
       "      <th>...</th>\n",
       "      <td>...</td>\n",
       "      <td>...</td>\n",
       "    </tr>\n",
       "    <tr>\n",
       "      <th>132287</th>\n",
       "      <td>http://masterstrans.com/component/contact/1</td>\n",
       "      <td>1</td>\n",
       "    </tr>\n",
       "    <tr>\n",
       "      <th>132288</th>\n",
       "      <td>http://www.tvmiros.gr/parousiasi-tou-sxediou-m...</td>\n",
       "      <td>1</td>\n",
       "    </tr>\n",
       "    <tr>\n",
       "      <th>132289</th>\n",
       "      <td>https://twitter.com/home?status=%E3%83%8C%E3%8...</td>\n",
       "      <td>0</td>\n",
       "    </tr>\n",
       "    <tr>\n",
       "      <th>132290</th>\n",
       "      <td>http://schertzauto.com/wp-content/themes/NAPA%...</td>\n",
       "      <td>2</td>\n",
       "    </tr>\n",
       "    <tr>\n",
       "      <th>132291</th>\n",
       "      <td>http://archive.dissent.org.uk/component/option</td>\n",
       "      <td>4</td>\n",
       "    </tr>\n",
       "  </tbody>\n",
       "</table>\n",
       "<p>132292 rows × 2 columns</p>\n",
       "</div>"
      ],
      "text/plain": [
       "                                                      url  result\n",
       "0       http://player.polyv.net/videos/3ee850a192d81e2...       2\n",
       "1           http://www.hmaca.com/winnipeg-accounting-blog       1\n",
       "2       http://www.generalcustom.com.br/index.php?opti...       1\n",
       "3       http://bigcinema.tv/tag/%D0%94%D0%B8%D1%80%D0%...       0\n",
       "4       http://www.hafenrocker.de/news/119-news-210920...       1\n",
       "...                                                   ...     ...\n",
       "132287        http://masterstrans.com/component/contact/1       1\n",
       "132288  http://www.tvmiros.gr/parousiasi-tou-sxediou-m...       1\n",
       "132289  https://twitter.com/home?status=%E3%83%8C%E3%8...       0\n",
       "132290  http://schertzauto.com/wp-content/themes/NAPA%...       2\n",
       "132291     http://archive.dissent.org.uk/component/option       4\n",
       "\n",
       "[132292 rows x 2 columns]"
      ]
     },
     "execution_count": 20,
     "metadata": {},
     "output_type": "execute_result"
    }
   ],
   "source": [
    "train = pd.read_csv(\"train_set.csv\")\n",
    "train"
   ]
  },
  {
   "cell_type": "code",
   "execution_count": 21,
   "id": "a5549bef",
   "metadata": {},
   "outputs": [
    {
     "data": {
      "text/html": [
       "<div>\n",
       "<style scoped>\n",
       "    .dataframe tbody tr th:only-of-type {\n",
       "        vertical-align: middle;\n",
       "    }\n",
       "\n",
       "    .dataframe tbody tr th {\n",
       "        vertical-align: top;\n",
       "    }\n",
       "\n",
       "    .dataframe thead th {\n",
       "        text-align: right;\n",
       "    }\n",
       "</style>\n",
       "<table border=\"1\" class=\"dataframe\">\n",
       "  <thead>\n",
       "    <tr style=\"text-align: right;\">\n",
       "      <th></th>\n",
       "      <th>url</th>\n",
       "      <th>result</th>\n",
       "    </tr>\n",
       "  </thead>\n",
       "  <tbody>\n",
       "    <tr>\n",
       "      <th>0</th>\n",
       "      <td>http://jmrsl.net/index.php?option=com_jevents&amp;...</td>\n",
       "      <td>1</td>\n",
       "    </tr>\n",
       "    <tr>\n",
       "      <th>1</th>\n",
       "      <td>http://www.ekwdesign.de/referenzen/corporate-d...</td>\n",
       "      <td>1</td>\n",
       "    </tr>\n",
       "    <tr>\n",
       "      <th>2</th>\n",
       "      <td>http://img25.artxun.com/sdd/oldimg/5dfd/5dfd94...</td>\n",
       "      <td>2</td>\n",
       "    </tr>\n",
       "    <tr>\n",
       "      <th>3</th>\n",
       "      <td>http://yourdayyourbudget.com/index.php?option=...</td>\n",
       "      <td>1</td>\n",
       "    </tr>\n",
       "    <tr>\n",
       "      <th>4</th>\n",
       "      <td>http://www.modconsolas.com/portal/index.php?li...</td>\n",
       "      <td>1</td>\n",
       "    </tr>\n",
       "    <tr>\n",
       "      <th>...</th>\n",
       "      <td>...</td>\n",
       "      <td>...</td>\n",
       "    </tr>\n",
       "    <tr>\n",
       "      <th>16532</th>\n",
       "      <td>http://bisaneema.org/%e0%a4%87%e0%a4%a4%e0%a4%...</td>\n",
       "      <td>2</td>\n",
       "    </tr>\n",
       "    <tr>\n",
       "      <th>16533</th>\n",
       "      <td>http://drogheriapreti.com/chi-siamo.html</td>\n",
       "      <td>1</td>\n",
       "    </tr>\n",
       "    <tr>\n",
       "      <th>16534</th>\n",
       "      <td>http://otomoto.pl/oferta/renault-trafic-zareje...</td>\n",
       "      <td>0</td>\n",
       "    </tr>\n",
       "    <tr>\n",
       "      <th>16535</th>\n",
       "      <td>http://www.bishopstrings.com/violins/ยฃ5000-ยฃ...</td>\n",
       "      <td>1</td>\n",
       "    </tr>\n",
       "    <tr>\n",
       "      <th>16536</th>\n",
       "      <td>http://atwiki.jp/wiki/%E6%93%AC%E4%BA%BA%E3%82...</td>\n",
       "      <td>0</td>\n",
       "    </tr>\n",
       "  </tbody>\n",
       "</table>\n",
       "<p>16537 rows × 2 columns</p>\n",
       "</div>"
      ],
      "text/plain": [
       "                                                     url  result\n",
       "0      http://jmrsl.net/index.php?option=com_jevents&...       1\n",
       "1      http://www.ekwdesign.de/referenzen/corporate-d...       1\n",
       "2      http://img25.artxun.com/sdd/oldimg/5dfd/5dfd94...       2\n",
       "3      http://yourdayyourbudget.com/index.php?option=...       1\n",
       "4      http://www.modconsolas.com/portal/index.php?li...       1\n",
       "...                                                  ...     ...\n",
       "16532  http://bisaneema.org/%e0%a4%87%e0%a4%a4%e0%a4%...       2\n",
       "16533           http://drogheriapreti.com/chi-siamo.html       1\n",
       "16534  http://otomoto.pl/oferta/renault-trafic-zareje...       0\n",
       "16535  http://www.bishopstrings.com/violins/ยฃ5000-ยฃ...       1\n",
       "16536  http://atwiki.jp/wiki/%E6%93%AC%E4%BA%BA%E3%82...       0\n",
       "\n",
       "[16537 rows x 2 columns]"
      ]
     },
     "execution_count": 21,
     "metadata": {},
     "output_type": "execute_result"
    }
   ],
   "source": [
    "valid = pd.read_csv(\"valid_set.csv\")\n",
    "valid"
   ]
  },
  {
   "cell_type": "code",
   "execution_count": 22,
   "id": "f343b545",
   "metadata": {},
   "outputs": [
    {
     "data": {
      "text/html": [
       "<div>\n",
       "<style scoped>\n",
       "    .dataframe tbody tr th:only-of-type {\n",
       "        vertical-align: middle;\n",
       "    }\n",
       "\n",
       "    .dataframe tbody tr th {\n",
       "        vertical-align: top;\n",
       "    }\n",
       "\n",
       "    .dataframe thead th {\n",
       "        text-align: right;\n",
       "    }\n",
       "</style>\n",
       "<table border=\"1\" class=\"dataframe\">\n",
       "  <thead>\n",
       "    <tr style=\"text-align: right;\">\n",
       "      <th></th>\n",
       "      <th>url</th>\n",
       "      <th>result</th>\n",
       "    </tr>\n",
       "  </thead>\n",
       "  <tbody>\n",
       "    <tr>\n",
       "      <th>0</th>\n",
       "      <td>http://www.jin0044.com/cl/?module=System&amp;metho...</td>\n",
       "      <td>2</td>\n",
       "    </tr>\n",
       "    <tr>\n",
       "      <th>1</th>\n",
       "      <td>http://bjgdhm.com/show_products.asp?id=433</td>\n",
       "      <td>1</td>\n",
       "    </tr>\n",
       "    <tr>\n",
       "      <th>2</th>\n",
       "      <td>http://www.masseny.de/index.php?option=com_pho...</td>\n",
       "      <td>1</td>\n",
       "    </tr>\n",
       "    <tr>\n",
       "      <th>3</th>\n",
       "      <td>http://maybank2u.com.my/mbb_info/m2u/public/pe...</td>\n",
       "      <td>0</td>\n",
       "    </tr>\n",
       "    <tr>\n",
       "      <th>4</th>\n",
       "      <td>http://yourlust.com/videos/picked-up-whore-kar...</td>\n",
       "      <td>0</td>\n",
       "    </tr>\n",
       "    <tr>\n",
       "      <th>...</th>\n",
       "      <td>...</td>\n",
       "      <td>...</td>\n",
       "    </tr>\n",
       "    <tr>\n",
       "      <th>16532</th>\n",
       "      <td>http://www.lisambiental.com.br/x.txt</td>\n",
       "      <td>1</td>\n",
       "    </tr>\n",
       "    <tr>\n",
       "      <th>16533</th>\n",
       "      <td>http://pflegeheim-lausitz.de/index.php?option=...</td>\n",
       "      <td>1</td>\n",
       "    </tr>\n",
       "    <tr>\n",
       "      <th>16534</th>\n",
       "      <td>http://www.shekinahphotography.co.za/index.php...</td>\n",
       "      <td>1</td>\n",
       "    </tr>\n",
       "    <tr>\n",
       "      <th>16535</th>\n",
       "      <td>http://wddga.com/index.html?limitstart=20&amp;font...</td>\n",
       "      <td>1</td>\n",
       "    </tr>\n",
       "    <tr>\n",
       "      <th>16536</th>\n",
       "      <td>http://www.selbsthilfegruppen.at/index.php?opt...</td>\n",
       "      <td>1</td>\n",
       "    </tr>\n",
       "  </tbody>\n",
       "</table>\n",
       "<p>16537 rows × 2 columns</p>\n",
       "</div>"
      ],
      "text/plain": [
       "                                                     url  result\n",
       "0      http://www.jin0044.com/cl/?module=System&metho...       2\n",
       "1             http://bjgdhm.com/show_products.asp?id=433       1\n",
       "2      http://www.masseny.de/index.php?option=com_pho...       1\n",
       "3      http://maybank2u.com.my/mbb_info/m2u/public/pe...       0\n",
       "4      http://yourlust.com/videos/picked-up-whore-kar...       0\n",
       "...                                                  ...     ...\n",
       "16532               http://www.lisambiental.com.br/x.txt       1\n",
       "16533  http://pflegeheim-lausitz.de/index.php?option=...       1\n",
       "16534  http://www.shekinahphotography.co.za/index.php...       1\n",
       "16535  http://wddga.com/index.html?limitstart=20&font...       1\n",
       "16536  http://www.selbsthilfegruppen.at/index.php?opt...       1\n",
       "\n",
       "[16537 rows x 2 columns]"
      ]
     },
     "execution_count": 22,
     "metadata": {},
     "output_type": "execute_result"
    }
   ],
   "source": [
    "test = pd.read_csv(\"test_set.csv\")\n",
    "test"
   ]
  },
  {
   "cell_type": "code",
   "execution_count": 23,
   "id": "1de32dd0",
   "metadata": {},
   "outputs": [],
   "source": [
    "data=[train,valid,test]\n",
    "urls = pd.concat(data, ignore_index=True)"
   ]
  },
  {
   "cell_type": "code",
   "execution_count": 24,
   "id": "86506bcb",
   "metadata": {},
   "outputs": [
    {
     "data": {
      "text/html": [
       "<div>\n",
       "<style scoped>\n",
       "    .dataframe tbody tr th:only-of-type {\n",
       "        vertical-align: middle;\n",
       "    }\n",
       "\n",
       "    .dataframe tbody tr th {\n",
       "        vertical-align: top;\n",
       "    }\n",
       "\n",
       "    .dataframe thead th {\n",
       "        text-align: right;\n",
       "    }\n",
       "</style>\n",
       "<table border=\"1\" class=\"dataframe\">\n",
       "  <thead>\n",
       "    <tr style=\"text-align: right;\">\n",
       "      <th></th>\n",
       "      <th>url</th>\n",
       "      <th>result</th>\n",
       "    </tr>\n",
       "  </thead>\n",
       "  <tbody>\n",
       "    <tr>\n",
       "      <th>0</th>\n",
       "      <td>http://player.polyv.net/videos/3ee850a192d81e2...</td>\n",
       "      <td>2</td>\n",
       "    </tr>\n",
       "    <tr>\n",
       "      <th>1</th>\n",
       "      <td>http://www.hmaca.com/winnipeg-accounting-blog</td>\n",
       "      <td>1</td>\n",
       "    </tr>\n",
       "    <tr>\n",
       "      <th>2</th>\n",
       "      <td>http://www.generalcustom.com.br/index.php?opti...</td>\n",
       "      <td>1</td>\n",
       "    </tr>\n",
       "    <tr>\n",
       "      <th>3</th>\n",
       "      <td>http://bigcinema.tv/tag/%D0%94%D0%B8%D1%80%D0%...</td>\n",
       "      <td>0</td>\n",
       "    </tr>\n",
       "    <tr>\n",
       "      <th>4</th>\n",
       "      <td>http://www.hafenrocker.de/news/119-news-210920...</td>\n",
       "      <td>1</td>\n",
       "    </tr>\n",
       "    <tr>\n",
       "      <th>...</th>\n",
       "      <td>...</td>\n",
       "      <td>...</td>\n",
       "    </tr>\n",
       "    <tr>\n",
       "      <th>165361</th>\n",
       "      <td>http://www.lisambiental.com.br/x.txt</td>\n",
       "      <td>1</td>\n",
       "    </tr>\n",
       "    <tr>\n",
       "      <th>165362</th>\n",
       "      <td>http://pflegeheim-lausitz.de/index.php?option=...</td>\n",
       "      <td>1</td>\n",
       "    </tr>\n",
       "    <tr>\n",
       "      <th>165363</th>\n",
       "      <td>http://www.shekinahphotography.co.za/index.php...</td>\n",
       "      <td>1</td>\n",
       "    </tr>\n",
       "    <tr>\n",
       "      <th>165364</th>\n",
       "      <td>http://wddga.com/index.html?limitstart=20&amp;font...</td>\n",
       "      <td>1</td>\n",
       "    </tr>\n",
       "    <tr>\n",
       "      <th>165365</th>\n",
       "      <td>http://www.selbsthilfegruppen.at/index.php?opt...</td>\n",
       "      <td>1</td>\n",
       "    </tr>\n",
       "  </tbody>\n",
       "</table>\n",
       "<p>165366 rows × 2 columns</p>\n",
       "</div>"
      ],
      "text/plain": [
       "                                                      url  result\n",
       "0       http://player.polyv.net/videos/3ee850a192d81e2...       2\n",
       "1           http://www.hmaca.com/winnipeg-accounting-blog       1\n",
       "2       http://www.generalcustom.com.br/index.php?opti...       1\n",
       "3       http://bigcinema.tv/tag/%D0%94%D0%B8%D1%80%D0%...       0\n",
       "4       http://www.hafenrocker.de/news/119-news-210920...       1\n",
       "...                                                   ...     ...\n",
       "165361               http://www.lisambiental.com.br/x.txt       1\n",
       "165362  http://pflegeheim-lausitz.de/index.php?option=...       1\n",
       "165363  http://www.shekinahphotography.co.za/index.php...       1\n",
       "165364  http://wddga.com/index.html?limitstart=20&font...       1\n",
       "165365  http://www.selbsthilfegruppen.at/index.php?opt...       1\n",
       "\n",
       "[165366 rows x 2 columns]"
      ]
     },
     "execution_count": 24,
     "metadata": {},
     "output_type": "execute_result"
    }
   ],
   "source": [
    "urls"
   ]
  },
  {
   "cell_type": "code",
   "execution_count": 25,
   "id": "ddd326f6",
   "metadata": {},
   "outputs": [
    {
     "data": {
      "text/plain": [
       "(165366, 133)"
      ]
     },
     "execution_count": 25,
     "metadata": {},
     "output_type": "execute_result"
    }
   ],
   "source": [
    "vectorizer = CountVectorizer(analyzer='char')\n",
    "train_vec = vectorizer.fit_transform(urls['url'])\n",
    "train_vec.shape"
   ]
  },
  {
   "cell_type": "code",
   "execution_count": 26,
   "id": "6991b100",
   "metadata": {},
   "outputs": [
    {
     "name": "stdout",
     "output_type": "stream",
     "text": [
      "[(0, ' '), (1, '!'), (2, '#'), (3, '$'), (4, '%'), (5, '&'), (6, \"'\"), (7, '('), (8, ')'), (9, '*'), (10, '+'), (11, ','), (12, '-'), (13, '.'), (14, '/'), (15, '0'), (16, '1'), (17, '2'), (18, '3'), (19, '4'), (20, '5'), (21, '6'), (22, '7'), (23, '8'), (24, '9'), (25, ':'), (26, ';'), (27, '<'), (28, '='), (29, '>'), (30, '?'), (31, '@'), (32, '['), (33, '\\\\'), (34, ']'), (35, '_'), (36, 'a'), (37, 'b'), (38, 'c'), (39, 'd'), (40, 'e'), (41, 'f'), (42, 'g'), (43, 'h'), (44, 'i'), (45, 'j'), (46, 'k'), (47, 'l'), (48, 'm'), (49, 'n'), (50, 'o'), (51, 'p'), (52, 'q'), (53, 'r'), (54, 's'), (55, 't'), (56, 'u'), (57, 'v'), (58, 'w'), (59, 'x'), (60, 'y'), (61, 'z'), (62, '{'), (63, '|'), (64, '}'), (65, '~'), (66, '\\x8d'), (67, '\\xa0'), (68, '¸'), (69, 'ä'), (70, 'å'), (71, 'ø'), (72, 'š'), (73, 'ˆ'), (74, 'ก'), (75, 'ข'), (76, 'ฃ'), (77, 'ค'), (78, 'ฅ'), (79, 'ง'), (80, 'จ'), (81, 'ฉ'), (82, 'ช'), (83, 'ซ'), (84, 'ฌ'), (85, 'ญ'), (86, 'ฎ'), (87, 'ฏ'), (88, 'ฐ'), (89, 'ฑ'), (90, 'ฒ'), (91, 'ณ'), (92, 'ด'), (93, 'ต'), (94, 'ถ'), (95, 'ท'), (96, 'ธ'), (97, 'น'), (98, 'บ'), (99, 'ป'), (100, 'ผ'), (101, 'ฝ'), (102, 'พ'), (103, 'ฟ'), (104, 'ย'), (105, 'ร'), (106, 'ฤ'), (107, 'ล'), (108, 'ฦ'), (109, 'ว'), (110, 'ศ'), (111, 'ส'), (112, 'ห'), (113, 'ฬ'), (114, 'อ'), (115, 'ฮ'), (116, 'ะ'), (117, 'ั'), (118, 'า'), (119, 'ำ'), (120, 'ิ'), (121, 'ี'), (122, 'ึ'), (123, 'ื'), (124, 'ุ'), (125, 'ู'), (126, 'ฺ'), (127, 'เ'), (128, 'ไ'), (129, 'ๅ'), (130, '่'), (131, '๓'), (132, '\\uf1dc')]\n"
     ]
    }
   ],
   "source": [
    "print([(vectorizer.vocabulary_[w],w) for w in vectorizer.get_feature_names()])"
   ]
  },
  {
   "cell_type": "code",
   "execution_count": 27,
   "id": "2430c7d1",
   "metadata": {},
   "outputs": [],
   "source": [
    "l = [[] for _ in range(0,133)]\n",
    "for i in range(0,165366):\n",
    "    ex = train_vec[i].todense()\n",
    "    for j in range(0,133):\n",
    "        l[j].append(ex.item(j))"
   ]
  },
  {
   "cell_type": "code",
   "execution_count": 28,
   "id": "8be25f34",
   "metadata": {},
   "outputs": [],
   "source": [
    "l1 = [[] for _ in range(0,133)]\n",
    "for i in range(0,165366):\n",
    "    if urls['result'][i] == 0:\n",
    "        ex = train_vec[i].todense()\n",
    "        for j in range(0,133):\n",
    "            l1[j].append(ex.item(j))"
   ]
  },
  {
   "cell_type": "code",
   "execution_count": 29,
   "id": "910e30f0",
   "metadata": {},
   "outputs": [],
   "source": [
    "l2 = [[] for _ in range(0,133)]\n",
    "for i in range(0,165366):\n",
    "    if urls['result'][i] == 1:\n",
    "        ex = train_vec[i].todense()\n",
    "        for j in range(0,133):\n",
    "            l2[j].append(ex.item(j))"
   ]
  },
  {
   "cell_type": "code",
   "execution_count": 30,
   "id": "89f307dc",
   "metadata": {},
   "outputs": [],
   "source": [
    "l3 = [[] for _ in range(0,133)]\n",
    "for i in range(0,165366):\n",
    "    if urls['result'][i] == 2:\n",
    "        ex = train_vec[i].todense()\n",
    "        for j in range(0,133):\n",
    "            l3[j].append(ex.item(j))"
   ]
  },
  {
   "cell_type": "code",
   "execution_count": 31,
   "id": "f5ed883c",
   "metadata": {},
   "outputs": [],
   "source": [
    "l4 = [[] for _ in range(0,133)]\n",
    "for i in range(0,165366):\n",
    "    if urls['result'][i] == 3:\n",
    "        ex = train_vec[i].todense()\n",
    "        for j in range(0,133):\n",
    "            l4[j].append(ex.item(j))"
   ]
  },
  {
   "cell_type": "code",
   "execution_count": 32,
   "id": "cc7a5f13",
   "metadata": {},
   "outputs": [],
   "source": [
    "l5 = [[] for _ in range(0,133)]\n",
    "for i in range(0,165366):\n",
    "    if urls['result'][i] == 4:\n",
    "        ex = train_vec[i].todense()\n",
    "        for j in range(0,133):\n",
    "            l5[j].append(ex.item(j))"
   ]
  },
  {
   "cell_type": "code",
   "execution_count": 33,
   "id": "3c4e5ad1",
   "metadata": {},
   "outputs": [
    {
     "data": {
      "image/png": "[encoded data removed]",
      "text/plain": [
       "<Figure size 432x288 with 1 Axes>"
      ]
     },
     "metadata": {
      "needs_background": "light"
     },
     "output_type": "display_data"
    }
   ],
   "source": [
    "feature_index = 30\n",
    "n, bins, patches = plt.hist(l[feature_index], bins=np.linspace(np.min(l[feature_index]), np.max(l[feature_index]), num=3), density = True)\n",
    "fit = stats.norm.pdf(l[feature_index], np.mean(l[feature_index]), np.std(l[feature_index]))\n",
    "pl.plot(l[feature_index],fit,'-o')\n",
    "plt.show()"
   ]
  },
  {
   "cell_type": "code",
   "execution_count": 38,
   "id": "eee2d64e",
   "metadata": {},
   "outputs": [
    {
     "name": "stdout",
     "output_type": "stream",
     "text": [
      "All Classes\n",
      "Mean:  0.4826626997085253\n",
      "Standard Deviation:  0.5659989511640846\n",
      "Skewness:  2.4748826070776873\n",
      "Kurtosis:  44.18694613863534\n"
     ]
    }
   ],
   "source": [
    "print(\"All Classes\")\n",
    "print(\"Mean: \", np.mean(l[feature_index]))\n",
    "print(\"Standard Deviation: \", np.std(l[feature_index]))\n",
    "print(\"Skewness: \", stats.skew(l[feature_index]))\n",
    "print(\"Kurtosis: \", stats.kurtosis(l[feature_index]))"
   ]
  },
  {
   "cell_type": "code",
   "execution_count": 39,
   "id": "84ec8148",
   "metadata": {},
   "outputs": [
    {
     "data": {
      "image/png": "[encoded data removed]",
      "text/plain": [
       "<Figure size 432x288 with 1 Axes>"
      ]
     },
     "metadata": {
      "needs_background": "light"
     },
     "output_type": "display_data"
    }
   ],
   "source": [
    "n, bins, patches = plt.hist(l1[feature_index], bins=np.linspace(np.min(l1[feature_index]), np.max(l1[feature_index]), num=3), density = True)\n",
    "fit = stats.norm.pdf(l1[feature_index], np.mean(l1[feature_index]), np.std(l1[feature_index]))\n",
    "pl.plot(l1[feature_index],fit,'-o')\n",
    "plt.show()"
   ]
  },
  {
   "cell_type": "code",
   "execution_count": 40,
   "id": "150a7b27",
   "metadata": {},
   "outputs": [
    {
     "name": "stdout",
     "output_type": "stream",
     "text": [
      "Benign\n",
      "Mean:  0.2775171010232348\n",
      "Standard Deviation:  0.464991764815708\n",
      "Skewness:  2.214692828597389\n",
      "Kurtosis:  32.20183524459213\n"
     ]
    }
   ],
   "source": [
    "print(\"Benign\")\n",
    "print(\"Mean: \", np.mean(l1[feature_index]))\n",
    "print(\"Standard Deviation: \", np.std(l1[feature_index]))\n",
    "print(\"Skewness: \", stats.skew(l1[feature_index]))\n",
    "print(\"Kurtosis: \", stats.kurtosis(l1[feature_index]))"
   ]
  },
  {
   "cell_type": "code",
   "execution_count": 43,
   "id": "fec827f4",
   "metadata": {},
   "outputs": [
    {
     "data": {
      "image/png": "[encoded data removed]",
      "text/plain": [
       "<Figure size 432x288 with 1 Axes>"
      ]
     },
     "metadata": {
      "needs_background": "light"
     },
     "output_type": "display_data"
    }
   ],
   "source": [
    "n, bins, patches = plt.hist(l2[feature_index], bins=np.linspace(np.min(l2[feature_index]), np.max(l2[feature_index]), num=3), density = True)\n",
    "fit = stats.norm.pdf(l2[feature_index], np.mean(l2[feature_index]), np.std(l2[feature_index]))\n",
    "pl.plot(l2[feature_index],fit,'-o')\n",
    "plt.show()"
   ]
  },
  {
   "cell_type": "code",
   "execution_count": 44,
   "id": "a0415d15",
   "metadata": {},
   "outputs": [
    {
     "name": "stdout",
     "output_type": "stream",
     "text": [
      "Defacement\n",
      "Mean:  0.5700985931554994\n",
      "Standard Deviation:  0.4957732995886717\n",
      "Skewness:  -0.27042872016211345\n",
      "Kurtosis:  -1.8625051670035253\n"
     ]
    }
   ],
   "source": [
    "print(\"Defacement\")\n",
    "print(\"Mean: \", np.mean(l2[feature_index]))\n",
    "print(\"Standard Deviation: \", np.std(l2[feature_index]))\n",
    "print(\"Skewness: \", stats.skew(l2[feature_index]))\n",
    "print(\"Kurtosis: \", stats.kurtosis(l2[feature_index]))"
   ]
  },
  {
   "cell_type": "code",
   "execution_count": 45,
   "id": "50deba17",
   "metadata": {},
   "outputs": [
    {
     "data": {
      "image/png": "[encoded data removed]",
      "text/plain": [
       "<Figure size 432x288 with 1 Axes>"
      ]
     },
     "metadata": {
      "needs_background": "light"
     },
     "output_type": "display_data"
    }
   ],
   "source": [
    "n, bins, patches = plt.hist(l3[feature_index], bins=np.linspace(np.min(l3[feature_index]), np.max(l3[feature_index]), num=3), density = True)\n",
    "fit = stats.norm.pdf(l3[feature_index], np.mean(l3[feature_index]), np.std(l3[feature_index]))\n",
    "pl.plot(l3[feature_index],fit,'-o')\n",
    "plt.show()"
   ]
  },
  {
   "cell_type": "code",
   "execution_count": 46,
   "id": "55780e1b",
   "metadata": {},
   "outputs": [
    {
     "name": "stdout",
     "output_type": "stream",
     "text": [
      "Malware\n",
      "Mean:  0.3114300536053951\n",
      "Standard Deviation:  0.46790737510958746\n",
      "Skewness:  0.8801210475411414\n",
      "Kurtosis:  -1.043710102895619\n"
     ]
    }
   ],
   "source": [
    "print(\"Malware\")\n",
    "print(\"Mean: \", np.mean(l3[feature_index]))\n",
    "print(\"Standard Deviation: \", np.std(l3[feature_index]))\n",
    "print(\"Skewness: \", stats.skew(l3[feature_index]))\n",
    "print(\"Kurtosis: \", stats.kurtosis(l3[feature_index]))"
   ]
  },
  {
   "cell_type": "code",
   "execution_count": 47,
   "id": "23a14741",
   "metadata": {},
   "outputs": [
    {
     "data": {
      "image/png": "[encoded data removed]",
      "text/plain": [
       "<Figure size 432x288 with 1 Axes>"
      ]
     },
     "metadata": {
      "needs_background": "light"
     },
     "output_type": "display_data"
    }
   ],
   "source": [
    "n, bins, patches = plt.hist(l4[feature_index], bins=np.linspace(np.min(l4[feature_index]), np.max(l4[feature_index]), num=3), density = True)\n",
    "fit = stats.norm.pdf(l4[feature_index], np.mean(l4[feature_index]), np.std(l4[feature_index]))\n",
    "pl.plot(l4[feature_index],fit,'-o')\n",
    "plt.show()"
   ]
  },
  {
   "cell_type": "code",
   "execution_count": 48,
   "id": "16d1dd42",
   "metadata": {},
   "outputs": [
    {
     "name": "stdout",
     "output_type": "stream",
     "text": [
      "Phishing\n",
      "Mean:  0.2639237330657301\n",
      "Standard Deviation:  0.5895800832496715\n",
      "Skewness:  2.1673335955615647\n",
      "Kurtosis:  3.930922446206525\n"
     ]
    }
   ],
   "source": [
    "print(\"Phishing\")\n",
    "print(\"Mean: \", np.mean(l4[feature_index]))\n",
    "print(\"Standard Deviation: \", np.std(l4[feature_index]))\n",
    "print(\"Skewness: \", stats.skew(l4[feature_index]))\n",
    "print(\"Kurtosis: \", stats.kurtosis(l4[feature_index]))"
   ]
  },
  {
   "cell_type": "code",
   "execution_count": 51,
   "id": "d97da411",
   "metadata": {},
   "outputs": [
    {
     "data": {
      "image/png": "[encoded data removed]",
      "text/plain": [
       "<Figure size 432x288 with 1 Axes>"
      ]
     },
     "metadata": {
      "needs_background": "light"
     },
     "output_type": "display_data"
    }
   ],
   "source": [
    "n, bins, patches = plt.hist(l5[feature_index], bins=np.linspace(np.min(l5[feature_index]), np.max(l5[feature_index]), num=3), density = True)\n",
    "fit = stats.norm.pdf(l5[feature_index], np.mean(l5[feature_index]), np.std(l5[feature_index]))\n",
    "pl.plot(l5[feature_index],fit,'-o')\n",
    "plt.show()"
   ]
  },
  {
   "cell_type": "code",
   "execution_count": 52,
   "id": "d7e1a97f",
   "metadata": {},
   "outputs": [
    {
     "name": "stdout",
     "output_type": "stream",
     "text": [
      "Spam\n",
      "Mean:  0.7313333333333333\n",
      "Standard Deviation:  0.9932194565597721\n",
      "Skewness:  4.889623006774605\n",
      "Kurtosis:  54.588888962631\n"
     ]
    }
   ],
   "source": [
    "print(\"Spam\")\n",
    "print(\"Mean: \", np.mean(l5[feature_index]))\n",
    "print(\"Standard Deviation: \", np.std(l5[feature_index]))\n",
    "print(\"Skewness: \", stats.skew(l5[feature_index]))\n",
    "print(\"Kurtosis: \", stats.kurtosis(l5[feature_index]))"
   ]
  },
  {
   "cell_type": "markdown",
   "id": "1d7ff49b",
   "metadata": {},
   "source": [
    "## Model"
   ]
  },
  {
   "cell_type": "code",
   "execution_count": 53,
   "id": "156a41d3",
   "metadata": {},
   "outputs": [
    {
     "data": {
      "text/html": [
       "<div>\n",
       "<style scoped>\n",
       "    .dataframe tbody tr th:only-of-type {\n",
       "        vertical-align: middle;\n",
       "    }\n",
       "\n",
       "    .dataframe tbody tr th {\n",
       "        vertical-align: top;\n",
       "    }\n",
       "\n",
       "    .dataframe thead th {\n",
       "        text-align: right;\n",
       "    }\n",
       "</style>\n",
       "<table border=\"1\" class=\"dataframe\">\n",
       "  <thead>\n",
       "    <tr style=\"text-align: right;\">\n",
       "      <th></th>\n",
       "      <th>url</th>\n",
       "      <th>result</th>\n",
       "    </tr>\n",
       "  </thead>\n",
       "  <tbody>\n",
       "    <tr>\n",
       "      <th>0</th>\n",
       "      <td>http://player.polyv.net/videos/3ee850a192d81e2...</td>\n",
       "      <td>2</td>\n",
       "    </tr>\n",
       "    <tr>\n",
       "      <th>1</th>\n",
       "      <td>http://www.hmaca.com/winnipeg-accounting-blog</td>\n",
       "      <td>1</td>\n",
       "    </tr>\n",
       "    <tr>\n",
       "      <th>2</th>\n",
       "      <td>http://www.generalcustom.com.br/index.php?opti...</td>\n",
       "      <td>1</td>\n",
       "    </tr>\n",
       "    <tr>\n",
       "      <th>3</th>\n",
       "      <td>http://bigcinema.tv/tag/%D0%94%D0%B8%D1%80%D0%...</td>\n",
       "      <td>0</td>\n",
       "    </tr>\n",
       "    <tr>\n",
       "      <th>4</th>\n",
       "      <td>http://www.hafenrocker.de/news/119-news-210920...</td>\n",
       "      <td>1</td>\n",
       "    </tr>\n",
       "    <tr>\n",
       "      <th>...</th>\n",
       "      <td>...</td>\n",
       "      <td>...</td>\n",
       "    </tr>\n",
       "    <tr>\n",
       "      <th>132287</th>\n",
       "      <td>http://masterstrans.com/component/contact/1</td>\n",
       "      <td>1</td>\n",
       "    </tr>\n",
       "    <tr>\n",
       "      <th>132288</th>\n",
       "      <td>http://www.tvmiros.gr/parousiasi-tou-sxediou-m...</td>\n",
       "      <td>1</td>\n",
       "    </tr>\n",
       "    <tr>\n",
       "      <th>132289</th>\n",
       "      <td>https://twitter.com/home?status=%E3%83%8C%E3%8...</td>\n",
       "      <td>0</td>\n",
       "    </tr>\n",
       "    <tr>\n",
       "      <th>132290</th>\n",
       "      <td>http://schertzauto.com/wp-content/themes/NAPA%...</td>\n",
       "      <td>2</td>\n",
       "    </tr>\n",
       "    <tr>\n",
       "      <th>132291</th>\n",
       "      <td>http://archive.dissent.org.uk/component/option</td>\n",
       "      <td>4</td>\n",
       "    </tr>\n",
       "  </tbody>\n",
       "</table>\n",
       "<p>132292 rows × 2 columns</p>\n",
       "</div>"
      ],
      "text/plain": [
       "                                                      url  result\n",
       "0       http://player.polyv.net/videos/3ee850a192d81e2...       2\n",
       "1           http://www.hmaca.com/winnipeg-accounting-blog       1\n",
       "2       http://www.generalcustom.com.br/index.php?opti...       1\n",
       "3       http://bigcinema.tv/tag/%D0%94%D0%B8%D1%80%D0%...       0\n",
       "4       http://www.hafenrocker.de/news/119-news-210920...       1\n",
       "...                                                   ...     ...\n",
       "132287        http://masterstrans.com/component/contact/1       1\n",
       "132288  http://www.tvmiros.gr/parousiasi-tou-sxediou-m...       1\n",
       "132289  https://twitter.com/home?status=%E3%83%8C%E3%8...       0\n",
       "132290  http://schertzauto.com/wp-content/themes/NAPA%...       2\n",
       "132291     http://archive.dissent.org.uk/component/option       4\n",
       "\n",
       "[132292 rows x 2 columns]"
      ]
     },
     "execution_count": 53,
     "metadata": {},
     "output_type": "execute_result"
    }
   ],
   "source": [
    "train = pd.read_csv(\"train_set.csv\")\n",
    "train"
   ]
  },
  {
   "cell_type": "code",
   "execution_count": 54,
   "id": "8d5e521c",
   "metadata": {},
   "outputs": [
    {
     "data": {
      "text/html": [
       "<div>\n",
       "<style scoped>\n",
       "    .dataframe tbody tr th:only-of-type {\n",
       "        vertical-align: middle;\n",
       "    }\n",
       "\n",
       "    .dataframe tbody tr th {\n",
       "        vertical-align: top;\n",
       "    }\n",
       "\n",
       "    .dataframe thead th {\n",
       "        text-align: right;\n",
       "    }\n",
       "</style>\n",
       "<table border=\"1\" class=\"dataframe\">\n",
       "  <thead>\n",
       "    <tr style=\"text-align: right;\">\n",
       "      <th></th>\n",
       "      <th>url</th>\n",
       "      <th>result</th>\n",
       "    </tr>\n",
       "  </thead>\n",
       "  <tbody>\n",
       "    <tr>\n",
       "      <th>0</th>\n",
       "      <td>http://jmrsl.net/index.php?option=com_jevents&amp;...</td>\n",
       "      <td>1</td>\n",
       "    </tr>\n",
       "    <tr>\n",
       "      <th>1</th>\n",
       "      <td>http://www.ekwdesign.de/referenzen/corporate-d...</td>\n",
       "      <td>1</td>\n",
       "    </tr>\n",
       "    <tr>\n",
       "      <th>2</th>\n",
       "      <td>http://img25.artxun.com/sdd/oldimg/5dfd/5dfd94...</td>\n",
       "      <td>2</td>\n",
       "    </tr>\n",
       "    <tr>\n",
       "      <th>3</th>\n",
       "      <td>http://yourdayyourbudget.com/index.php?option=...</td>\n",
       "      <td>1</td>\n",
       "    </tr>\n",
       "    <tr>\n",
       "      <th>4</th>\n",
       "      <td>http://www.modconsolas.com/portal/index.php?li...</td>\n",
       "      <td>1</td>\n",
       "    </tr>\n",
       "    <tr>\n",
       "      <th>...</th>\n",
       "      <td>...</td>\n",
       "      <td>...</td>\n",
       "    </tr>\n",
       "    <tr>\n",
       "      <th>16532</th>\n",
       "      <td>http://bisaneema.org/%e0%a4%87%e0%a4%a4%e0%a4%...</td>\n",
       "      <td>2</td>\n",
       "    </tr>\n",
       "    <tr>\n",
       "      <th>16533</th>\n",
       "      <td>http://drogheriapreti.com/chi-siamo.html</td>\n",
       "      <td>1</td>\n",
       "    </tr>\n",
       "    <tr>\n",
       "      <th>16534</th>\n",
       "      <td>http://otomoto.pl/oferta/renault-trafic-zareje...</td>\n",
       "      <td>0</td>\n",
       "    </tr>\n",
       "    <tr>\n",
       "      <th>16535</th>\n",
       "      <td>http://www.bishopstrings.com/violins/ยฃ5000-ยฃ...</td>\n",
       "      <td>1</td>\n",
       "    </tr>\n",
       "    <tr>\n",
       "      <th>16536</th>\n",
       "      <td>http://atwiki.jp/wiki/%E6%93%AC%E4%BA%BA%E3%82...</td>\n",
       "      <td>0</td>\n",
       "    </tr>\n",
       "  </tbody>\n",
       "</table>\n",
       "<p>16537 rows × 2 columns</p>\n",
       "</div>"
      ],
      "text/plain": [
       "                                                     url  result\n",
       "0      http://jmrsl.net/index.php?option=com_jevents&...       1\n",
       "1      http://www.ekwdesign.de/referenzen/corporate-d...       1\n",
       "2      http://img25.artxun.com/sdd/oldimg/5dfd/5dfd94...       2\n",
       "3      http://yourdayyourbudget.com/index.php?option=...       1\n",
       "4      http://www.modconsolas.com/portal/index.php?li...       1\n",
       "...                                                  ...     ...\n",
       "16532  http://bisaneema.org/%e0%a4%87%e0%a4%a4%e0%a4%...       2\n",
       "16533           http://drogheriapreti.com/chi-siamo.html       1\n",
       "16534  http://otomoto.pl/oferta/renault-trafic-zareje...       0\n",
       "16535  http://www.bishopstrings.com/violins/ยฃ5000-ยฃ...       1\n",
       "16536  http://atwiki.jp/wiki/%E6%93%AC%E4%BA%BA%E3%82...       0\n",
       "\n",
       "[16537 rows x 2 columns]"
      ]
     },
     "execution_count": 54,
     "metadata": {},
     "output_type": "execute_result"
    }
   ],
   "source": [
    "valid = pd.read_csv(\"valid_set.csv\")\n",
    "valid"
   ]
  },
  {
   "cell_type": "code",
   "execution_count": 55,
   "id": "557f15e1",
   "metadata": {},
   "outputs": [
    {
     "data": {
      "text/html": [
       "<div>\n",
       "<style scoped>\n",
       "    .dataframe tbody tr th:only-of-type {\n",
       "        vertical-align: middle;\n",
       "    }\n",
       "\n",
       "    .dataframe tbody tr th {\n",
       "        vertical-align: top;\n",
       "    }\n",
       "\n",
       "    .dataframe thead th {\n",
       "        text-align: right;\n",
       "    }\n",
       "</style>\n",
       "<table border=\"1\" class=\"dataframe\">\n",
       "  <thead>\n",
       "    <tr style=\"text-align: right;\">\n",
       "      <th></th>\n",
       "      <th>url</th>\n",
       "      <th>result</th>\n",
       "    </tr>\n",
       "  </thead>\n",
       "  <tbody>\n",
       "    <tr>\n",
       "      <th>0</th>\n",
       "      <td>http://www.jin0044.com/cl/?module=System&amp;metho...</td>\n",
       "      <td>2</td>\n",
       "    </tr>\n",
       "    <tr>\n",
       "      <th>1</th>\n",
       "      <td>http://bjgdhm.com/show_products.asp?id=433</td>\n",
       "      <td>1</td>\n",
       "    </tr>\n",
       "    <tr>\n",
       "      <th>2</th>\n",
       "      <td>http://www.masseny.de/index.php?option=com_pho...</td>\n",
       "      <td>1</td>\n",
       "    </tr>\n",
       "    <tr>\n",
       "      <th>3</th>\n",
       "      <td>http://maybank2u.com.my/mbb_info/m2u/public/pe...</td>\n",
       "      <td>0</td>\n",
       "    </tr>\n",
       "    <tr>\n",
       "      <th>4</th>\n",
       "      <td>http://yourlust.com/videos/picked-up-whore-kar...</td>\n",
       "      <td>0</td>\n",
       "    </tr>\n",
       "    <tr>\n",
       "      <th>...</th>\n",
       "      <td>...</td>\n",
       "      <td>...</td>\n",
       "    </tr>\n",
       "    <tr>\n",
       "      <th>16532</th>\n",
       "      <td>http://www.lisambiental.com.br/x.txt</td>\n",
       "      <td>1</td>\n",
       "    </tr>\n",
       "    <tr>\n",
       "      <th>16533</th>\n",
       "      <td>http://pflegeheim-lausitz.de/index.php?option=...</td>\n",
       "      <td>1</td>\n",
       "    </tr>\n",
       "    <tr>\n",
       "      <th>16534</th>\n",
       "      <td>http://www.shekinahphotography.co.za/index.php...</td>\n",
       "      <td>1</td>\n",
       "    </tr>\n",
       "    <tr>\n",
       "      <th>16535</th>\n",
       "      <td>http://wddga.com/index.html?limitstart=20&amp;font...</td>\n",
       "      <td>1</td>\n",
       "    </tr>\n",
       "    <tr>\n",
       "      <th>16536</th>\n",
       "      <td>http://www.selbsthilfegruppen.at/index.php?opt...</td>\n",
       "      <td>1</td>\n",
       "    </tr>\n",
       "  </tbody>\n",
       "</table>\n",
       "<p>16537 rows × 2 columns</p>\n",
       "</div>"
      ],
      "text/plain": [
       "                                                     url  result\n",
       "0      http://www.jin0044.com/cl/?module=System&metho...       2\n",
       "1             http://bjgdhm.com/show_products.asp?id=433       1\n",
       "2      http://www.masseny.de/index.php?option=com_pho...       1\n",
       "3      http://maybank2u.com.my/mbb_info/m2u/public/pe...       0\n",
       "4      http://yourlust.com/videos/picked-up-whore-kar...       0\n",
       "...                                                  ...     ...\n",
       "16532               http://www.lisambiental.com.br/x.txt       1\n",
       "16533  http://pflegeheim-lausitz.de/index.php?option=...       1\n",
       "16534  http://www.shekinahphotography.co.za/index.php...       1\n",
       "16535  http://wddga.com/index.html?limitstart=20&font...       1\n",
       "16536  http://www.selbsthilfegruppen.at/index.php?opt...       1\n",
       "\n",
       "[16537 rows x 2 columns]"
      ]
     },
     "execution_count": 55,
     "metadata": {},
     "output_type": "execute_result"
    }
   ],
   "source": [
    "test = pd.read_csv(\"test_set.csv\")\n",
    "test"
   ]
  },
  {
   "cell_type": "code",
   "execution_count": 56,
   "id": "892f1f0e",
   "metadata": {},
   "outputs": [],
   "source": [
    "data=[train,valid]\n",
    "train = pd.concat(data, ignore_index=True)"
   ]
  },
  {
   "cell_type": "code",
   "execution_count": 57,
   "id": "61447ca7",
   "metadata": {},
   "outputs": [
    {
     "data": {
      "text/plain": [
       "(148829, 133)"
      ]
     },
     "execution_count": 57,
     "metadata": {},
     "output_type": "execute_result"
    }
   ],
   "source": [
    "vectorizer = CountVectorizer(analyzer='char')\n",
    "train_vec = vectorizer.fit_transform(train['url'])\n",
    "train_vec.shape"
   ]
  },
  {
   "cell_type": "code",
   "execution_count": 58,
   "id": "7e62681d",
   "metadata": {},
   "outputs": [
    {
     "data": {
      "text/plain": [
       "(16537, 133)"
      ]
     },
     "execution_count": 58,
     "metadata": {},
     "output_type": "execute_result"
    }
   ],
   "source": [
    "test_vec = vectorizer.transform(test['url'])\n",
    "test_vec.shape"
   ]
  },
  {
   "cell_type": "code",
   "execution_count": 59,
   "id": "b2a235e1",
   "metadata": {},
   "outputs": [],
   "source": [
    "# Added mean of whole data to training and testing\n",
    "# Shall I add class means to the variables?"
   ]
  },
  {
   "cell_type": "code",
   "execution_count": 60,
   "id": "beea10d6",
   "metadata": {},
   "outputs": [],
   "source": [
    "mean = []\n",
    "for i in range(len(l)):\n",
    "    mean.append(np.mean(l[i]))"
   ]
  },
  {
   "cell_type": "code",
   "execution_count": 61,
   "id": "8f9df506",
   "metadata": {},
   "outputs": [
    {
     "data": {
      "text/plain": [
       "(133, 148829)"
      ]
     },
     "execution_count": 61,
     "metadata": {},
     "output_type": "execute_result"
    }
   ],
   "source": [
    "transp_train = np.transpose(train_vec).todense()\n",
    "transp_train.shape"
   ]
  },
  {
   "cell_type": "code",
   "execution_count": 62,
   "id": "38ac9675",
   "metadata": {},
   "outputs": [
    {
     "data": {
      "text/plain": [
       "(133, 16537)"
      ]
     },
     "execution_count": 62,
     "metadata": {},
     "output_type": "execute_result"
    }
   ],
   "source": [
    "transp_test = np.transpose(test_vec).todense()\n",
    "transp_test.shape"
   ]
  },
  {
   "cell_type": "code",
   "execution_count": 63,
   "id": "51c6897c",
   "metadata": {},
   "outputs": [
    {
     "data": {
      "text/plain": [
       "matrix([[1, 2, 7, ..., 2, 3, 1]], dtype=int64)"
      ]
     },
     "execution_count": 63,
     "metadata": {},
     "output_type": "execute_result"
    }
   ],
   "source": [
    "transp_train[43]"
   ]
  },
  {
   "cell_type": "code",
   "execution_count": 64,
   "id": "f822e8c8",
   "metadata": {},
   "outputs": [],
   "source": [
    "train1 = []\n",
    "for i in range(0,133):\n",
    "    train2 = []\n",
    "    for j in range(0,148829):\n",
    "        train2.append(transp_train[i].item(j)+mean[i])\n",
    "    train1.append(train2)"
   ]
  },
  {
   "cell_type": "code",
   "execution_count": 65,
   "id": "bd3bb7e4",
   "metadata": {},
   "outputs": [
    {
     "data": {
      "text/plain": [
       "[3.888858652927446,\n",
       " 4.888858652927446,\n",
       " 9.888858652927446,\n",
       " 3.888858652927446,\n",
       " 5.888858652927446,\n",
       " 4.888858652927446,\n",
       " 4.888858652927446,\n",
       " 4.888858652927446,\n",
       " 4.888858652927446,\n",
       " 6.888858652927446,\n",
       " 4.888858652927446,\n",
       " 4.888858652927446,\n",
       " 4.888858652927446,\n",
       " 3.888858652927446,\n",
       " 4.888858652927446,\n",
       " 4.888858652927446,\n",
       " 4.888858652927446,\n",
       " 5.888858652927446,\n",
       " 4.888858652927446,\n",
       " 4.888858652927446,\n",
       " 3.888858652927446,\n",
       " 4.888858652927446,\n",
       " 4.888858652927446,\n",
       " 4.888858652927446,\n",
       " 4.888858652927446,\n",
       " 4.888858652927446,\n",
       " 7.888858652927446,\n",
       " 9.888858652927446,\n",
       " 3.888858652927446,\n",
       " 5.888858652927446,\n",
       " 7.888858652927446,\n",
       " 10.888858652927446,\n",
       " 4.888858652927446,\n",
       " 5.888858652927446,\n",
       " 5.888858652927446,\n",
       " 4.888858652927446,\n",
       " 4.888858652927446,\n",
       " 4.888858652927446,\n",
       " 6.888858652927446,\n",
       " 3.888858652927446,\n",
       " 4.888858652927446,\n",
       " 5.888858652927446,\n",
       " 5.888858652927446,\n",
       " 5.888858652927446,\n",
       " 4.888858652927446,\n",
       " 5.888858652927446,\n",
       " 9.888858652927446,\n",
       " 5.888858652927446,\n",
       " 5.888858652927446,\n",
       " 4.888858652927446,\n",
       " 6.888858652927446,\n",
       " 7.888858652927446,\n",
       " 4.888858652927446,\n",
       " 4.888858652927446,\n",
       " 5.888858652927446,\n",
       " 4.888858652927446,\n",
       " 3.888858652927446,\n",
       " 6.888858652927446,\n",
       " 4.888858652927446,\n",
       " 5.888858652927446,\n",
       " 4.888858652927446,\n",
       " 5.888858652927446,\n",
       " 5.888858652927446,\n",
       " 5.888858652927446,\n",
       " 5.888858652927446,\n",
       " 11.888858652927446,\n",
       " 4.888858652927446,\n",
       " 4.888858652927446,\n",
       " 7.888858652927446,\n",
       " 3.888858652927446,\n",
       " 3.888858652927446,\n",
       " 4.888858652927446,\n",
       " 5.888858652927446,\n",
       " 8.888858652927446,\n",
       " 3.888858652927446,\n",
       " 6.888858652927446,\n",
       " 3.888858652927446,\n",
       " 9.888858652927446,\n",
       " 5.888858652927446,\n",
       " 3.888858652927446,\n",
       " 3.888858652927446,\n",
       " 5.888858652927446,\n",
       " 4.888858652927446,\n",
       " 3.888858652927446,\n",
       " 5.888858652927446,\n",
       " 5.888858652927446,\n",
       " 4.888858652927446,\n",
       " 3.888858652927446,\n",
       " 4.888858652927446,\n",
       " 6.888858652927446,\n",
       " 3.888858652927446,\n",
       " 5.888858652927446,\n",
       " 7.888858652927446,\n",
       " 4.888858652927446,\n",
       " 7.888858652927446,\n",
       " 4.888858652927446,\n",
       " 4.888858652927446,\n",
       " 4.888858652927446,\n",
       " 3.888858652927446,\n",
       " 3.888858652927446,\n",
       " 3.888858652927446,\n",
       " 5.888858652927446,\n",
       " 5.888858652927446,\n",
       " 5.888858652927446,\n",
       " 4.888858652927446,\n",
       " 5.888858652927446,\n",
       " 12.888858652927446,\n",
       " 5.888858652927446,\n",
       " 4.888858652927446,\n",
       " 4.888858652927446,\n",
       " 4.888858652927446,\n",
       " 3.888858652927446,\n",
       " 7.888858652927446,\n",
       " 4.888858652927446,\n",
       " 4.888858652927446,\n",
       " 4.888858652927446,\n",
       " 4.888858652927446,\n",
       " 6.888858652927446,\n",
       " 7.888858652927446,\n",
       " 3.888858652927446,\n",
       " 5.888858652927446,\n",
       " 4.888858652927446,\n",
       " 12.888858652927446,\n",
       " 5.888858652927446,\n",
       " 4.888858652927446,\n",
       " 4.888858652927446,\n",
       " 3.888858652927446,\n",
       " 4.888858652927446,\n",
       " 3.888858652927446,\n",
       " 4.888858652927446,\n",
       " 4.888858652927446,\n",
       " 5.888858652927446,\n",
       " 5.888858652927446,\n",
       " 4.888858652927446,\n",
       " 4.888858652927446,\n",
       " 4.888858652927446,\n",
       " 3.888858652927446,\n",
       " 5.888858652927446,\n",
       " 3.888858652927446,\n",
       " 5.888858652927446,\n",
       " 5.888858652927446,\n",
       " 3.888858652927446,\n",
       " 4.888858652927446,\n",
       " 5.888858652927446,\n",
       " 4.888858652927446,\n",
       " 3.888858652927446,\n",
       " 7.888858652927446,\n",
       " 6.888858652927446,\n",
       " 4.888858652927446,\n",
       " 3.888858652927446,\n",
       " 7.888858652927446,\n",
       " 5.888858652927446,\n",
       " 3.888858652927446,\n",
       " 5.888858652927446,\n",
       " 3.888858652927446,\n",
       " 8.888858652927446,\n",
       " 6.888858652927446,\n",
       " 3.888858652927446,\n",
       " 3.888858652927446,\n",
       " 5.888858652927446,\n",
       " 3.888858652927446,\n",
       " 4.888858652927446,\n",
       " 5.888858652927446,\n",
       " 5.888858652927446,\n",
       " 3.888858652927446,\n",
       " 4.888858652927446,\n",
       " 5.888858652927446,\n",
       " 5.888858652927446,\n",
       " 7.888858652927446,\n",
       " 5.888858652927446,\n",
       " 4.888858652927446,\n",
       " 4.888858652927446,\n",
       " 8.888858652927446,\n",
       " 4.888858652927446,\n",
       " 5.888858652927446,\n",
       " 4.888858652927446,\n",
       " 5.888858652927446,\n",
       " 4.888858652927446,\n",
       " 6.888858652927446,\n",
       " 3.888858652927446,\n",
       " 8.888858652927446,\n",
       " 4.888858652927446,\n",
       " 4.888858652927446,\n",
       " 6.888858652927446,\n",
       " 5.888858652927446,\n",
       " 4.888858652927446,\n",
       " 4.888858652927446,\n",
       " 3.888858652927446,\n",
       " 6.888858652927446,\n",
       " 3.888858652927446,\n",
       " 4.888858652927446,\n",
       " 8.888858652927446,\n",
       " 5.888858652927446,\n",
       " 4.888858652927446,\n",
       " 5.888858652927446,\n",
       " 4.888858652927446,\n",
       " 4.888858652927446,\n",
       " 3.888858652927446,\n",
       " 3.888858652927446,\n",
       " 8.888858652927446,\n",
       " 5.888858652927446,\n",
       " 8.888858652927446,\n",
       " 5.888858652927446,\n",
       " 3.888858652927446,\n",
       " 3.888858652927446,\n",
       " 4.888858652927446,\n",
       " 4.888858652927446,\n",
       " 4.888858652927446,\n",
       " 5.888858652927446,\n",
       " 4.888858652927446,\n",
       " 5.888858652927446,\n",
       " 5.888858652927446,\n",
       " 3.888858652927446,\n",
       " 6.888858652927446,\n",
       " 5.888858652927446,\n",
       " 5.888858652927446,\n",
       " 4.888858652927446,\n",
       " 4.888858652927446,\n",
       " 4.888858652927446,\n",
       " 7.888858652927446,\n",
       " 3.888858652927446,\n",
       " 3.888858652927446,\n",
       " 5.888858652927446,\n",
       " 3.888858652927446,\n",
       " 5.888858652927446,\n",
       " 3.888858652927446,\n",
       " 4.888858652927446,\n",
       " 4.888858652927446,\n",
       " 5.888858652927446,\n",
       " 3.888858652927446,\n",
       " 3.888858652927446,\n",
       " 5.888858652927446,\n",
       " 9.888858652927446,\n",
       " 9.888858652927446,\n",
       " 4.888858652927446,\n",
       " 4.888858652927446,\n",
       " 5.888858652927446,\n",
       " 5.888858652927446,\n",
       " 5.888858652927446,\n",
       " 5.888858652927446,\n",
       " 4.888858652927446,\n",
       " 7.888858652927446,\n",
       " 3.888858652927446,\n",
       " 4.888858652927446,\n",
       " 5.888858652927446,\n",
       " 4.888858652927446,\n",
       " 6.888858652927446,\n",
       " 7.888858652927446,\n",
       " 5.888858652927446,\n",
       " 10.888858652927446,\n",
       " 4.888858652927446,\n",
       " 4.888858652927446,\n",
       " 6.888858652927446,\n",
       " 5.888858652927446,\n",
       " 5.888858652927446,\n",
       " 5.888858652927446,\n",
       " 8.888858652927446,\n",
       " 5.888858652927446,\n",
       " 6.888858652927446,\n",
       " 4.888858652927446,\n",
       " 6.888858652927446,\n",
       " 3.888858652927446,\n",
       " 3.888858652927446,\n",
       " 3.888858652927446,\n",
       " 11.888858652927446,\n",
       " 3.888858652927446,\n",
       " 4.888858652927446,\n",
       " 5.888858652927446,\n",
       " 4.888858652927446,\n",
       " 6.888858652927446,\n",
       " 3.888858652927446,\n",
       " 6.888858652927446,\n",
       " 6.888858652927446,\n",
       " 5.888858652927446,\n",
       " 5.888858652927446,\n",
       " 3.888858652927446,\n",
       " 5.888858652927446,\n",
       " 5.888858652927446,\n",
       " 3.888858652927446,\n",
       " 5.888858652927446,\n",
       " 5.888858652927446,\n",
       " 5.888858652927446,\n",
       " 4.888858652927446,\n",
       " 5.888858652927446,\n",
       " 6.888858652927446,\n",
       " 5.888858652927446,\n",
       " 6.888858652927446,\n",
       " 3.888858652927446,\n",
       " 4.888858652927446,\n",
       " 5.888858652927446,\n",
       " 4.888858652927446,\n",
       " 3.888858652927446,\n",
       " 5.888858652927446,\n",
       " 4.888858652927446,\n",
       " 5.888858652927446,\n",
       " 4.888858652927446,\n",
       " 5.888858652927446,\n",
       " 5.888858652927446,\n",
       " 5.888858652927446,\n",
       " 6.888858652927446,\n",
       " 4.888858652927446,\n",
       " 5.888858652927446,\n",
       " 4.888858652927446,\n",
       " 7.888858652927446,\n",
       " 3.888858652927446,\n",
       " 5.888858652927446,\n",
       " 4.888858652927446,\n",
       " 4.888858652927446,\n",
       " 5.888858652927446,\n",
       " 4.888858652927446,\n",
       " 5.888858652927446,\n",
       " 7.888858652927446,\n",
       " 5.888858652927446,\n",
       " 8.888858652927446,\n",
       " 4.888858652927446,\n",
       " 3.888858652927446,\n",
       " 11.888858652927446,\n",
       " 4.888858652927446,\n",
       " 4.888858652927446,\n",
       " 7.888858652927446,\n",
       " 4.888858652927446,\n",
       " 3.888858652927446,\n",
       " 5.888858652927446,\n",
       " 4.888858652927446,\n",
       " 4.888858652927446,\n",
       " 7.888858652927446,\n",
       " 3.888858652927446,\n",
       " 5.888858652927446,\n",
       " 5.888858652927446,\n",
       " 6.888858652927446,\n",
       " 6.888858652927446,\n",
       " 4.888858652927446,\n",
       " 4.888858652927446,\n",
       " 6.888858652927446,\n",
       " 3.888858652927446,\n",
       " 4.888858652927446,\n",
       " 4.888858652927446,\n",
       " 4.888858652927446,\n",
       " 4.888858652927446,\n",
       " 4.888858652927446,\n",
       " 6.888858652927446,\n",
       " 4.888858652927446,\n",
       " 4.888858652927446,\n",
       " 5.888858652927446,\n",
       " 4.888858652927446,\n",
       " 3.888858652927446,\n",
       " 4.888858652927446,\n",
       " 4.888858652927446,\n",
       " 6.888858652927446,\n",
       " 4.888858652927446,\n",
       " 6.888858652927446,\n",
       " 4.888858652927446,\n",
       " 5.888858652927446,\n",
       " 4.888858652927446,\n",
       " 4.888858652927446,\n",
       " 5.888858652927446,\n",
       " 4.888858652927446,\n",
       " 3.888858652927446,\n",
       " 6.888858652927446,\n",
       " 5.888858652927446,\n",
       " 3.888858652927446,\n",
       " 5.888858652927446,\n",
       " 3.888858652927446,\n",
       " 4.888858652927446,\n",
       " 4.888858652927446,\n",
       " 2.888858652927446,\n",
       " 5.888858652927446,\n",
       " 7.888858652927446,\n",
       " 8.888858652927446,\n",
       " 5.888858652927446,\n",
       " 4.888858652927446,\n",
       " 7.888858652927446,\n",
       " 4.888858652927446,\n",
       " 4.888858652927446,\n",
       " 5.888858652927446,\n",
       " 4.888858652927446,\n",
       " 4.888858652927446,\n",
       " 4.888858652927446,\n",
       " 6.888858652927446,\n",
       " 5.888858652927446,\n",
       " 5.888858652927446,\n",
       " 4.888858652927446,\n",
       " 6.888858652927446,\n",
       " 4.888858652927446,\n",
       " 3.888858652927446,\n",
       " 4.888858652927446,\n",
       " 4.888858652927446,\n",
       " 8.888858652927446,\n",
       " 4.888858652927446,\n",
       " 6.888858652927446,\n",
       " 9.888858652927446,\n",
       " 5.888858652927446,\n",
       " 4.888858652927446,\n",
       " 5.888858652927446,\n",
       " 10.888858652927446,\n",
       " 38.888858652927446,\n",
       " 5.888858652927446,\n",
       " 7.888858652927446,\n",
       " 4.888858652927446,\n",
       " 3.888858652927446,\n",
       " 5.888858652927446,\n",
       " 4.888858652927446,\n",
       " 5.888858652927446,\n",
       " 8.888858652927446,\n",
       " 6.888858652927446,\n",
       " 8.888858652927446,\n",
       " 4.888858652927446,\n",
       " 4.888858652927446,\n",
       " 4.888858652927446,\n",
       " 7.888858652927446,\n",
       " 4.888858652927446,\n",
       " 5.888858652927446,\n",
       " 6.888858652927446,\n",
       " 3.888858652927446,\n",
       " 5.888858652927446,\n",
       " 3.888858652927446,\n",
       " 5.888858652927446,\n",
       " 10.888858652927446,\n",
       " 4.888858652927446,\n",
       " 5.888858652927446,\n",
       " 6.888858652927446,\n",
       " 4.888858652927446,\n",
       " 5.888858652927446,\n",
       " 4.888858652927446,\n",
       " 6.888858652927446,\n",
       " 7.888858652927446,\n",
       " 5.888858652927446,\n",
       " 5.888858652927446,\n",
       " 5.888858652927446,\n",
       " 5.888858652927446,\n",
       " 6.888858652927446,\n",
       " 3.888858652927446,\n",
       " 5.888858652927446,\n",
       " 4.888858652927446,\n",
       " 4.888858652927446,\n",
       " 4.888858652927446,\n",
       " 6.888858652927446,\n",
       " 4.888858652927446,\n",
       " 5.888858652927446,\n",
       " 3.888858652927446,\n",
       " 4.888858652927446,\n",
       " 4.888858652927446,\n",
       " 4.888858652927446,\n",
       " 4.888858652927446,\n",
       " 5.888858652927446,\n",
       " 3.888858652927446,\n",
       " 8.888858652927446,\n",
       " 3.888858652927446,\n",
       " 6.888858652927446,\n",
       " 6.888858652927446,\n",
       " 4.888858652927446,\n",
       " 7.888858652927446,\n",
       " 5.888858652927446,\n",
       " 3.888858652927446,\n",
       " 4.888858652927446,\n",
       " 4.888858652927446,\n",
       " 4.888858652927446,\n",
       " 4.888858652927446,\n",
       " 5.888858652927446,\n",
       " 3.888858652927446,\n",
       " 11.888858652927446,\n",
       " 11.888858652927446,\n",
       " 5.888858652927446,\n",
       " 4.888858652927446,\n",
       " 5.888858652927446,\n",
       " 4.888858652927446,\n",
       " 6.888858652927446,\n",
       " 6.888858652927446,\n",
       " 3.888858652927446,\n",
       " 6.888858652927446,\n",
       " 6.888858652927446,\n",
       " 3.888858652927446,\n",
       " 4.888858652927446,\n",
       " 3.888858652927446,\n",
       " 6.888858652927446,\n",
       " 4.888858652927446,\n",
       " 5.888858652927446,\n",
       " 5.888858652927446,\n",
       " 5.888858652927446,\n",
       " 4.888858652927446,\n",
       " 4.888858652927446,\n",
       " 50.888858652927446,\n",
       " 4.888858652927446,\n",
       " 4.888858652927446,\n",
       " 4.888858652927446,\n",
       " 6.888858652927446,\n",
       " 5.888858652927446,\n",
       " 5.888858652927446,\n",
       " 4.888858652927446,\n",
       " 4.888858652927446,\n",
       " 5.888858652927446,\n",
       " 3.888858652927446,\n",
       " 6.888858652927446,\n",
       " 4.888858652927446,\n",
       " 11.888858652927446,\n",
       " 4.888858652927446,\n",
       " 5.888858652927446,\n",
       " 5.888858652927446,\n",
       " 4.888858652927446,\n",
       " 5.888858652927446,\n",
       " 5.888858652927446,\n",
       " 6.888858652927446,\n",
       " 4.888858652927446,\n",
       " 6.888858652927446,\n",
       " 5.888858652927446,\n",
       " 4.888858652927446,\n",
       " 4.888858652927446,\n",
       " 4.888858652927446,\n",
       " 5.888858652927446,\n",
       " 4.888858652927446,\n",
       " 5.888858652927446,\n",
       " 4.888858652927446,\n",
       " 5.888858652927446,\n",
       " 4.888858652927446,\n",
       " 4.888858652927446,\n",
       " 4.888858652927446,\n",
       " 4.888858652927446,\n",
       " 4.888858652927446,\n",
       " 4.888858652927446,\n",
       " 4.888858652927446,\n",
       " 4.888858652927446,\n",
       " 6.888858652927446,\n",
       " 7.888858652927446,\n",
       " 6.888858652927446,\n",
       " 5.888858652927446,\n",
       " 4.888858652927446,\n",
       " 7.888858652927446,\n",
       " 4.888858652927446,\n",
       " 3.888858652927446,\n",
       " 5.888858652927446,\n",
       " 12.888858652927446,\n",
       " 7.888858652927446,\n",
       " 4.888858652927446,\n",
       " 3.888858652927446,\n",
       " 3.888858652927446,\n",
       " 3.888858652927446,\n",
       " 5.888858652927446,\n",
       " 3.888858652927446,\n",
       " 4.888858652927446,\n",
       " 4.888858652927446,\n",
       " 5.888858652927446,\n",
       " 3.888858652927446,\n",
       " 4.888858652927446,\n",
       " 5.888858652927446,\n",
       " 4.888858652927446,\n",
       " 5.888858652927446,\n",
       " 5.888858652927446,\n",
       " 7.888858652927446,\n",
       " 5.888858652927446,\n",
       " 4.888858652927446,\n",
       " 3.888858652927446,\n",
       " 3.888858652927446,\n",
       " 6.888858652927446,\n",
       " 7.888858652927446,\n",
       " 4.888858652927446,\n",
       " 4.888858652927446,\n",
       " 5.888858652927446,\n",
       " 4.888858652927446,\n",
       " 6.888858652927446,\n",
       " 10.888858652927446,\n",
       " 33.888858652927446,\n",
       " 5.888858652927446,\n",
       " 4.888858652927446,\n",
       " 4.888858652927446,\n",
       " 4.888858652927446,\n",
       " 5.888858652927446,\n",
       " 4.888858652927446,\n",
       " 8.888858652927446,\n",
       " 4.888858652927446,\n",
       " 8.888858652927446,\n",
       " 4.888858652927446,\n",
       " 3.888858652927446,\n",
       " 4.888858652927446,\n",
       " 8.888858652927446,\n",
       " 3.888858652927446,\n",
       " 5.888858652927446,\n",
       " 5.888858652927446,\n",
       " 3.888858652927446,\n",
       " 9.888858652927446,\n",
       " 5.888858652927446,\n",
       " 6.888858652927446,\n",
       " 3.888858652927446,\n",
       " 3.888858652927446,\n",
       " 4.888858652927446,\n",
       " 5.888858652927446,\n",
       " 4.888858652927446,\n",
       " 5.888858652927446,\n",
       " 4.888858652927446,\n",
       " 4.888858652927446,\n",
       " 5.888858652927446,\n",
       " 9.888858652927446,\n",
       " 4.888858652927446,\n",
       " 4.888858652927446,\n",
       " 5.888858652927446,\n",
       " 6.888858652927446,\n",
       " 4.888858652927446,\n",
       " 4.888858652927446,\n",
       " 5.888858652927446,\n",
       " 5.888858652927446,\n",
       " 3.888858652927446,\n",
       " 40.888858652927446,\n",
       " 4.888858652927446,\n",
       " 6.888858652927446,\n",
       " 4.888858652927446,\n",
       " 3.888858652927446,\n",
       " 6.888858652927446,\n",
       " 4.888858652927446,\n",
       " 7.888858652927446,\n",
       " 5.888858652927446,\n",
       " 4.888858652927446,\n",
       " 4.888858652927446,\n",
       " 3.888858652927446,\n",
       " 4.888858652927446,\n",
       " 5.888858652927446,\n",
       " 4.888858652927446,\n",
       " 5.888858652927446,\n",
       " 4.888858652927446,\n",
       " 3.888858652927446,\n",
       " 4.888858652927446,\n",
       " 7.888858652927446,\n",
       " 4.888858652927446,\n",
       " 4.888858652927446,\n",
       " 7.888858652927446,\n",
       " 5.888858652927446,\n",
       " 6.888858652927446,\n",
       " 3.888858652927446,\n",
       " 3.888858652927446,\n",
       " 5.888858652927446,\n",
       " 4.888858652927446,\n",
       " 6.888858652927446,\n",
       " 4.888858652927446,\n",
       " 7.888858652927446,\n",
       " 13.888858652927446,\n",
       " 3.888858652927446,\n",
       " 4.888858652927446,\n",
       " 4.888858652927446,\n",
       " 3.888858652927446,\n",
       " 4.888858652927446,\n",
       " 5.888858652927446,\n",
       " 4.888858652927446,\n",
       " 4.888858652927446,\n",
       " 3.888858652927446,\n",
       " 4.888858652927446,\n",
       " 4.888858652927446,\n",
       " 5.888858652927446,\n",
       " 5.888858652927446,\n",
       " 5.888858652927446,\n",
       " 3.888858652927446,\n",
       " 6.888858652927446,\n",
       " 4.888858652927446,\n",
       " 4.888858652927446,\n",
       " 6.888858652927446,\n",
       " 5.888858652927446,\n",
       " 4.888858652927446,\n",
       " 4.888858652927446,\n",
       " 4.888858652927446,\n",
       " 5.888858652927446,\n",
       " 8.888858652927446,\n",
       " 3.888858652927446,\n",
       " 4.888858652927446,\n",
       " 3.888858652927446,\n",
       " 4.888858652927446,\n",
       " 4.888858652927446,\n",
       " 4.888858652927446,\n",
       " 5.888858652927446,\n",
       " 8.888858652927446,\n",
       " 7.888858652927446,\n",
       " 7.888858652927446,\n",
       " 4.888858652927446,\n",
       " 5.888858652927446,\n",
       " 4.888858652927446,\n",
       " 4.888858652927446,\n",
       " 4.888858652927446,\n",
       " 6.888858652927446,\n",
       " 4.888858652927446,\n",
       " 4.888858652927446,\n",
       " 4.888858652927446,\n",
       " 4.888858652927446,\n",
       " 4.888858652927446,\n",
       " 4.888858652927446,\n",
       " 10.888858652927446,\n",
       " 4.888858652927446,\n",
       " 5.888858652927446,\n",
       " 4.888858652927446,\n",
       " 4.888858652927446,\n",
       " 5.888858652927446,\n",
       " 9.888858652927446,\n",
       " 3.888858652927446,\n",
       " 4.888858652927446,\n",
       " 5.888858652927446,\n",
       " 4.888858652927446,\n",
       " 4.888858652927446,\n",
       " 5.888858652927446,\n",
       " 6.888858652927446,\n",
       " 4.888858652927446,\n",
       " 4.888858652927446,\n",
       " 6.888858652927446,\n",
       " 6.888858652927446,\n",
       " 7.888858652927446,\n",
       " 5.888858652927446,\n",
       " 5.888858652927446,\n",
       " 4.888858652927446,\n",
       " 4.888858652927446,\n",
       " 4.888858652927446,\n",
       " 4.888858652927446,\n",
       " 4.888858652927446,\n",
       " 4.888858652927446,\n",
       " 4.888858652927446,\n",
       " 4.888858652927446,\n",
       " 3.888858652927446,\n",
       " 6.888858652927446,\n",
       " 4.888858652927446,\n",
       " 5.888858652927446,\n",
       " 4.888858652927446,\n",
       " 4.888858652927446,\n",
       " 4.888858652927446,\n",
       " 4.888858652927446,\n",
       " 7.888858652927446,\n",
       " 5.888858652927446,\n",
       " 6.888858652927446,\n",
       " 3.888858652927446,\n",
       " 6.888858652927446,\n",
       " 5.888858652927446,\n",
       " 7.888858652927446,\n",
       " 5.888858652927446,\n",
       " 4.888858652927446,\n",
       " 4.888858652927446,\n",
       " 5.888858652927446,\n",
       " 3.888858652927446,\n",
       " 4.888858652927446,\n",
       " 5.888858652927446,\n",
       " 4.888858652927446,\n",
       " 5.888858652927446,\n",
       " 4.888858652927446,\n",
       " 8.888858652927446,\n",
       " 5.888858652927446,\n",
       " 5.888858652927446,\n",
       " 4.888858652927446,\n",
       " 4.888858652927446,\n",
       " 4.888858652927446,\n",
       " 3.888858652927446,\n",
       " 5.888858652927446,\n",
       " 4.888858652927446,\n",
       " 6.888858652927446,\n",
       " 5.888858652927446,\n",
       " 6.888858652927446,\n",
       " 5.888858652927446,\n",
       " 3.888858652927446,\n",
       " 6.888858652927446,\n",
       " 6.888858652927446,\n",
       " 3.888858652927446,\n",
       " 4.888858652927446,\n",
       " 6.888858652927446,\n",
       " 6.888858652927446,\n",
       " 3.888858652927446,\n",
       " 8.888858652927446,\n",
       " 6.888858652927446,\n",
       " 6.888858652927446,\n",
       " 5.888858652927446,\n",
       " 5.888858652927446,\n",
       " 5.888858652927446,\n",
       " 6.888858652927446,\n",
       " 5.888858652927446,\n",
       " 4.888858652927446,\n",
       " 4.888858652927446,\n",
       " 5.888858652927446,\n",
       " 6.888858652927446,\n",
       " 5.888858652927446,\n",
       " 6.888858652927446,\n",
       " 4.888858652927446,\n",
       " 4.888858652927446,\n",
       " 4.888858652927446,\n",
       " 4.888858652927446,\n",
       " 3.888858652927446,\n",
       " 3.888858652927446,\n",
       " 4.888858652927446,\n",
       " 4.888858652927446,\n",
       " 6.888858652927446,\n",
       " 6.888858652927446,\n",
       " 6.888858652927446,\n",
       " 5.888858652927446,\n",
       " 5.888858652927446,\n",
       " 4.888858652927446,\n",
       " 4.888858652927446,\n",
       " 6.888858652927446,\n",
       " 4.888858652927446,\n",
       " 5.888858652927446,\n",
       " 6.888858652927446,\n",
       " 4.888858652927446,\n",
       " 4.888858652927446,\n",
       " 5.888858652927446,\n",
       " 10.888858652927446,\n",
       " 3.888858652927446,\n",
       " 4.888858652927446,\n",
       " 4.888858652927446,\n",
       " 7.888858652927446,\n",
       " 7.888858652927446,\n",
       " 3.888858652927446,\n",
       " 4.888858652927446,\n",
       " 5.888858652927446,\n",
       " 5.888858652927446,\n",
       " 3.888858652927446,\n",
       " 4.888858652927446,\n",
       " 3.888858652927446,\n",
       " 3.888858652927446,\n",
       " 7.888858652927446,\n",
       " 4.888858652927446,\n",
       " 5.888858652927446,\n",
       " 4.888858652927446,\n",
       " 3.888858652927446,\n",
       " 5.888858652927446,\n",
       " 4.888858652927446,\n",
       " 6.888858652927446,\n",
       " 4.888858652927446,\n",
       " 4.888858652927446,\n",
       " 5.888858652927446,\n",
       " 6.888858652927446,\n",
       " 6.888858652927446,\n",
       " 4.888858652927446,\n",
       " 5.888858652927446,\n",
       " 6.888858652927446,\n",
       " 4.888858652927446,\n",
       " 5.888858652927446,\n",
       " 3.888858652927446,\n",
       " 6.888858652927446,\n",
       " 3.888858652927446,\n",
       " 4.888858652927446,\n",
       " 4.888858652927446,\n",
       " 5.888858652927446,\n",
       " 5.888858652927446,\n",
       " 5.888858652927446,\n",
       " 5.888858652927446,\n",
       " 4.888858652927446,\n",
       " 5.888858652927446,\n",
       " 4.888858652927446,\n",
       " 4.888858652927446,\n",
       " 3.888858652927446,\n",
       " 3.888858652927446,\n",
       " 7.888858652927446,\n",
       " 4.888858652927446,\n",
       " 5.888858652927446,\n",
       " 3.888858652927446,\n",
       " 6.888858652927446,\n",
       " 4.888858652927446,\n",
       " 4.888858652927446,\n",
       " 4.888858652927446,\n",
       " 3.888858652927446,\n",
       " 4.888858652927446,\n",
       " 4.888858652927446,\n",
       " 4.888858652927446,\n",
       " 3.888858652927446,\n",
       " 4.888858652927446,\n",
       " 4.888858652927446,\n",
       " 9.888858652927446,\n",
       " 4.888858652927446,\n",
       " 4.888858652927446,\n",
       " 5.888858652927446,\n",
       " 31.888858652927446,\n",
       " 3.888858652927446,\n",
       " 3.888858652927446,\n",
       " 6.888858652927446,\n",
       " 7.888858652927446,\n",
       " 3.888858652927446,\n",
       " 9.888858652927446,\n",
       " 5.888858652927446,\n",
       " 5.888858652927446,\n",
       " 4.888858652927446,\n",
       " 3.888858652927446,\n",
       " 4.888858652927446,\n",
       " 4.888858652927446,\n",
       " 6.888858652927446,\n",
       " 5.888858652927446,\n",
       " 10.888858652927446,\n",
       " 8.888858652927446,\n",
       " 4.888858652927446,\n",
       " 6.888858652927446,\n",
       " 4.888858652927446,\n",
       " 4.888858652927446,\n",
       " 4.888858652927446,\n",
       " 5.888858652927446,\n",
       " 8.888858652927446,\n",
       " 4.888858652927446,\n",
       " 4.888858652927446,\n",
       " 4.888858652927446,\n",
       " 9.888858652927446,\n",
       " 7.888858652927446,\n",
       " 5.888858652927446,\n",
       " 3.888858652927446,\n",
       " 4.888858652927446,\n",
       " 5.888858652927446,\n",
       " 3.888858652927446,\n",
       " 5.888858652927446,\n",
       " 4.888858652927446,\n",
       " 5.888858652927446,\n",
       " 4.888858652927446,\n",
       " 4.888858652927446,\n",
       " 4.888858652927446,\n",
       " 4.888858652927446,\n",
       " 6.888858652927446,\n",
       " 4.888858652927446,\n",
       " 5.888858652927446,\n",
       " 4.888858652927446,\n",
       " 4.888858652927446,\n",
       " 5.888858652927446,\n",
       " 8.888858652927446,\n",
       " 4.888858652927446,\n",
       " 4.888858652927446,\n",
       " 4.888858652927446,\n",
       " 4.888858652927446,\n",
       " 3.888858652927446,\n",
       " 4.888858652927446,\n",
       " 6.888858652927446,\n",
       " 6.888858652927446,\n",
       " 5.888858652927446,\n",
       " 6.888858652927446,\n",
       " 3.888858652927446,\n",
       " 5.888858652927446,\n",
       " 4.888858652927446,\n",
       " 5.888858652927446,\n",
       " 3.888858652927446,\n",
       " 4.888858652927446,\n",
       " 5.888858652927446,\n",
       " 9.888858652927446,\n",
       " 6.888858652927446,\n",
       " 4.888858652927446,\n",
       " 5.888858652927446,\n",
       " 6.888858652927446,\n",
       " 9.888858652927446,\n",
       " 5.888858652927446,\n",
       " 6.888858652927446,\n",
       " 9.888858652927446,\n",
       " 11.888858652927446,\n",
       " 3.888858652927446,\n",
       " 4.888858652927446,\n",
       " 4.888858652927446,\n",
       " 5.888858652927446,\n",
       " 4.888858652927446,\n",
       " 7.888858652927446,\n",
       " 3.888858652927446,\n",
       " 4.888858652927446,\n",
       " 5.888858652927446,\n",
       " 4.888858652927446,\n",
       " 3.888858652927446,\n",
       " 4.888858652927446,\n",
       " 4.888858652927446,\n",
       " 4.888858652927446,\n",
       " 4.888858652927446,\n",
       " 8.888858652927446,\n",
       " 4.888858652927446,\n",
       " 4.888858652927446,\n",
       " 8.888858652927446,\n",
       " 5.888858652927446,\n",
       " 3.888858652927446,\n",
       " 6.888858652927446,\n",
       " 3.888858652927446,\n",
       " 3.888858652927446,\n",
       " 5.888858652927446,\n",
       " 4.888858652927446,\n",
       " 5.888858652927446,\n",
       " 5.888858652927446,\n",
       " 5.888858652927446,\n",
       " 5.888858652927446,\n",
       " 3.888858652927446,\n",
       " 9.888858652927446,\n",
       " 5.888858652927446,\n",
       " 4.888858652927446,\n",
       " 4.888858652927446,\n",
       " 5.888858652927446,\n",
       " 3.888858652927446,\n",
       " 5.888858652927446,\n",
       " 8.888858652927446,\n",
       " 4.888858652927446,\n",
       " 9.888858652927446,\n",
       " 4.888858652927446,\n",
       " 5.888858652927446,\n",
       " 6.888858652927446,\n",
       " 5.888858652927446,\n",
       " 5.888858652927446,\n",
       " 5.888858652927446,\n",
       " 10.888858652927446,\n",
       " 4.888858652927446,\n",
       " 4.888858652927446,\n",
       " 4.888858652927446,\n",
       " 7.888858652927446,\n",
       " 5.888858652927446,\n",
       " 4.888858652927446,\n",
       " 5.888858652927446,\n",
       " 4.888858652927446,\n",
       " 5.888858652927446,\n",
       " 3.888858652927446,\n",
       " 6.888858652927446,\n",
       " 4.888858652927446,\n",
       " 5.888858652927446,\n",
       " 6.888858652927446,\n",
       " 3.888858652927446,\n",
       " 5.888858652927446,\n",
       " 5.888858652927446,\n",
       " 5.888858652927446,\n",
       " 4.888858652927446,\n",
       " 6.888858652927446,\n",
       " ...]"
      ]
     },
     "execution_count": 65,
     "metadata": {},
     "output_type": "execute_result"
    }
   ],
   "source": [
    "train1[43]"
   ]
  },
  {
   "cell_type": "code",
   "execution_count": 66,
   "id": "73c299ee",
   "metadata": {},
   "outputs": [],
   "source": [
    "test1 = []\n",
    "for i in range(0,133):\n",
    "    test2 = []\n",
    "    for j in range(0,16537):\n",
    "        test2.append(transp_test[i].item(j)+mean[i])\n",
    "    test1.append(test2)"
   ]
  },
  {
   "cell_type": "code",
   "execution_count": 67,
   "id": "37584a2e",
   "metadata": {},
   "outputs": [
    {
     "data": {
      "text/plain": [
       "(148829, 133)"
      ]
     },
     "execution_count": 67,
     "metadata": {},
     "output_type": "execute_result"
    }
   ],
   "source": [
    "train_data = np.array(train1).T\n",
    "train_data.shape"
   ]
  },
  {
   "cell_type": "code",
   "execution_count": 68,
   "id": "a15c2b5a",
   "metadata": {},
   "outputs": [
    {
     "data": {
      "text/plain": [
       "(16537, 133)"
      ]
     },
     "execution_count": 68,
     "metadata": {},
     "output_type": "execute_result"
    }
   ],
   "source": [
    "test_data = np.array(test1).T\n",
    "test_data.shape"
   ]
  },
  {
   "cell_type": "code",
   "execution_count": 69,
   "id": "5e840b55",
   "metadata": {},
   "outputs": [
    {
     "data": {
      "text/plain": [
       "RandomForestClassifier(random_state=0, verbose=10)"
      ]
     },
     "execution_count": 69,
     "metadata": {},
     "output_type": "execute_result"
    }
   ],
   "source": [
    "rf = RandomForestClassifier(random_state = 0, verbose = 10)\n",
    "rf.fit(train_data, train['result'])"
   ]
  },
  {
   "cell_type": "code",
   "execution_count": 70,
   "id": "b3035ac9",
   "metadata": {},
   "outputs": [],
   "source": [
    "train_pred = rf.predict(train_data)"
   ]
  },
  {
   "cell_type": "code",
   "execution_count": 71,
   "id": "7d90145f",
   "metadata": {},
   "outputs": [],
   "source": [
    "test_pred = rf.predict(test_data)"
   ]
  },
  {
   "cell_type": "code",
   "execution_count": 72,
   "id": "28f0774d",
   "metadata": {},
   "outputs": [
    {
     "name": "stdout",
     "output_type": "stream",
     "text": [
      "Train Accuracy:  1.0\n",
      "Train Precision:  1.0\n",
      "Train Recall:  1.0\n",
      "Train F1:  1.0\n",
      "Test Accuracy:  0.9796819253794521\n",
      "Test Precision:  0.9817346867364665\n",
      "Test Recall:  0.9796819253794521\n",
      "Test F1:  0.980258292526667\n"
     ]
    }
   ],
   "source": [
    "# 0.5% increase for all metrics when compared to BoW Random Forest\n",
    "# In papers for 5-Class max was 97%\n",
    "print(\"Train Accuracy: \", accuracy_score(train_pred,train['result']))\n",
    "print(\"Train Precision: \", precision_score(train_pred,train['result'], average = 'weighted'))\n",
    "print(\"Train Recall: \", recall_score(train_pred,train['result'], average = 'weighted'))\n",
    "print(\"Train F1: \", f1_score(train_pred,train['result'], average = 'weighted'))\n",
    "print(\"Test Accuracy: \", accuracy_score(test_pred,test['result']))\n",
    "print(\"Test Precision: \", precision_score(test_pred,test['result'], average = 'weighted'))\n",
    "print(\"Test Recall: \", recall_score(test_pred,test['result'], average = 'weighted'))\n",
    "print(\"Test F1: \", f1_score(test_pred,test['result'], average = 'weighted'))"
   ]
  },
  {
   "cell_type": "markdown",
   "id": "223ede5b",
   "metadata": {},
   "source": [
    "## Binary"
   ]
  },
  {
   "cell_type": "code",
   "execution_count": 73,
   "id": "0ca18e6a",
   "metadata": {},
   "outputs": [
    {
     "data": {
      "text/plain": [
       "2"
      ]
     },
     "execution_count": 73,
     "metadata": {},
     "output_type": "execute_result"
    }
   ],
   "source": [
    "train['result'][0]"
   ]
  },
  {
   "cell_type": "code",
   "execution_count": 74,
   "id": "e7de854c",
   "metadata": {},
   "outputs": [],
   "source": [
    "train_bin_result = []\n",
    "for i in range(0,148829):\n",
    "    if train['result'][i]==0:\n",
    "        train_bin_result.append(0)\n",
    "    else:\n",
    "        train_bin_result.append(1)"
   ]
  },
  {
   "cell_type": "code",
   "execution_count": 75,
   "id": "1c0678c3",
   "metadata": {},
   "outputs": [],
   "source": [
    "test_bin_result = []\n",
    "for i in range(0,16537):\n",
    "    if test['result'][i]==0:\n",
    "        test_bin_result.append(0)\n",
    "    else:\n",
    "        test_bin_result.append(1)"
   ]
  },
  {
   "cell_type": "code",
   "execution_count": 76,
   "id": "0d2a72d0",
   "metadata": {
    "scrolled": true
   },
   "outputs": [
    {
     "name": "stderr",
     "output_type": "stream",
     "text": [
      "[Parallel(n_jobs=-1)]: Using backend ThreadingBackend with 12 concurrent workers.\n"
     ]
    },
    {
     "name": "stdout",
     "output_type": "stream",
     "text": [
      "building tree 1 of 100\n",
      "building tree 2 of 100\n",
      "building tree 3 of 100\n",
      "building tree 4 of 100\n",
      "building tree 5 of 100\n",
      "building tree 6 of 100\n",
      "building tree 7 of 100\n",
      "building tree 8 of 100\n",
      "building tree 9 of 100\n",
      "building tree 10 of 100\n",
      "building tree 11 of 100\n",
      "building tree 12 of 100\n",
      "building tree 13 of 100\n",
      "building tree 14 of 100\n",
      "building tree 15 of 100\n",
      "building tree 16 of 100\n",
      "building tree 17 of 100\n",
      "building tree 18 of 100"
     ]
    },
    {
     "name": "stderr",
     "output_type": "stream",
     "text": [
      "[Parallel(n_jobs=-1)]: Done   1 tasks      | elapsed:    3.3s\n"
     ]
    },
    {
     "name": "stdout",
     "output_type": "stream",
     "text": [
      "building tree 19 of 100\n",
      "\n",
      "building tree 20 of 100\n",
      "building tree 21 of 100\n"
     ]
    },
    {
     "name": "stderr",
     "output_type": "stream",
     "text": [
      "[Parallel(n_jobs=-1)]: Done   8 tasks      | elapsed:    3.6s\n"
     ]
    },
    {
     "name": "stdout",
     "output_type": "stream",
     "text": [
      "building tree 22 of 100\n",
      "building tree 23 of 100\n",
      "building tree 24 of 100\n",
      "building tree 25 of 100\n",
      "building tree 26 of 100\n",
      "building tree 27 of 100\n",
      "building tree 28 of 100\n",
      "building tree 29 of 100\n",
      "building tree 30 of 100\n",
      "building tree 31 of 100\n"
     ]
    },
    {
     "name": "stderr",
     "output_type": "stream",
     "text": [
      "[Parallel(n_jobs=-1)]: Done  17 tasks      | elapsed:    7.2s\n"
     ]
    },
    {
     "name": "stdout",
     "output_type": "stream",
     "text": [
      "building tree 32 of 100\n",
      "building tree 33 of 100\n",
      "building tree 34 of 100\n",
      "building tree 35 of 100\n",
      "building tree 36 of 100\n",
      "building tree 37 of 100\n",
      "building tree 38 of 100\n"
     ]
    },
    {
     "name": "stderr",
     "output_type": "stream",
     "text": [
      "[Parallel(n_jobs=-1)]: Done  26 tasks      | elapsed:   10.9s\n"
     ]
    },
    {
     "name": "stdout",
     "output_type": "stream",
     "text": [
      "building tree 39 of 100\n",
      "building tree 40 of 100\n",
      "building tree 41 of 100\n",
      "building tree 42 of 100\n",
      "building tree 43 of 100\n",
      "building tree 44 of 100\n",
      "building tree 45 of 100\n",
      "building tree 46 of 100\n",
      "building tree 47 of 100\n",
      "building tree 48 of 100\n",
      "building tree 49 of 100\n"
     ]
    },
    {
     "name": "stderr",
     "output_type": "stream",
     "text": [
      "[Parallel(n_jobs=-1)]: Done  37 tasks      | elapsed:   14.8s\n"
     ]
    },
    {
     "name": "stdout",
     "output_type": "stream",
     "text": [
      "building tree 50 of 100\n",
      "building tree 51 of 100\n",
      "building tree 52 of 100\n",
      "building tree 53 of 100\n",
      "building tree 54 of 100\n",
      "building tree 55 of 100\n",
      "building tree 56 of 100\n",
      "building tree 57 of 100\n",
      "building tree 58 of 100\n",
      "building tree 59 of 100\n"
     ]
    },
    {
     "name": "stderr",
     "output_type": "stream",
     "text": [
      "[Parallel(n_jobs=-1)]: Done  48 tasks      | elapsed:   16.1s\n"
     ]
    },
    {
     "name": "stdout",
     "output_type": "stream",
     "text": [
      "building tree 60 of 100\n",
      "building tree 61 of 100\n",
      "building tree 62 of 100\n",
      "building tree 63 of 100\n",
      "building tree 64 of 100\n",
      "building tree 65 of 100\n",
      "building tree 66 of 100\n",
      "building tree 67 of 100\n",
      "building tree 68 of 100\n",
      "building tree 69 of 100\n",
      "building tree 70 of 100\n",
      "building tree 71 of 100\n",
      "building tree 72 of 100\n",
      "building tree 73 of 100\n",
      "building tree 74 of 100\n",
      "building tree 75 of 100\n"
     ]
    },
    {
     "name": "stderr",
     "output_type": "stream",
     "text": [
      "[Parallel(n_jobs=-1)]: Done  61 tasks      | elapsed:   22.8s\n"
     ]
    },
    {
     "name": "stdout",
     "output_type": "stream",
     "text": [
      "building tree 76 of 100\n",
      "building tree 77 of 100\n",
      "building tree 78 of 100\n",
      "building tree 79 of 100\n",
      "building tree 80 of 100\n",
      "building tree 81 of 100\n",
      "building tree 82 of 100\n",
      "building tree 83 of 100\n",
      "building tree 84 of 100\n",
      "building tree 85 of 100\n",
      "building tree 86 of 100\n"
     ]
    },
    {
     "name": "stderr",
     "output_type": "stream",
     "text": [
      "[Parallel(n_jobs=-1)]: Done  74 tasks      | elapsed:   26.7s\n"
     ]
    },
    {
     "name": "stdout",
     "output_type": "stream",
     "text": [
      "building tree 87 of 100\n",
      "building tree 88 of 100\n",
      "building tree 89 of 100\n",
      "building tree 90 of 100\n",
      "building tree 91 of 100\n",
      "building tree 92 of 100\n",
      "building tree 93 of 100\n",
      "building tree 94 of 100\n",
      "building tree 95 of 100\n",
      "building tree 96 of 100\n",
      "building tree 97 of 100\n",
      "building tree 98 of 100\n",
      "building tree 99 of 100\n",
      "building tree 100 of 100\n"
     ]
    },
    {
     "name": "stderr",
     "output_type": "stream",
     "text": [
      "[Parallel(n_jobs=-1)]: Done  88 out of 100 | elapsed:   31.2s remaining:    4.2s\n",
      "[Parallel(n_jobs=-1)]: Done 100 out of 100 | elapsed:   33.5s finished\n"
     ]
    },
    {
     "data": {
      "text/plain": [
       "RandomForestClassifier(n_jobs=-1, random_state=0, verbose=10)"
      ]
     },
     "execution_count": 76,
     "metadata": {},
     "output_type": "execute_result"
    }
   ],
   "source": [
    "rf = RandomForestClassifier(random_state = 0, verbose = 10, n_jobs = -1)\n",
    "rf.fit(train_vec, train_bin_result)"
   ]
  },
  {
   "cell_type": "code",
   "execution_count": 77,
   "id": "d8bf65c3",
   "metadata": {},
   "outputs": [
    {
     "name": "stderr",
     "output_type": "stream",
     "text": [
      "[Parallel(n_jobs=12)]: Using backend ThreadingBackend with 12 concurrent workers.\n",
      "[Parallel(n_jobs=12)]: Done   1 tasks      | elapsed:    0.0s\n",
      "[Parallel(n_jobs=12)]: Done   8 tasks      | elapsed:    0.0s\n",
      "[Parallel(n_jobs=12)]: Done  17 tasks      | elapsed:    0.1s\n",
      "[Parallel(n_jobs=12)]: Done  26 tasks      | elapsed:    0.2s\n",
      "[Parallel(n_jobs=12)]: Done  37 tasks      | elapsed:    0.2s\n",
      "[Parallel(n_jobs=12)]: Done  48 tasks      | elapsed:    0.3s\n",
      "[Parallel(n_jobs=12)]: Done  61 tasks      | elapsed:    0.4s\n",
      "[Parallel(n_jobs=12)]: Done  74 tasks      | elapsed:    0.5s\n",
      "[Parallel(n_jobs=12)]: Done  88 out of 100 | elapsed:    0.6s remaining:    0.0s\n",
      "[Parallel(n_jobs=12)]: Done 100 out of 100 | elapsed:    0.6s finished\n"
     ]
    }
   ],
   "source": [
    "train_pred = rf.predict(train_vec)"
   ]
  },
  {
   "cell_type": "code",
   "execution_count": 78,
   "id": "7f28b580",
   "metadata": {},
   "outputs": [
    {
     "name": "stderr",
     "output_type": "stream",
     "text": [
      "[Parallel(n_jobs=12)]: Using backend ThreadingBackend with 12 concurrent workers.\n",
      "[Parallel(n_jobs=12)]: Done   1 tasks      | elapsed:    0.0s\n",
      "[Parallel(n_jobs=12)]: Done   8 tasks      | elapsed:    0.0s\n",
      "[Parallel(n_jobs=12)]: Done  17 tasks      | elapsed:    0.0s\n",
      "[Parallel(n_jobs=12)]: Done  26 tasks      | elapsed:    0.0s\n",
      "[Parallel(n_jobs=12)]: Done  37 tasks      | elapsed:    0.0s\n",
      "[Parallel(n_jobs=12)]: Done  48 tasks      | elapsed:    0.0s\n",
      "[Parallel(n_jobs=12)]: Done  61 tasks      | elapsed:    0.0s\n",
      "[Parallel(n_jobs=12)]: Done  74 tasks      | elapsed:    0.0s\n",
      "[Parallel(n_jobs=12)]: Done  88 out of 100 | elapsed:    0.0s remaining:    0.0s\n",
      "[Parallel(n_jobs=12)]: Done 100 out of 100 | elapsed:    0.0s finished\n"
     ]
    }
   ],
   "source": [
    "test_pred = rf.predict(test_vec)"
   ]
  },
  {
   "cell_type": "code",
   "execution_count": 79,
   "id": "bd697782",
   "metadata": {},
   "outputs": [
    {
     "name": "stdout",
     "output_type": "stream",
     "text": [
      "Without Mean\n",
      "Train Accuracy:  1.0\n",
      "Train Precision:  1.0\n",
      "Train Recall:  1.0\n",
      "Train F1:  1.0\n",
      "Test Accuracy:  0.9931668379996372\n",
      "Test Precision:  0.9931604221693011\n",
      "Test Recall:  0.9931668379996372\n",
      "Test F1:  0.9931629811950805\n"
     ]
    }
   ],
   "source": [
    "print(\"Without Mean\")\n",
    "print(\"Train Accuracy: \", accuracy_score(train_pred,train_bin_result))\n",
    "print(\"Train Precision: \", precision_score(train_pred,train_bin_result, average = 'weighted'))\n",
    "print(\"Train Recall: \", recall_score(train_pred,train_bin_result, average = 'weighted'))\n",
    "print(\"Train F1: \", f1_score(train_pred,train_bin_result, average = 'weighted'))\n",
    "print(\"Test Accuracy: \", accuracy_score(test_pred,test_bin_result))\n",
    "print(\"Test Precision: \", precision_score(test_pred,test_bin_result, average = 'weighted'))\n",
    "print(\"Test Recall: \", recall_score(test_pred,test_bin_result, average = 'weighted'))\n",
    "print(\"Test F1: \", f1_score(test_pred,test_bin_result, average = 'weighted'))"
   ]
  },
  {
   "cell_type": "code",
   "execution_count": 80,
   "id": "1346305d",
   "metadata": {},
   "outputs": [
    {
     "data": {
      "text/plain": [
       "RandomForestClassifier(n_jobs=-1, random_state=0, verbose=10)"
      ]
     },
     "execution_count": 80,
     "metadata": {},
     "output_type": "execute_result"
    }
   ],
   "source": [
    "rf = RandomForestClassifier(random_state = 0, verbose = 10, n_jobs = -1)\n",
    "rf.fit(train_data, train_bin_result)"
   ]
  },
  {
   "cell_type": "code",
   "execution_count": 81,
   "id": "9506fe8c",
   "metadata": {},
   "outputs": [],
   "source": [
    "train_pred = rf.predict(train_data)"
   ]
  },
  {
   "cell_type": "code",
   "execution_count": 82,
   "id": "5ecc4275",
   "metadata": {},
   "outputs": [],
   "source": [
    "test_pred = rf.predict(test_data)"
   ]
  },
  {
   "cell_type": "code",
   "execution_count": 83,
   "id": "f0f2baac",
   "metadata": {},
   "outputs": [
    {
     "name": "stdout",
     "output_type": "stream",
     "text": [
      "With Mean\n",
      "Train Accuracy:  1.0\n",
      "Train Precision:  1.0\n",
      "Train Recall:  1.0\n",
      "Train F1:  1.0\n",
      "Test Accuracy:  0.9932273084598173\n",
      "Test Precision:  0.9932246958992103\n",
      "Test Recall:  0.9932273084598173\n",
      "Test F1:  0.9932259163666421\n"
     ]
    }
   ],
   "source": [
    "print(\"With Mean\")\n",
    "print(\"Train Accuracy: \", accuracy_score(train_pred,train_bin_result))\n",
    "print(\"Train Precision: \", precision_score(train_pred,train_bin_result, average = 'weighted'))\n",
    "print(\"Train Recall: \", recall_score(train_pred,train_bin_result, average = 'weighted'))\n",
    "print(\"Train F1: \", f1_score(train_pred,train_bin_result, average = 'weighted'))\n",
    "print(\"Test Accuracy: \", accuracy_score(test_pred,test_bin_result))\n",
    "print(\"Test Precision: \", precision_score(test_pred,test_bin_result, average = 'weighted'))\n",
    "print(\"Test Recall: \", recall_score(test_pred,test_bin_result, average = 'weighted'))\n",
    "print(\"Test F1: \", f1_score(test_pred,test_bin_result, average = 'weighted'))"
   ]
  },
  {
   "cell_type": "code",
   "execution_count": 84,
   "id": "95a575c4",
   "metadata": {},
   "outputs": [],
   "source": [
    "# not much change or scope for change in metrics for binary"
   ]
  },
  {
   "cell_type": "code",
   "execution_count": null,
   "id": "a9557b8a",
   "metadata": {},
   "outputs": [],
   "source": []
  }
 ],
 "metadata": {
  "kernelspec": {
   "display_name": "Python 3",
   "language": "python",
   "name": "python3"
  },
  "language_info": {
   "codemirror_mode": {
    "name": "ipython",
    "version": 3
   },
   "file_extension": ".py",
   "mimetype": "text/x-python",
   "name": "python",
   "nbconvert_exporter": "python",
   "pygments_lexer": "ipython3",
   "version": "3.8.8"
  }
 },
 "nbformat": 4,
 "nbformat_minor": 5
}
